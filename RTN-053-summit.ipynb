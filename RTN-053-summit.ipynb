{
 "cells": [
  {
   "cell_type": "markdown",
   "id": "52405831-4160-4e55-96f1-6763a6493120",
   "metadata": {},
   "source": [
    "## 3.1 Data transferred and ingested in butler and access to data\n"
   ]
  },
  {
   "cell_type": "markdown",
   "id": "93c2ee07-2b51-4926-b904-31441aa52fd1",
   "metadata": {},
   "source": [
    "See if we can count images for some LATISS night  "
   ]
  },
  {
   "cell_type": "code",
   "execution_count": 29,
   "id": "6886f1f9-e461-4cb4-89d3-f1b966cac1b8",
   "metadata": {
    "execution": {
     "iopub.execute_input": "2023-05-10T14:54:57.978745Z",
     "iopub.status.busy": "2023-05-10T14:54:57.978461Z",
     "iopub.status.idle": "2023-05-10T14:54:58.864708Z",
     "shell.execute_reply": "2023-05-10T14:54:58.864253Z",
     "shell.execute_reply.started": "2023-05-10T14:54:57.978726Z"
    },
    "tags": []
   },
   "outputs": [
    {
     "name": "stdout",
     "output_type": "stream",
     "text": [
      "exposure: \n",
      "  instrument: str\n",
      "  id: int\n",
      "  physical_filter: str\n",
      "  obs_id: str\n",
      "  exposure_time: float\n",
      "  dark_time: float\n",
      "  observation_type: str\n",
      "  observation_reason: str\n",
      "  day_obs: int\n",
      "  seq_num: int\n",
      "  seq_start: int\n",
      "  seq_end: int\n",
      "  group_name: str\n",
      "  group_id: int\n",
      "  target_name: str\n",
      "  science_program: str\n",
      "  tracking_ra: float\n",
      "  tracking_dec: float\n",
      "  sky_angle: float\n",
      "  azimuth: float\n",
      "  zenith_angle: float\n",
      "  has_simulated: bool\n",
      "  timespan: lsst.daf.butler.Timespan\n"
     ]
    }
   ],
   "source": [
    "from lsst.daf.butler import Butler\n",
    "from lsst.daf.butler.registry import Registry\n",
    "\n",
    "repo = '/repo/LATISS'\n",
    "# raw all colleciton contains all images \n",
    "collections=['LATISS/raw/all']\n",
    "butler = Butler(repo, collections=collections)\n",
    "registry = butler.registry\n",
    "\n",
    "print(butler.registry.dimensions[\"exposure\"].RecordClass.fields)\n"
   ]
  },
  {
   "cell_type": "markdown",
   "id": "67e12627-50ab-4358-89fa-30d3bdf7e084",
   "metadata": {},
   "source": [
    "Get raws for a given night we list the first and last detector and exposure id since the test asks for that. For LATISS the detector is always 0. \n"
   ]
  },
  {
   "cell_type": "code",
   "execution_count": 35,
   "id": "8af5fe56-7e45-46cb-a33b-47ef5ba6889e",
   "metadata": {
    "execution": {
     "iopub.execute_input": "2023-05-10T15:07:30.741196Z",
     "iopub.status.busy": "2023-05-10T15:07:30.740914Z",
     "iopub.status.idle": "2023-05-10T15:07:30.812119Z",
     "shell.execute_reply": "2023-05-10T15:07:30.811685Z",
     "shell.execute_reply.started": "2023-05-10T15:07:30.741178Z"
    },
    "tags": []
   },
   "outputs": [
    {
     "name": "stdout",
     "output_type": "stream",
     "text": [
      "There are 572 raw in collection: ['LATISS/raw/all'] for exposure.day_obs = 20230509\n",
      "0 2023050900001\n",
      "0 2023050900572\n"
     ]
    }
   ],
   "source": [
    "\n",
    "dataId={'day_obs':20230509}\n",
    "\n",
    "dt='raw'\n",
    "where=\"exposure.day_obs = 20230509\"\n",
    "datasetRefs = list(registry.queryDatasets(datasetType=dt,where=where))\n",
    "\n",
    "print(f\"There are {len(datasetRefs)} {dt} in collection: {collections} for {where}\")\n",
    "\n",
    "count = 0\n",
    "for ref in datasetRefs[0], datasetRefs[-1]:\n",
    "    count = count + 1\n",
    "    print( ref.dataId['detector'], ref.dataId['exposure'])\n"
   ]
  },
  {
   "cell_type": "markdown",
   "id": "b72217c0-97dc-4f61-8984-6ca32928ce31",
   "metadata": {
    "tags": []
   },
   "source": [
    "Not needed for test but since we are her lets get the last spectrra."
   ]
  },
  {
   "cell_type": "code",
   "execution_count": 31,
   "id": "b027f428-e386-48a2-8fe1-6b8bcd24ed97",
   "metadata": {
    "execution": {
     "iopub.execute_input": "2023-05-10T14:55:32.081553Z",
     "iopub.status.busy": "2023-05-10T14:55:32.081162Z",
     "iopub.status.idle": "2023-05-10T14:55:53.589756Z",
     "shell.execute_reply": "2023-05-10T14:55:53.589245Z",
     "shell.execute_reply.started": "2023-05-10T14:55:32.081535Z"
    },
    "tags": []
   },
   "outputs": [
    {
     "data": {
      "text/html": [
       "<pre style=\"margin: 0.1em;\n",
       "padding-left: 0.25em;\n",
       "border-left-style: solid;\n",
       "font-family: var(--jp-code-font-family);\n",
       "font-size: var(--jp-code-font-size);\n",
       "line-height: var(--jp-code-line-height);\n",
       "\"><span style=\"color: var(--jp-warn-color2)\">lsst.obs.base._fitsRawFormatterBase</span> <span style=\"color: var(--jp-warn-color0)\">WARNING</span>: Cannot create a valid WCS from metadata: CRPIX1</pre>"
      ],
      "text/plain": [
       "<IPython.core.display.HTML object>"
      ]
     },
     "metadata": {},
     "output_type": "display_data"
    }
   ],
   "source": [
    "\n",
    "dataId = {'exposure': 2023050900572, 'detector': 0, }\n",
    "img = butler.get('raw', **dataId)\n"
   ]
  },
  {
   "cell_type": "markdown",
   "id": "252bbfae-89c7-4f36-adb2-62d01b925049",
   "metadata": {},
   "source": [
    "Now we have 1 image\n",
    "lets look at it  .. you do not need this following cell it is just in case you want to chekc the image.\n",
    "Firefly will pop up in another tab."
   ]
  },
  {
   "cell_type": "code",
   "execution_count": 34,
   "id": "7e509dd0-84f0-47a9-a1e6-91e0e2dc23d5",
   "metadata": {
    "execution": {
     "iopub.execute_input": "2023-05-10T14:56:17.993746Z",
     "iopub.status.busy": "2023-05-10T14:56:17.993470Z",
     "iopub.status.idle": "2023-05-10T14:56:19.343190Z",
     "shell.execute_reply": "2023-05-10T14:56:19.342697Z",
     "shell.execute_reply.started": "2023-05-10T14:56:17.993729Z"
    },
    "tags": []
   },
   "outputs": [],
   "source": [
    "import lsst.afw.display as afwDisplay\n",
    "\n",
    "display = afwDisplay.getDisplay(backend='firefly')\n",
    "\n",
    "display.mtv(img)\n",
    "\n"
   ]
  }
 ],
 "metadata": {
  "kernelspec": {
   "display_name": "LSST",
   "language": "python",
   "name": "lsst"
  },
  "language_info": {
   "codemirror_mode": {
    "name": "ipython",
    "version": 3
   },
   "file_extension": ".py",
   "mimetype": "text/x-python",
   "name": "python",
   "nbconvert_exporter": "python",
   "pygments_lexer": "ipython3",
   "version": "3.10.10"
  }
 },
 "nbformat": 4,
 "nbformat_minor": 5
}
