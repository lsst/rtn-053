{
 "cells": [
  {
   "cell_type": "markdown",
   "id": "93c2ee07-2b51-4926-b904-31441aa52fd1",
   "metadata": {},
   "source": [
    "See if we can count images for some LATISS night  "
   ]
  },
  {
   "cell_type": "code",
   "execution_count": null,
   "id": "2edc3edf-0474-42e0-beb0-d8712c308f71",
   "metadata": {},
   "outputs": [],
   "source": []
  },
  {
   "cell_type": "code",
   "execution_count": 28,
   "id": "6886f1f9-e461-4cb4-89d3-f1b966cac1b8",
   "metadata": {
    "execution": {
     "iopub.execute_input": "2023-05-09T22:19:00.432198Z",
     "iopub.status.busy": "2023-05-09T22:19:00.431925Z",
     "iopub.status.idle": "2023-05-09T22:19:01.229917Z",
     "shell.execute_reply": "2023-05-09T22:19:01.229327Z",
     "shell.execute_reply.started": "2023-05-09T22:19:00.432180Z"
    },
    "tags": []
   },
   "outputs": [
    {
     "name": "stdout",
     "output_type": "stream",
     "text": [
      " 27 collections\n",
      "LATISS/calib/DM-32742/unbounded\n",
      "LATISS/calib/DM-36484/biasGen.20221005a/20221006T000101Z\n",
      "LATISS/calib/DM-36484/darkGen.20221006a/20221006T222921Z\n",
      "LATISS/calib/DM-36484/flatGen-SDSSg.20221006a/20221007T002703Z\n",
      "LATISS/calib/DM-36484/flatGen-SDSSi.20221006a/20221007T003732Z\n",
      "LATISS/calib/DM-36484/flatGen-SDSSr.20221006a/20221006T233657Z\n",
      "LATISS/calib/DM-36719/biasGen.20221107b/20221107T213306Z\n",
      "LATISS/calib/DM-36719/darkGen.20221107a/20221107T223409Z\n",
      "LATISS/calib/DM-36719/flatGen-SDSSg.20221107a/20221108T002737Z\n",
      "LATISS/calib/DM-36719/flatGen-SDSSi.20221107a/20221108T005202Z\n",
      "LATISS/calib/DM-36719/flatGen-SDSSr.20221107a/20221107T235401Z\n",
      "LATISS/calib/curated/19700101T000000Z\n",
      "LATISS/calib/curated/20180101T000000Z\n",
      "LATISS/calib/unbounded\n",
      "LATISS/raw/all\n",
      "LATISS/runs/quickLook/1\n",
      "LATISS/runs/quickLook/20220915T174032Z\n",
      "LATISS/runs/quickLook/20220915T174144Z\n",
      "LATISS/runs/quickLook/20221223T232628Z\n",
      "LATISS/calib/DM-37587/flatGen-BG40.20230113a/20230113T211456Z\n",
      "LATISS/calib/DM-37587/flatGen-OG550.20230113b/20230113T213305Z\n",
      "LATISS/calib/DM-37587/flatGen-SDSSr.20230113c/20230113T214159Z\n",
      "LATISS/calib/DM-38946/noRGseq/biasGen.20230428a/20230428T210637Z\n",
      "LATISS/calib/DM-38946/noRGseq/darkGen.20230428a/20230428T213424Z\n",
      "LATISS/calib/DM-38946/noRGseq/flatGen-g.20230501a/20230501T203920Z\n",
      "LATISS/calib/DM-38946/noRGseq/flatGen-i.20230501a/20230501T211541Z\n",
      "LATISS/calib/DM-38946/noRGseq/flatGen-r.20230501a/20230501T205909Z\n"
     ]
    }
   ],
   "source": [
    "from lsst.daf.butler import Butler\n",
    "from lsst.daf.butler.registry import Registry\n",
    "\n",
    "repo = '/repo/LATISS'\n",
    "butler = Butler(repo)\n",
    "registry = butler.registry\n",
    "\n",
    "#collections = registry.queryCollections(datasetType='calexp', collectionTypes=[1])\n",
    "collections = registry.queryCollections(\"LATISS*\", datasetType='calexp', collectionTypes=[1])\n",
    "print(f\" {len(collections)} collections\")\n",
    "for c in collections :\n",
    "    print(c)\n"
   ]
  },
  {
   "cell_type": "code",
   "execution_count": 29,
   "id": "8af5fe56-7e45-46cb-a33b-47ef5ba6889e",
   "metadata": {
    "execution": {
     "iopub.execute_input": "2023-05-09T22:22:27.796534Z",
     "iopub.status.busy": "2023-05-09T22:22:27.796253Z",
     "iopub.status.idle": "2023-05-09T22:22:27.901051Z",
     "shell.execute_reply": "2023-05-09T22:22:27.900425Z",
     "shell.execute_reply.started": "2023-05-09T22:22:27.796517Z"
    },
    "tags": []
   },
   "outputs": [
    {
     "name": "stdout",
     "output_type": "stream",
     "text": [
      "There are 13 * in collection: ['LATISS/runs/quickLook/20220915T174032Z', 'LATISS/calib/curated/20180101T000000Z']\n",
      "DatasetType('defects', {instrument, detector}, Defects, isCalibration=True) {instrument: 'LATISS', detector: 0}\n",
      "DatasetType('quickLookTask_config', {}, Config) {}\n",
      "DatasetType('quickLookTask_log', {band, instrument, detector, physical_filter, exposure}, ButlerLogRecords) {instrument: 'LATISS', detector: 0, exposure: 2022090500042, ...}\n",
      "DatasetType('quickLookTask_log', {band, instrument, detector, physical_filter, exposure}, ButlerLogRecords) {instrument: 'LATISS', detector: 0, exposure: 2022090500046, ...}\n",
      "DatasetType('quickLookTask_log', {band, instrument, detector, physical_filter, exposure}, ButlerLogRecords) {instrument: 'LATISS', detector: 0, exposure: 2022090500076, ...}\n",
      "DatasetType('quickLookTask_log', {band, instrument, detector, physical_filter, exposure}, ButlerLogRecords) {instrument: 'LATISS', detector: 0, exposure: 2022090500079, ...}\n"
     ]
    }
   ],
   "source": [
    "#collection='LATISS/raw/all'\n",
    "collections=['LATISS/runs/quickLook/20220915T174032Z', 'LATISS/calib/curated/20180101T000000Z']\n",
    "dt='*'\n",
    "datasetRefs = list(registry.queryDatasets(datasetType=dt,collections=collections))\n",
    "\n",
    "print(f\"There are {len(datasetRefs)} {dt} in collection: {collections}\")\n",
    "\n",
    "count = 0\n",
    "for ref in datasetRefs:\n",
    "    count = count + 1\n",
    "    print(ref.datasetType, ref.dataId)\n",
    "    if (count > 5): \n",
    "        break\n"
   ]
  },
  {
   "cell_type": "markdown",
   "id": "b72217c0-97dc-4f61-8984-6ca32928ce31",
   "metadata": {
    "tags": []
   },
   "source": [
    "Listing the images you want will have to be done with butler\n",
    "Using one of the tutorial queries  -"
   ]
  },
  {
   "cell_type": "code",
   "execution_count": null,
   "id": "b027f428-e386-48a2-8fe1-6b8bcd24ed97",
   "metadata": {
    "execution": {
     "iopub.status.busy": "2023-05-05T22:21:52.811362Z",
     "iopub.status.idle": "2023-05-05T22:21:52.811754Z",
     "shell.execute_reply": "2023-05-05T22:21:52.811631Z",
     "shell.execute_reply.started": "2023-05-05T22:21:52.811619Z"
    },
    "tags": []
   },
   "outputs": [],
   "source": [
    "butler = Butler(repo, collections=collection)\n",
    "dataId = {'visit': 2023031500159, 'detector': 0, }\n",
    "calexp = butler.get('calexp', **dataId)\n"
   ]
  },
  {
   "cell_type": "code",
   "execution_count": null,
   "id": "a3ea2cd2-9d74-4992-9f98-a3f5074f6213",
   "metadata": {
    "execution": {
     "iopub.status.busy": "2023-05-05T22:21:52.813677Z",
     "iopub.status.idle": "2023-05-05T22:21:52.814124Z",
     "shell.execute_reply": "2023-05-05T22:21:52.814021Z",
     "shell.execute_reply.started": "2023-05-05T22:21:52.814011Z"
    },
    "tags": []
   },
   "outputs": [],
   "source": [
    "print(calexp)"
   ]
  },
  {
   "cell_type": "markdown",
   "id": "2b55cba3-6a19-450d-b1a0-35b88601bd91",
   "metadata": {},
   "source": [
    "That was a bit specific we can get a broader set ..."
   ]
  },
  {
   "cell_type": "markdown",
   "id": "252bbfae-89c7-4f36-adb2-62d01b925049",
   "metadata": {},
   "source": [
    "Now we have 1 image\n",
    "lets look at this one calexp .. you do not need this following cell it is just in case you want to chekc the image."
   ]
  },
  {
   "cell_type": "code",
   "execution_count": null,
   "id": "7e509dd0-84f0-47a9-a1e6-91e0e2dc23d5",
   "metadata": {
    "execution": {
     "iopub.status.busy": "2023-05-05T22:21:52.816077Z",
     "iopub.status.idle": "2023-05-05T22:21:52.816428Z",
     "shell.execute_reply": "2023-05-05T22:21:52.816317Z",
     "shell.execute_reply.started": "2023-05-05T22:21:52.816306Z"
    },
    "tags": []
   },
   "outputs": [],
   "source": [
    "import lsst.afw.display as afwDisplay\n",
    "\n",
    "display = afwDisplay.getDisplay(backend='firefly')\n",
    "\n",
    "display.mtv(calexp)\n",
    "\n"
   ]
  }
 ],
 "metadata": {
  "kernelspec": {
   "display_name": "LSST",
   "language": "python",
   "name": "lsst"
  },
  "language_info": {
   "codemirror_mode": {
    "name": "ipython",
    "version": 3
   },
   "file_extension": ".py",
   "mimetype": "text/x-python",
   "name": "python",
   "nbconvert_exporter": "python",
   "pygments_lexer": "ipython3",
   "version": "3.10.10"
  }
 },
 "nbformat": 4,
 "nbformat_minor": 5
}
