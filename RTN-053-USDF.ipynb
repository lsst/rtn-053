{
 "cells": [
  {
   "cell_type": "markdown",
   "id": "93c2ee07-2b51-4926-b904-31441aa52fd1",
   "metadata": {},
   "source": [
    "## 3.1 Data transferred and ingested in butler and access to data\n",
    "\n",
    "Get the same ras as we did on the summit"
   ]
  },
  {
   "cell_type": "code",
<<<<<<< HEAD
   "execution_count": 6,
   "id": "6886f1f9-e461-4cb4-89d3-f1b966cac1b8",
   "metadata": {
    "execution": {
     "iopub.execute_input": "2023-05-16T20:18:12.770464Z",
     "iopub.status.busy": "2023-05-16T20:18:12.770226Z",
     "iopub.status.idle": "2023-05-16T20:18:15.178711Z",
     "shell.execute_reply": "2023-05-16T20:18:15.178191Z",
     "shell.execute_reply.started": "2023-05-16T20:18:12.770442Z"
=======
   "execution_count": 16,
   "id": "6886f1f9-e461-4cb4-89d3-f1b966cac1b8",
   "metadata": {
    "execution": {
     "iopub.execute_input": "2023-05-16T18:12:38.519984Z",
     "iopub.status.busy": "2023-05-16T18:12:38.519521Z",
     "iopub.status.idle": "2023-05-16T18:12:40.754449Z",
     "shell.execute_reply": "2023-05-16T18:12:40.753844Z",
     "shell.execute_reply.started": "2023-05-16T18:12:38.519969Z"
>>>>>>> 1ffffd1 ( notebook for summit)
    },
    "tags": []
   },
   "outputs": [
    {
     "name": "stdout",
     "output_type": "stream",
     "text": [
      "LATISS/raw/all\n"
     ]
    }
   ],
   "source": [
    "from lsst.daf.butler import Butler\n",
    "from lsst.daf.butler.registry import Registry\n",
    "import sqlalchemy\n",
    "\n",
    "repo = '/repo/embargo'\n",
    "# raw all colleciton contains all images \n",
    "collections=['LATISS/raw/all']\n",
<<<<<<< HEAD
    "butler = Butler(repo, collections=\"LATISS/raw/all\", instrument=\"LATISS\")\n",
=======
    "butler = Butler(repo)\n",
>>>>>>> 1ffffd1 ( notebook for summit)
    "cols = butler.registry.queryCollections(\"*LATISS*raw*\")\n",
    "for c in cols :\n",
    "    print(c)\n",
    "\n",
    "\n",
    "butler = Butler(repo, collections=collections)\n",
    "registry = butler.registry\n",
    "\n"
   ]
  },
  {
   "cell_type": "code",
<<<<<<< HEAD
   "execution_count": 7,
   "id": "8af5fe56-7e45-46cb-a33b-47ef5ba6889e",
   "metadata": {
    "execution": {
     "iopub.execute_input": "2023-05-16T20:18:15.773637Z",
     "iopub.status.busy": "2023-05-16T20:18:15.773443Z",
     "iopub.status.idle": "2023-05-16T20:18:15.830337Z",
     "shell.execute_reply": "2023-05-16T20:18:15.829936Z",
     "shell.execute_reply.started": "2023-05-16T20:18:15.773620Z"
=======
   "execution_count": 32,
   "id": "8af5fe56-7e45-46cb-a33b-47ef5ba6889e",
   "metadata": {
    "execution": {
     "iopub.execute_input": "2023-05-16T18:30:48.081546Z",
     "iopub.status.busy": "2023-05-16T18:30:48.081325Z",
     "iopub.status.idle": "2023-05-16T18:30:48.126859Z",
     "shell.execute_reply": "2023-05-16T18:30:48.126498Z",
     "shell.execute_reply.started": "2023-05-16T18:30:48.081532Z"
>>>>>>> 1ffffd1 ( notebook for summit)
    },
    "tags": []
   },
   "outputs": [
    {
     "name": "stdout",
     "output_type": "stream",
     "text": [
<<<<<<< HEAD
      "There are 592 raw in collection: ['LATISS/raw/all'] in: /repo/embargo for exposure.day_obs = 20230511\n",
      "0 2023051100001\n",
      "0 2023051100599\n"
=======
      "There are 138 raw in collection: ['LATISS/raw/all'] in: /repo/embargo for exposure.day_obs = 20230505\n",
      "0 2023050500001\n",
      "0 2023050500138\n"
>>>>>>> 1ffffd1 ( notebook for summit)
     ]
    }
   ],
   "source": [
<<<<<<< HEAD
    "\n",
    "dt='raw'\n",
    "where=\"exposure.day_obs = 20230511\"\n",
=======
    "dataId={'day_obs':20230509}\n",
    "\n",
    "dt='raw'\n",
    "where=\"exposure.day_obs = 20230505\"\n",
>>>>>>> 1ffffd1 ( notebook for summit)
    "datasetRefs = list(registry.queryDatasets(datasetType=dt,where=where))\n",
    "\n",
    "print(f\"There are {len(datasetRefs)} {dt} in collection: {collections} in: {repo} for {where}\")\n",
    "\n",
    "count = 0\n",
    "for ref in datasetRefs[0], datasetRefs[-1]:\n",
    "    count = count + 1\n",
    "    print( ref.dataId['detector'], ref.dataId['exposure'])\n",
    "\n"
   ]
  },
  {
   "cell_type": "code",
<<<<<<< HEAD
   "execution_count": 8,
   "id": "32609f2b-555d-4865-b1f6-5cb82431ce39",
   "metadata": {
    "execution": {
     "iopub.execute_input": "2023-05-16T20:18:20.801017Z",
     "iopub.status.busy": "2023-05-16T20:18:20.800794Z",
     "iopub.status.idle": "2023-05-16T20:18:20.804121Z",
     "shell.execute_reply": "2023-05-16T20:18:20.803731Z",
     "shell.execute_reply.started": "2023-05-16T20:18:20.801001Z"
=======
   "execution_count": 33,
   "id": "32609f2b-555d-4865-b1f6-5cb82431ce39",
   "metadata": {
    "execution": {
     "iopub.execute_input": "2023-05-16T18:30:51.017852Z",
     "iopub.status.busy": "2023-05-16T18:30:51.017632Z",
     "iopub.status.idle": "2023-05-16T18:30:51.020548Z",
     "shell.execute_reply": "2023-05-16T18:30:51.020203Z",
     "shell.execute_reply.started": "2023-05-16T18:30:51.017833Z"
>>>>>>> 1ffffd1 ( notebook for summit)
    },
    "tags": []
   },
   "outputs": [],
   "source": [
    "#Make a map of thoose for look up below .. \n",
    "dslookup = {}\n",
    "for ref in datasetRefs:\n",
    "    dslookup[ref.dataId['exposure']] = ref"
   ]
  },
  {
   "cell_type": "markdown",
   "id": "b72217c0-97dc-4f61-8984-6ca32928ce31",
   "metadata": {
    "tags": []
   },
   "source": [
    "### latency ..\n",
    "\"Measure the delays between completion of readout for each image and the ingestion time recorded in the Butler Registry.\"\n",
    "The end of readou is the exposure.timespan.end.\n",
    "Will have to lookup the ingest time usinf a sql query sine is not exposed directly in butler."
   ]
  },
  {
   "cell_type": "code",
<<<<<<< HEAD
   "execution_count": 11,
   "id": "b027f428-e386-48a2-8fe1-6b8bcd24ed97",
   "metadata": {
    "execution": {
     "iopub.execute_input": "2023-05-16T20:25:03.784726Z",
     "iopub.status.busy": "2023-05-16T20:25:03.784485Z",
     "iopub.status.idle": "2023-05-16T20:25:04.554055Z",
     "shell.execute_reply": "2023-05-16T20:25:04.553625Z",
     "shell.execute_reply.started": "2023-05-16T20:25:03.784710Z"
=======
   "execution_count": 34,
   "id": "b027f428-e386-48a2-8fe1-6b8bcd24ed97",
   "metadata": {
    "execution": {
     "iopub.execute_input": "2023-05-16T18:30:55.075447Z",
     "iopub.status.busy": "2023-05-16T18:30:55.075047Z",
     "iopub.status.idle": "2023-05-16T18:30:55.289812Z",
     "shell.execute_reply": "2023-05-16T18:30:55.289212Z",
     "shell.execute_reply.started": "2023-05-16T18:30:55.075430Z"
>>>>>>> 1ffffd1 ( notebook for summit)
    },
    "tags": []
   },
   "outputs": [
    {
     "name": "stdout",
     "output_type": "stream",
     "text": [
<<<<<<< HEAD
      "Got Metadata for 592 exposures\n",
      "The min time was 0.19347863333343263 max time was 0.5866245333332909 minutes\n",
      "Time between shutter close and ingest mean:0.23482382218469838, std:0.018058551157743862, var:0.0003261112699168522 minutes\n"
=======
      "Got Metadata for 138 exposures\n",
      "The min time was 2.696276116666727 max time was 10.21479046666661 minutes\n",
      "Time between shutter close and ingest mean:5.4056913442029195, std:1.9467945347980924, var:3.7900089607197214 minutes\n"
>>>>>>> 1ffffd1 ( notebook for summit)
     ]
    }
   ],
   "source": [
    "from astropy import time\n",
    "\n",
<<<<<<< HEAD
    "res = butler.registry.queryDimensionRecords('exposure', where=where, instrument=\"LATISS\")\n",
=======
    "res = butler.registry.queryDimensionRecords('exposure', where=where)\n",
>>>>>>> 1ffffd1 ( notebook for summit)
    "print (f\"Got Metadata for {res.count()} exposures\")\n",
    "times = []\n",
    "min = 100\n",
    "max = 0\n",
    "for count,r in enumerate(res):\n",
    "    dr = dslookup[r.id]\n",
    "    id = dr.id\n",
    "    \n",
    "    if r.id != dr.dataId['exposure']:\n",
    "        print(f\"The sets do not match up {r.id} != {dr.dataId['exposure']}\")\n",
    "        break\n",
    "    q_string = f\"SELECT ingest_date FROM oga.dataset WHERE id='{id}'\"\n",
    "    with registry._db.query(sqlalchemy.text(q_string)) as q:\n",
    "        intime = time.Time(q.all()[0][0])\n",
    "        \n",
    "    diff = (intime - r.timespan.end ).to('minute')\n",
    "    if diff.value < min:\n",
    "        min = diff.value\n",
    "    if diff.value > max:\n",
    "        max = diff.value \n",
<<<<<<< HEAD
    "    # print(r.id,r.timespan.end, intime, diff )\n",
=======
    "    #print(r.id,r.timespan.end, intime, diff )\n",
>>>>>>> 1ffffd1 ( notebook for summit)
    "    times.append(diff.value)\n",
    "    \n",
    "import numpy as np\n",
    "print (f\"The min time was {min} max time was {max} minutes\")\n",
    "print (f\"Time between shutter close and ingest mean:{np.mean(times)}, std:{np.std(times)}, var:{np.var(times)} minutes\")"
   ]
<<<<<<< HEAD
  },
  {
   "cell_type": "code",
   "execution_count": null,
   "id": "67b6ec50-5d87-4b1c-93b8-befbca730516",
   "metadata": {},
   "outputs": [],
   "source": []
=======
>>>>>>> 1ffffd1 ( notebook for summit)
  }
 ],
 "metadata": {
  "kernelspec": {
   "display_name": "LSST",
   "language": "python",
   "name": "lsst"
  },
  "language_info": {
   "codemirror_mode": {
    "name": "ipython",
    "version": 3
   },
   "file_extension": ".py",
   "mimetype": "text/x-python",
   "name": "python",
   "nbconvert_exporter": "python",
   "pygments_lexer": "ipython3",
<<<<<<< HEAD
   "version": "3.10.10"
=======
   "version": "3.10.9"
>>>>>>> 1ffffd1 ( notebook for summit)
  }
 },
 "nbformat": 4,
 "nbformat_minor": 5
}
