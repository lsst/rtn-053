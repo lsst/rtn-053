{
 "cells": [
  {
   "cell_type": "markdown",
   "id": "93c2ee07-2b51-4926-b904-31441aa52fd1",
   "metadata": {},
   "source": [
    "## 3.1 Data transferred and ingested in butler and access to data\n",
    "\n",
    "Get the same ras as we did on the summit"
   ]
  },
  {
   "cell_type": "code",
   "execution_count": 3,
   "id": "6886f1f9-e461-4cb4-89d3-f1b966cac1b8",
   "metadata": {
    "execution": {
     "iopub.execute_input": "2023-05-10T15:30:18.804976Z",
     "iopub.status.busy": "2023-05-10T15:30:18.804487Z",
     "iopub.status.idle": "2023-05-10T15:30:21.227726Z",
     "shell.execute_reply": "2023-05-10T15:30:21.227210Z",
     "shell.execute_reply.started": "2023-05-10T15:30:18.804959Z"
    },
    "tags": []
   },
   "outputs": [
    {
     "name": "stdout",
     "output_type": "stream",
     "text": [
      "LATISS/raw/all\n"
     ]
    }
   ],
   "source": [
    "from lsst.daf.butler import Butler\n",
    "from lsst.daf.butler.registry import Registry\n",
    "\n",
    "repo = '/repo/embargo'\n",
    "# raw all colleciton contains all images \n",
    "collections=['LATISS/raw/all']\n",
    "butler = Butler(repo)\n",
    "cols = butler.registry.queryCollections(\"*LATISS*raw*\")\n",
    "for c in cols :\n",
    "    print(c)\n",
    "\n",
    "\n",
    "butler = Butler(repo, collections=collections)\n",
    "registry = butler.registry\n",
    "\n"
   ]
  },
  {
   "cell_type": "code",
   "execution_count": 5,
   "id": "8af5fe56-7e45-46cb-a33b-47ef5ba6889e",
   "metadata": {
    "execution": {
     "iopub.execute_input": "2023-05-10T15:32:11.425294Z",
     "iopub.status.busy": "2023-05-10T15:32:11.424956Z",
     "iopub.status.idle": "2023-05-10T15:32:11.473753Z",
     "shell.execute_reply": "2023-05-10T15:32:11.473299Z",
     "shell.execute_reply.started": "2023-05-10T15:32:11.425276Z"
    },
    "tags": []
   },
   "outputs": [
    {
     "name": "stdout",
     "output_type": "stream",
     "text": [
      "There are 572 raw in collection: ['LATISS/raw/all'] in: /repo/embargo for exposure.day_obs = 20230509\n",
      "0 2023050900001\n",
      "0 2023050900572\n"
     ]
    }
   ],
   "source": [
    "dataId={'day_obs':20230509}\n",
    "\n",
    "dt='raw'\n",
    "where=\"exposure.day_obs = 20230509\"\n",
    "datasetRefs = list(registry.queryDatasets(datasetType=dt,where=where))\n",
    "\n",
    "print(f\"There are {len(datasetRefs)} {dt} in collection: {collections} in: {repo} for {where}\")\n",
    "\n",
    "count = 0\n",
    "for ref in datasetRefs[0], datasetRefs[-1]:\n",
    "    count = count + 1\n",
    "    print( ref.dataId['detector'], ref.dataId['exposure'])\n",
    "\n"
   ]
  },
  {
   "cell_type": "markdown",
   "id": "b72217c0-97dc-4f61-8984-6ca32928ce31",
   "metadata": {
    "tags": []
   },
   "source": [
    "### latency .."
   ]
  },
  {
   "cell_type": "code",
   "execution_count": null,
   "id": "b027f428-e386-48a2-8fe1-6b8bcd24ed97",
   "metadata": {
    "execution": {
     "iopub.status.busy": "2023-05-10T15:27:31.043488Z",
     "iopub.status.idle": "2023-05-10T15:27:31.043704Z",
     "shell.execute_reply": "2023-05-10T15:27:31.043604Z",
     "shell.execute_reply.started": "2023-05-10T15:27:31.043593Z"
    },
    "tags": []
   },
   "outputs": [],
   "source": [
    "for ref in dataRefs:\n",
    "    print(ref.dataId['"
   ]
  },
  {
   "cell_type": "code",
   "execution_count": null,
   "id": "a3ea2cd2-9d74-4992-9f98-a3f5074f6213",
   "metadata": {
    "execution": {
     "iopub.status.busy": "2023-05-10T15:27:31.045410Z",
     "iopub.status.idle": "2023-05-10T15:27:31.045591Z",
     "shell.execute_reply": "2023-05-10T15:27:31.045507Z",
     "shell.execute_reply.started": "2023-05-10T15:27:31.045498Z"
    },
    "tags": []
   },
   "outputs": [],
   "source": [
    "print(calexp)"
   ]
  },
  {
   "cell_type": "markdown",
   "id": "2b55cba3-6a19-450d-b1a0-35b88601bd91",
   "metadata": {},
   "source": [
    "That was a bit specific we can get a broader set ..."
   ]
  },
  {
   "cell_type": "markdown",
   "id": "252bbfae-89c7-4f36-adb2-62d01b925049",
   "metadata": {},
   "source": [
    "Now we have 1 image\n",
    "lets look at this one calexp .. you do not need this following cell it is just in case you want to chekc the image."
   ]
  }
 ],
 "metadata": {
  "kernelspec": {
   "display_name": "LSST",
   "language": "python",
   "name": "lsst"
  },
  "language_info": {
   "codemirror_mode": {
    "name": "ipython",
    "version": 3
   },
   "file_extension": ".py",
   "mimetype": "text/x-python",
   "name": "python",
   "nbconvert_exporter": "python",
   "pygments_lexer": "ipython3",
   "version": "3.10.10"
  }
 },
 "nbformat": 4,
 "nbformat_minor": 5
}
