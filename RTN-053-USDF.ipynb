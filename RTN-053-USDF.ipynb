{
 "cells": [
  {
   "cell_type": "markdown",
   "id": "93c2ee07-2b51-4926-b904-31441aa52fd1",
   "metadata": {},
   "source": [
    "## 3.1 Data transferred and ingested in butler and access to data\n",
    "\n",
    "Get the same ras as we did on the summit"
   ]
  },
  {
   "cell_type": "code",
   "execution_count": 90,
   "id": "6886f1f9-e461-4cb4-89d3-f1b966cac1b8",
   "metadata": {
    "execution": {
     "iopub.execute_input": "2023-05-10T23:02:24.697045Z",
     "iopub.status.busy": "2023-05-10T23:02:24.696381Z",
     "iopub.status.idle": "2023-05-10T23:02:27.111757Z",
     "shell.execute_reply": "2023-05-10T23:02:27.111335Z",
     "shell.execute_reply.started": "2023-05-10T23:02:24.697026Z"
    },
    "tags": []
   },
   "outputs": [
    {
     "name": "stdout",
     "output_type": "stream",
     "text": [
      "LATISS/raw/all\n"
     ]
    }
   ],
   "source": [
    "from lsst.daf.butler import Butler\n",
    "from lsst.daf.butler.registry import Registry\n",
    "import sqlalchemy\n",
    "\n",
    "repo = '/repo/embargo'\n",
    "# raw all colleciton contains all images \n",
    "collections=['LATISS/raw/all']\n",
    "butler = Butler(repo)\n",
    "cols = butler.registry.queryCollections(\"*LATISS*raw*\")\n",
    "for c in cols :\n",
    "    print(c)\n",
    "\n",
    "\n",
    "butler = Butler(repo, collections=collections)\n",
    "registry = butler.registry\n",
    "\n"
   ]
  },
  {
   "cell_type": "code",
   "execution_count": 91,
   "id": "8af5fe56-7e45-46cb-a33b-47ef5ba6889e",
   "metadata": {
    "execution": {
     "iopub.execute_input": "2023-05-10T23:02:27.112645Z",
     "iopub.status.busy": "2023-05-10T23:02:27.112508Z",
     "iopub.status.idle": "2023-05-10T23:02:27.164539Z",
     "shell.execute_reply": "2023-05-10T23:02:27.164200Z",
     "shell.execute_reply.started": "2023-05-10T23:02:27.112631Z"
    },
    "tags": []
   },
   "outputs": [
    {
     "name": "stdout",
     "output_type": "stream",
     "text": [
      "There are 572 raw in collection: ['LATISS/raw/all'] in: /repo/embargo for exposure.day_obs = 20230509\n",
      "0 2023050900001\n",
      "0 2023050900572\n"
     ]
    }
   ],
   "source": [
    "dataId={'day_obs':20230509}\n",
    "\n",
    "dt='raw'\n",
    "where=\"exposure.day_obs = 20230509\"\n",
    "datasetRefs = list(registry.queryDatasets(datasetType=dt,where=where))\n",
    "\n",
    "print(f\"There are {len(datasetRefs)} {dt} in collection: {collections} in: {repo} for {where}\")\n",
    "\n",
    "count = 0\n",
    "for ref in datasetRefs[0], datasetRefs[-1]:\n",
    "    count = count + 1\n",
    "    print( ref.dataId['detector'], ref.dataId['exposure'])\n",
    "\n"
   ]
  },
  {
   "cell_type": "markdown",
   "id": "b72217c0-97dc-4f61-8984-6ca32928ce31",
   "metadata": {
    "tags": []
   },
   "source": [
    "### latency ..\n",
    "\"Measure the delays between completion of readout for each image and the ingestion time recorded in the Butler Registry.\"\n",
    "The end of readou is the exposure.timespan.end.\n",
    "Will have to lookup the ingest time usinf a sql query sine is not exposed directly in butler."
   ]
  },
  {
   "cell_type": "code",
   "execution_count": 92,
   "id": "9b8340a0-5927-4e81-9326-e3a3d040b2de",
   "metadata": {
    "execution": {
     "iopub.execute_input": "2023-05-10T23:02:27.182132Z",
     "iopub.status.busy": "2023-05-10T23:02:27.181995Z",
     "iopub.status.idle": "2023-05-10T23:02:27.185347Z",
     "shell.execute_reply": "2023-05-10T23:02:27.185000Z",
     "shell.execute_reply.started": "2023-05-10T23:02:27.182120Z"
    },
    "tags": []
   },
   "outputs": [
    {
     "name": "stdout",
     "output_type": "stream",
     "text": [
      "c7f22148-73dd-5a4c-9d55-4a644a1f93eb\n",
      "[(UUID('c7f22148-73dd-5a4c-9d55-4a644a1f93eb'), 1, datetime.datetime(2023, 5, 9, 19, 37, 11, 321657), 1)]\n"
     ]
    }
   ],
   "source": [
    "id = datasetRefs[0].id\n",
    "print (id)\n",
    "q_string = f\"SELECT * FROM oga.dataset WHERE id='{id}'\"\n",
    "with registry._db.query(sqlalchemy.text(q_string)) as q:\n",
    "    rec = q.all()\n",
    "    print(rec)\n",
    "\n"
   ]
  },
  {
   "cell_type": "code",
   "execution_count": 100,
   "id": "b027f428-e386-48a2-8fe1-6b8bcd24ed97",
   "metadata": {
    "execution": {
     "iopub.execute_input": "2023-05-10T23:09:57.289369Z",
     "iopub.status.busy": "2023-05-10T23:09:57.288959Z",
     "iopub.status.idle": "2023-05-10T23:09:58.001421Z",
     "shell.execute_reply": "2023-05-10T23:09:58.001031Z",
     "shell.execute_reply.started": "2023-05-10T23:09:57.289353Z"
    },
    "tags": []
   },
   "outputs": [
    {
     "name": "stdout",
     "output_type": "stream",
     "text": [
      "Got Metadata for 572 exposures\n",
      "Time between shutter close and ingest mean:3.979185934702819, std:0.8598480922734872, var:0.7393387417863555 minutes\n"
     ]
    }
   ],
   "source": [
    "from astropy import time\n",
    "\n",
    "res = butler.registry.queryDimensionRecords('exposure', where=where)\n",
    "print (f\"Got Metadata for {res.count()} exposures\")\n",
    "times = []\n",
    "for count,r in enumerate(res):\n",
    "    dr = datasetRefs[count]\n",
    "    id = dr.id\n",
    "    \n",
    "    if r.id != dr.dataId['exposure']:\n",
    "        print(f\" The sets to not match up {r.id} != {dr.dataId['exposure']}\")\n",
    "        break\n",
    "    q_string = f\"SELECT ingest_date FROM oga.dataset WHERE id='{id}'\"\n",
    "    with registry._db.query(sqlalchemy.text(q_string)) as q:\n",
    "        intime = time.Time(q.all()[0][0])\n",
    "        \n",
    "    diff = (intime - r.timespan.end ).to('minute')\n",
    "    #print(r.id,r.timespan.end, intime, diff )\n",
    "    times.append(diff.value)\n",
    "    \n",
    "import numpy as np\n",
    "\n",
    "print (f\"Time between shutter close and ingest mean:{np.mean(times)}, std:{np.std(times)}, var:{np.var(times)} minutes\")"
   ]
  }
 ],
 "metadata": {
  "kernelspec": {
   "display_name": "LSST",
   "language": "python",
   "name": "lsst"
  },
  "language_info": {
   "codemirror_mode": {
    "name": "ipython",
    "version": 3
   },
   "file_extension": ".py",
   "mimetype": "text/x-python",
   "name": "python",
   "nbconvert_exporter": "python",
   "pygments_lexer": "ipython3",
   "version": "3.10.10"
  }
 },
 "nbformat": 4,
 "nbformat_minor": 5
}
