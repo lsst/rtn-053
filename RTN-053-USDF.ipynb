{
 "cells": [
  {
   "cell_type": "markdown",
   "id": "09bfe2c8-6dd1-44b2-8d67-b7d21091d567",
   "metadata": {},
   "source": [
    "# 3.1 Data transferred and ingested in butler and access to data\n",
    "\n",
    "Get the same ras as we did on the summit"
   ]
  },
  {
   "cell_type": "code",
<<<<<<< HEAD
<<<<<<< HEAD
<<<<<<< HEAD
<<<<<<< HEAD
   "execution_count": 6,
   "id": "6886f1f9-e461-4cb4-89d3-f1b966cac1b8",
   "metadata": {
    "execution": {
     "iopub.execute_input": "2023-05-16T20:18:12.770464Z",
     "iopub.status.busy": "2023-05-16T20:18:12.770226Z",
     "iopub.status.idle": "2023-05-16T20:18:15.178711Z",
     "shell.execute_reply": "2023-05-16T20:18:15.178191Z",
     "shell.execute_reply.started": "2023-05-16T20:18:12.770442Z"
=======
   "execution_count": 16,
   "id": "6886f1f9-e461-4cb4-89d3-f1b966cac1b8",
   "metadata": {
    "execution": {
     "iopub.execute_input": "2023-05-16T18:12:38.519984Z",
     "iopub.status.busy": "2023-05-16T18:12:38.519521Z",
     "iopub.status.idle": "2023-05-16T18:12:40.754449Z",
     "shell.execute_reply": "2023-05-16T18:12:40.753844Z",
     "shell.execute_reply.started": "2023-05-16T18:12:38.519969Z"
>>>>>>> 1ffffd1 ( notebook for summit)
=======
   "execution_count": 49,
   "id": "6886f1f9-e461-4cb4-89d3-f1b966cac1b8",
   "metadata": {
    "execution": {
     "iopub.execute_input": "2023-05-16T20:38:12.990628Z",
     "iopub.status.busy": "2023-05-16T20:38:12.990445Z",
     "iopub.status.idle": "2023-05-16T20:38:15.139378Z",
     "shell.execute_reply": "2023-05-16T20:38:15.138783Z",
     "shell.execute_reply.started": "2023-05-16T20:38:12.990614Z"
>>>>>>> 7761d55 ( using 5-11 and with KT fixes fro LATISS)
=======
   "execution_count": 53,
   "id": "6886f1f9-e461-4cb4-89d3-f1b966cac1b8",
   "metadata": {
    "execution": {
     "iopub.execute_input": "2023-05-16T20:48:16.494955Z",
     "iopub.status.busy": "2023-05-16T20:48:16.494729Z",
     "iopub.status.idle": "2023-05-16T20:48:17.468593Z",
     "shell.execute_reply": "2023-05-16T20:48:17.468020Z",
     "shell.execute_reply.started": "2023-05-16T20:48:16.494940Z"
>>>>>>> 5546c00 ( small fix)
    },
=======
   "execution_count": null,
   "id": "6886f1f9-e461-4cb4-89d3-f1b966cac1b8",
   "metadata": {
>>>>>>> c5c8140 ( LFA)
    "tags": []
   },
   "outputs": [],
   "source": [
    "from lsst.daf.butler import Butler\n",
    "from lsst.daf.butler.registry import Registry\n",
    "import sqlalchemy\n",
    "\n",
    "repo = '/repo/embargo'\n",
    "instrument = 'LATISS'\n",
    "# raw all colleciton contains all images \n",
    "collections=['LATISS/raw/all']\n",
<<<<<<< HEAD
<<<<<<< HEAD
<<<<<<< HEAD
    "butler = Butler(repo, collections=\"LATISS/raw/all\", instrument=\"LATISS\")\n",
=======
    "butler = Butler(repo)\n",
>>>>>>> 1ffffd1 ( notebook for summit)
=======
    "butler = Butler(repo, collections=collections, instrument=instrument)\n",
>>>>>>> 7761d55 ( using 5-11 and with KT fixes fro LATISS)
    "cols = butler.registry.queryCollections(\"*LATISS*raw*\")\n",
    "for c in cols :\n",
    "    print(c)\n",
    "\n",
    "\n",
    "butler = Butler(repo, collections=collections)\n",
    "registry = butler.registry\n",
    "\n"
=======
    "butler = Butler(repo, collections=collections, instrument=instrument)\n"
>>>>>>> 5546c00 ( small fix)
   ]
  },
  {
   "cell_type": "code",
<<<<<<< HEAD
<<<<<<< HEAD
<<<<<<< HEAD
<<<<<<< HEAD
   "execution_count": 7,
   "id": "8af5fe56-7e45-46cb-a33b-47ef5ba6889e",
   "metadata": {
    "execution": {
     "iopub.execute_input": "2023-05-16T20:18:15.773637Z",
     "iopub.status.busy": "2023-05-16T20:18:15.773443Z",
     "iopub.status.idle": "2023-05-16T20:18:15.830337Z",
     "shell.execute_reply": "2023-05-16T20:18:15.829936Z",
     "shell.execute_reply.started": "2023-05-16T20:18:15.773620Z"
=======
   "execution_count": 32,
   "id": "8af5fe56-7e45-46cb-a33b-47ef5ba6889e",
   "metadata": {
    "execution": {
     "iopub.execute_input": "2023-05-16T18:30:48.081546Z",
     "iopub.status.busy": "2023-05-16T18:30:48.081325Z",
     "iopub.status.idle": "2023-05-16T18:30:48.126859Z",
     "shell.execute_reply": "2023-05-16T18:30:48.126498Z",
     "shell.execute_reply.started": "2023-05-16T18:30:48.081532Z"
>>>>>>> 1ffffd1 ( notebook for summit)
=======
   "execution_count": 46,
   "id": "8af5fe56-7e45-46cb-a33b-47ef5ba6889e",
   "metadata": {
    "execution": {
     "iopub.execute_input": "2023-05-16T20:35:51.250480Z",
     "iopub.status.busy": "2023-05-16T20:35:51.250310Z",
     "iopub.status.idle": "2023-05-16T20:35:51.316964Z",
     "shell.execute_reply": "2023-05-16T20:35:51.316461Z",
     "shell.execute_reply.started": "2023-05-16T20:35:51.250463Z"
>>>>>>> 7761d55 ( using 5-11 and with KT fixes fro LATISS)
=======
   "execution_count": 54,
   "id": "8af5fe56-7e45-46cb-a33b-47ef5ba6889e",
   "metadata": {
    "execution": {
     "iopub.execute_input": "2023-05-16T20:48:19.167845Z",
     "iopub.status.busy": "2023-05-16T20:48:19.167520Z",
     "iopub.status.idle": "2023-05-16T20:48:19.218892Z",
     "shell.execute_reply": "2023-05-16T20:48:19.218376Z",
     "shell.execute_reply.started": "2023-05-16T20:48:19.167828Z"
>>>>>>> 5546c00 ( small fix)
    },
    "tags": []
   },
   "outputs": [
    {
     "name": "stdout",
     "output_type": "stream",
     "text": [
<<<<<<< HEAD
<<<<<<< HEAD
      "There are 592 raw in collection: ['LATISS/raw/all'] in: /repo/embargo for exposure.day_obs = 20230511\n",
      "0 2023051100001\n",
      "0 2023051100599\n"
=======
      "There are 138 raw in collection: ['LATISS/raw/all'] in: /repo/embargo for exposure.day_obs = 20230505\n",
      "0 2023050500001\n",
      "0 2023050500138\n"
>>>>>>> 1ffffd1 ( notebook for summit)
=======
      "There are 592 raw in collection: ['LATISS/raw/all'] in: /repo/embargo for exposure.day_obs = 20230511\n",
      "0 2023051100001\n",
      "0 2023051100599\n"
>>>>>>> 7761d55 ( using 5-11 and with KT fixes fro LATISS)
     ]
    }
   ],
=======
   "execution_count": null,
   "id": "8af5fe56-7e45-46cb-a33b-47ef5ba6889e",
   "metadata": {
    "tags": []
   },
   "outputs": [],
>>>>>>> c5c8140 ( LFA)
   "source": [
<<<<<<< HEAD
<<<<<<< HEAD
    "\n",
    "dt='raw'\n",
    "where=\"exposure.day_obs = 20230511\"\n",
=======
    "dataId={'day_obs':20230509}\n",
    "\n",
    "dt='raw'\n",
    "where=\"exposure.day_obs = 20230505\"\n",
>>>>>>> 1ffffd1 ( notebook for summit)
=======
    "\n",
    "dt='raw'\n",
    "where=\"exposure.day_obs = 20230511\"\n",
>>>>>>> 7761d55 ( using 5-11 and with KT fixes fro LATISS)
    "datasetRefs = list(registry.queryDatasets(datasetType=dt,where=where))\n",
    "\n",
    "print(f\"There are {len(datasetRefs)} {dt} in collection: {collections} in: {repo} for {where}\")\n",
    "\n",
    "count = 0\n",
    "for ref in datasetRefs[0], datasetRefs[-1]:\n",
    "    count = count + 1\n",
    "    print( ref.dataId['detector'], ref.dataId['exposure'])\n",
    "\n"
   ]
  },
  {
   "cell_type": "code",
<<<<<<< HEAD
<<<<<<< HEAD
<<<<<<< HEAD
   "execution_count": 8,
   "id": "32609f2b-555d-4865-b1f6-5cb82431ce39",
   "metadata": {
    "execution": {
     "iopub.execute_input": "2023-05-16T20:18:20.801017Z",
     "iopub.status.busy": "2023-05-16T20:18:20.800794Z",
     "iopub.status.idle": "2023-05-16T20:18:20.804121Z",
     "shell.execute_reply": "2023-05-16T20:18:20.803731Z",
     "shell.execute_reply.started": "2023-05-16T20:18:20.801001Z"
=======
   "execution_count": 33,
   "id": "32609f2b-555d-4865-b1f6-5cb82431ce39",
   "metadata": {
    "execution": {
     "iopub.execute_input": "2023-05-16T18:30:51.017852Z",
     "iopub.status.busy": "2023-05-16T18:30:51.017632Z",
     "iopub.status.idle": "2023-05-16T18:30:51.020548Z",
     "shell.execute_reply": "2023-05-16T18:30:51.020203Z",
     "shell.execute_reply.started": "2023-05-16T18:30:51.017833Z"
>>>>>>> 1ffffd1 ( notebook for summit)
=======
   "execution_count": 47,
   "id": "32609f2b-555d-4865-b1f6-5cb82431ce39",
   "metadata": {
    "execution": {
     "iopub.execute_input": "2023-05-16T20:36:02.244260Z",
     "iopub.status.busy": "2023-05-16T20:36:02.244042Z",
     "iopub.status.idle": "2023-05-16T20:36:02.247485Z",
     "shell.execute_reply": "2023-05-16T20:36:02.247053Z",
     "shell.execute_reply.started": "2023-05-16T20:36:02.244245Z"
>>>>>>> 7761d55 ( using 5-11 and with KT fixes fro LATISS)
    },
=======
   "execution_count": null,
   "id": "32609f2b-555d-4865-b1f6-5cb82431ce39",
   "metadata": {
>>>>>>> c5c8140 ( LFA)
    "tags": []
   },
   "outputs": [],
   "source": [
    "#Make a map of thoose for look up below .. \n",
    "dslookup = {}\n",
    "for ref in datasetRefs:\n",
    "    dslookup[ref.dataId['exposure']] = ref"
   ]
  },
  {
   "cell_type": "markdown",
   "id": "b72217c0-97dc-4f61-8984-6ca32928ce31",
   "metadata": {
    "tags": []
   },
   "source": [
    "### latency ..\n",
    "\"Measure the delays between completion of readout for each image and the ingestion time recorded in the Butler Registry.\"\n",
    "The end of readou is the exposure.timespan.end.\n",
    "Will have to lookup the ingest time usinf a sql query sine is not exposed directly in butler."
   ]
  },
  {
   "cell_type": "code",
<<<<<<< HEAD
<<<<<<< HEAD
<<<<<<< HEAD
<<<<<<< HEAD
<<<<<<< HEAD
   "execution_count": 11,
   "id": "b027f428-e386-48a2-8fe1-6b8bcd24ed97",
   "metadata": {
    "execution": {
     "iopub.execute_input": "2023-05-16T20:25:03.784726Z",
     "iopub.status.busy": "2023-05-16T20:25:03.784485Z",
     "iopub.status.idle": "2023-05-16T20:25:04.554055Z",
     "shell.execute_reply": "2023-05-16T20:25:04.553625Z",
     "shell.execute_reply.started": "2023-05-16T20:25:03.784710Z"
=======
   "execution_count": 34,
   "id": "b027f428-e386-48a2-8fe1-6b8bcd24ed97",
   "metadata": {
    "execution": {
     "iopub.execute_input": "2023-05-16T18:30:55.075447Z",
     "iopub.status.busy": "2023-05-16T18:30:55.075047Z",
     "iopub.status.idle": "2023-05-16T18:30:55.289812Z",
     "shell.execute_reply": "2023-05-16T18:30:55.289212Z",
     "shell.execute_reply.started": "2023-05-16T18:30:55.075430Z"
>>>>>>> 1ffffd1 ( notebook for summit)
=======
   "execution_count": 37,
   "id": "b027f428-e386-48a2-8fe1-6b8bcd24ed97",
   "metadata": {
    "execution": {
     "iopub.execute_input": "2023-05-16T18:51:51.610507Z",
     "iopub.status.busy": "2023-05-16T18:51:51.609690Z",
     "iopub.status.idle": "2023-05-16T18:51:51.819479Z",
     "shell.execute_reply": "2023-05-16T18:51:51.818956Z",
     "shell.execute_reply.started": "2023-05-16T18:51:51.610490Z"
>>>>>>> 1d8fae0 ( Tidy var name sin notebook)
=======
   "execution_count": 48,
   "id": "b027f428-e386-48a2-8fe1-6b8bcd24ed97",
   "metadata": {
    "execution": {
     "iopub.execute_input": "2023-05-16T20:36:06.083902Z",
     "iopub.status.busy": "2023-05-16T20:36:06.083678Z",
     "iopub.status.idle": "2023-05-16T20:36:06.866803Z",
     "shell.execute_reply": "2023-05-16T20:36:06.866293Z",
     "shell.execute_reply.started": "2023-05-16T20:36:06.083887Z"
>>>>>>> 7761d55 ( using 5-11 and with KT fixes fro LATISS)
=======
   "execution_count": 50,
   "id": "b027f428-e386-48a2-8fe1-6b8bcd24ed97",
   "metadata": {
    "execution": {
     "iopub.execute_input": "2023-05-16T20:38:26.621547Z",
     "iopub.status.busy": "2023-05-16T20:38:26.621330Z",
     "iopub.status.idle": "2023-05-16T20:38:27.567828Z",
     "shell.execute_reply": "2023-05-16T20:38:27.567384Z",
     "shell.execute_reply.started": "2023-05-16T20:38:26.621532Z"
>>>>>>> 5546c00 ( small fix)
    },
    "tags": []
   },
   "outputs": [
    {
     "name": "stdout",
     "output_type": "stream",
     "text": [
<<<<<<< HEAD
<<<<<<< HEAD
<<<<<<< HEAD
      "Got Metadata for 592 exposures\n",
      "The min time was 0.19347863333343263 max time was 0.5866245333332909 minutes\n",
      "Time between shutter close and ingest mean:0.23482382218469838, std:0.018058551157743862, var:0.0003261112699168522 minutes\n"
=======
      "Got Metadata for 138 exposures\n",
      "The min time was 2.696276116666727 max time was 10.21479046666661 minutes\n",
      "Time between shutter close and ingest mean:5.4056913442029195, std:1.9467945347980924, var:3.7900089607197214 minutes\n"
>>>>>>> 1ffffd1 ( notebook for summit)
=======
      "Got Metadata for 636 exposures\n",
      "The min time was -695.6220237833332 max time was 0.5866245333332909 minutes\n",
      "Time between shutter close and ingest mean:-47.63839827468552, std:175.60350812205647, var:30836.592064773155 minutes\n"
>>>>>>> 7761d55 ( using 5-11 and with KT fixes fro LATISS)
=======
      "Got Metadata for 592 exposures\n",
      "The min time was 0.19347863333343263 max time was 0.5866245333332909 minutes\n",
      "Time between shutter close and ingest mean:0.23482382218469838, std:0.018058551157743862, var:0.0003261112699168522 minutes\n"
>>>>>>> 5546c00 ( small fix)
     ]
    }
   ],
=======
   "execution_count": null,
   "id": "b027f428-e386-48a2-8fe1-6b8bcd24ed97",
   "metadata": {
    "tags": []
   },
   "outputs": [],
>>>>>>> c5c8140 ( LFA)
   "source": [
    "from astropy import time\n",
    "\n",
<<<<<<< HEAD
<<<<<<< HEAD
    "res = butler.registry.queryDimensionRecords('exposure', where=where, instrument=\"LATISS\")\n",
=======
    "res = butler.registry.queryDimensionRecords('exposure', where=where)\n",
>>>>>>> 1ffffd1 ( notebook for summit)
=======
    "res = butler.registry.queryDimensionRecords('exposure', where=where, instrument=instrument)\n",
>>>>>>> 7761d55 ( using 5-11 and with KT fixes fro LATISS)
    "print (f\"Got Metadata for {res.count()} exposures\")\n",
    "times = []\n",
    "min = 100\n",
    "max = 0\n",
    "for count,dimensionRecord in enumerate(res):\n",
    "    datasetRef = dslookup[dimensionRecord.id]\n",
    "    uuid = datasetRef.id\n",
    "    # the ID in the dimesnion record is the exposure ID (dimensionRecord.id)\n",
    "    # the ID in the oga.dataset is the UUID from the datasetRef \n",
    "    # hence the lookup map created in teh cell above is used here to lookup the UUID\n",
    "    \n",
    "    q_string = f\"SELECT ingest_date FROM oga.dataset WHERE id='{uuid}'\"\n",
    "    with registry._db.query(sqlalchemy.text(q_string)) as q:\n",
    "        intime = time.Time(q.all()[0][0])\n",
    "        \n",
    "    diff = (intime - dimensionRecord.timespan.end ).to('minute')\n",
    "    if diff.value < min:\n",
    "        min = diff.value\n",
    "    if diff.value > max:\n",
    "        max = diff.value \n",
<<<<<<< HEAD
    "    # print(r.id,r.timespan.end, intime, diff )\n",
=======
    "    #print(r.id,r.timespan.end, intime, diff )\n",
>>>>>>> 1ffffd1 ( notebook for summit)
    "    times.append(diff.value)\n",
    "    \n",
    "import numpy as np\n",
    "print (f\"The min time was {min} max time was {max} minutes\")\n",
    "print (f\"Time between shutter close and ingest mean:{np.mean(times)}, std:{np.std(times)}, var:{np.var(times)} minutes\")"
   ]
<<<<<<< HEAD
<<<<<<< HEAD
=======
>>>>>>> c5c8140 ( LFA)
  },
  {
   "cell_type": "code",
   "execution_count": null,
<<<<<<< HEAD
   "id": "67b6ec50-5d87-4b1c-93b8-befbca730516",
   "metadata": {},
   "outputs": [],
   "source": []
=======
>>>>>>> 1ffffd1 ( notebook for summit)
=======
   "id": "6531afe4-f48b-4c8b-9a50-bb37f54d1832",
   "metadata": {},
   "outputs": [],
   "source": [
    "#3.2 LFA replication to USDF\n",
    "Look in EFD for events with Large Files - check some of them"
   ]
  },
  {
   "cell_type": "code",
   "execution_count": 32,
   "id": "a374ce36-385f-437c-9753-8abf1ee39cb1",
   "metadata": {
    "execution": {
     "iopub.execute_input": "2023-05-18T12:56:49.317367Z",
     "iopub.status.busy": "2023-05-18T12:56:49.317150Z",
     "iopub.status.idle": "2023-05-18T12:56:49.794720Z",
     "shell.execute_reply": "2023-05-18T12:56:49.794229Z",
     "shell.execute_reply.started": "2023-05-18T12:56:49.317352Z"
    },
    "tags": []
   },
   "outputs": [],
   "source": [
    "from lsst_efd_client import EfdClient, resample\n",
    "loc = 'usdf'\n",
    "\n",
    "client = EfdClient(f'{loc}_efd')  \n",
    "client.output = 'dataframe'\n",
    "cl=client.influx_client\n",
    "day = '2023-04-20'\n",
    "\n",
    "query=f'''SELECT url, id FROM \"lsst.sal.Electrometer.logevent_largeFileObjectAvailable\" WHERE time >  '{day}' '''\n",
    "#query 'SELECT \"url\", \"id\" FROM \"efd\".\"autogen\".\"lsst.sal.Electrometer.logevent_largeFileObjectAvailable\" WHERE \"time\" >  2023-04-20T '\n",
    "result = await cl.query(query)\n"
   ]
  },
  {
   "cell_type": "code",
   "execution_count": 42,
   "id": "7ff4d6d7-dcea-4d91-b0ab-bad8122b3547",
   "metadata": {
    "execution": {
     "iopub.execute_input": "2023-05-18T13:21:23.198851Z",
     "iopub.status.busy": "2023-05-18T13:21:23.198630Z",
     "iopub.status.idle": "2023-05-18T13:21:23.202465Z",
     "shell.execute_reply": "2023-05-18T13:21:23.201958Z",
     "shell.execute_reply.started": "2023-05-18T13:21:23.198836Z"
    },
    "tags": []
   },
   "outputs": [
    {
     "name": "stdout",
     "output_type": "stream",
     "text": [
      "Got 173 Large files availble since 2023-04-20 at usdf\n",
      "Access result[92] https://s3.cp.lsst.org/rubinobs-lfa-cp/Electrometer:201/fits/2023/05/02/Electrometer:201_fits_2023-05-03T00:32:23.907.fits\n",
      "Access result[44] https://s3.cp.lsst.org/rubinobs-lfa-cp/Electrometer:201/fits/2023/05/02/Electrometer:201_fits_2023-05-02T23:37:56.243.fits\n",
      "Access result[83] https://s3.cp.lsst.org/rubinobs-lfa-cp/Electrometer:201/fits/2023/05/02/Electrometer:201_fits_2023-05-03T00:22:18.627.fits\n",
      "Access result[112] https://s3.cp.lsst.org/rubinobs-lfa-cp/Electrometer:201/fits/2023/05/02/Electrometer:201_fits_2023-05-03T00:54:52.978.fits\n",
      "Access result[146] https://s3.cp.lsst.org/rubinobs-lfa-cp/Electrometer:201/fits/2023/05/02/Electrometer:201_fits_2023-05-03T01:33:03.891.fits\n"
     ]
    }
   ],
   "source": [
    "print(f\"Got {len(result)} Large files availble since {day} at {loc}\")\n",
    "import random\n",
    "for f in range(0,5):\n",
    "   pos = random.randrange(0,len(result))\n",
    "   print (f\"Access result[{pos}] {result.url[pos]}\")\n"
   ]
  },
  {
   "cell_type": "markdown",
   "id": "528f04e8-3117-4329-b593-c795ee072c35",
   "metadata": {},
   "source": [
    "Get a few of these files randomly "
   ]
>>>>>>> c5c8140 ( LFA)
  }
 ],
 "metadata": {
  "kernelspec": {
   "display_name": "LSST",
   "language": "python",
   "name": "lsst"
  },
  "language_info": {
   "codemirror_mode": {
    "name": "ipython",
    "version": 3
   },
   "file_extension": ".py",
   "mimetype": "text/x-python",
   "name": "python",
   "nbconvert_exporter": "python",
   "pygments_lexer": "ipython3",
<<<<<<< HEAD
   "version": "3.10.10"
=======
   "version": "3.10.9"
>>>>>>> 1ffffd1 ( notebook for summit)
  }
 },
 "nbformat": 4,
 "nbformat_minor": 5
}
