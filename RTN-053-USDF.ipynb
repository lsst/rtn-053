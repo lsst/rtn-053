{
 "cells": [
  {
   "cell_type": "code",
   "execution_count": 6,
   "id": "6886f1f9-e461-4cb4-89d3-f1b966cac1b8",
   "metadata": {
    "execution": {
     "iopub.execute_input": "2023-05-26T15:44:26.212641Z",
     "iopub.status.busy": "2023-05-26T15:44:26.212412Z",
     "iopub.status.idle": "2023-05-26T15:44:27.557328Z",
     "shell.execute_reply": "2023-05-26T15:44:27.556924Z",
     "shell.execute_reply.started": "2023-05-26T15:44:26.212625Z"
    },
    "tags": []
   },
   "outputs": [],
   "source": [
    "from lsst.daf.butler import Butler\n",
    "from lsst.daf.butler.registry import Registry\n",
    "import sqlalchemy\n",
    "from astropy import time\n",
    "\n",
    "\n",
    "repo = '/repo/embargo'\n",
    "instrument = 'LATISS'\n",
    "# raw all colleciton contains all images \n",
    "collections=['LATISS/raw/all']\n",
    "butler = Butler(repo, collections=collections, instrument=instrument)\n",
    "\n"
   ]
  },
  {
   "cell_type": "markdown",
   "id": "09bfe2c8-6dd1-44b2-8d67-b7d21091d567",
   "metadata": {},
   "source": [
    "# 3.1 Data transferred and ingested in butler and access to data\n",
    "\n",
    "Get the same ras as we did on the summit"
   ]
  },
  {
   "cell_type": "code",
   "execution_count": 7,
   "id": "8af5fe56-7e45-46cb-a33b-47ef5ba6889e",
   "metadata": {
    "execution": {
     "iopub.execute_input": "2023-05-26T15:44:27.558234Z",
     "iopub.status.busy": "2023-05-26T15:44:27.558085Z",
     "iopub.status.idle": "2023-05-26T15:44:27.602444Z",
     "shell.execute_reply": "2023-05-26T15:44:27.602088Z",
     "shell.execute_reply.started": "2023-05-26T15:44:27.558221Z"
    },
    "tags": []
   },
   "outputs": [
    {
     "name": "stdout",
     "output_type": "stream",
     "text": [
      "There are 592 raw in collection: ['LATISS/raw/all'] in: /repo/embargo for exposure.day_obs = 20230511\n",
      "0 2023051100001\n",
      "0 2023051100011\n"
     ]
    }
   ],
   "source": [
    "\n",
    "dt='raw'\n",
    "day=\"20230511\"\n",
    "where=f\"exposure.day_obs = {day}\"\n",
    "datasetRefs = list(butler.registry.queryDatasets(datasetType=dt,where=where))\n",
    "\n",
    "print(f\"There are {len(datasetRefs)} {dt} in collection: {collections} in: {repo} for {where}\")\n",
    "\n",
    "count = 0\n",
    "for ref in datasetRefs[0], datasetRefs[-1]:\n",
    "    count = count + 1\n",
    "    print( ref.dataId['detector'], ref.dataId['exposure'])\n",
    "\n"
   ]
  },
  {
   "cell_type": "code",
   "execution_count": 8,
   "id": "32609f2b-555d-4865-b1f6-5cb82431ce39",
   "metadata": {
    "execution": {
     "iopub.execute_input": "2023-05-26T15:44:27.603146Z",
     "iopub.status.busy": "2023-05-26T15:44:27.602912Z",
     "iopub.status.idle": "2023-05-26T15:44:27.605653Z",
     "shell.execute_reply": "2023-05-26T15:44:27.605327Z",
     "shell.execute_reply.started": "2023-05-26T15:44:27.603133Z"
    },
    "tags": []
   },
   "outputs": [],
   "source": [
    "#Make a map of thoose for look up below .. \n",
    "dslookup = {}\n",
    "for ref in datasetRefs:\n",
    "    dslookup[ref.dataId['exposure']] = ref"
   ]
  },
  {
   "cell_type": "markdown",
   "id": "b72217c0-97dc-4f61-8984-6ca32928ce31",
   "metadata": {
    "tags": []
   },
   "source": [
    "### latency ..\n",
    "\"Measure the delays between completion of readout for each image and the ingestion time recorded in the Butler Registry.\"\n",
    "The end of readou is the exposure.timespan.end.\n",
    "Will have to lookup the ingest time usinf a sql query sine is not exposed directly in butler."
   ]
  },
  {
   "cell_type": "code",
   "execution_count": 9,
   "id": "b027f428-e386-48a2-8fe1-6b8bcd24ed97",
   "metadata": {
    "execution": {
     "iopub.execute_input": "2023-05-26T15:44:27.606730Z",
     "iopub.status.busy": "2023-05-26T15:44:27.606572Z",
     "iopub.status.idle": "2023-05-26T15:44:28.348985Z",
     "shell.execute_reply": "2023-05-26T15:44:28.348622Z",
     "shell.execute_reply.started": "2023-05-26T15:44:27.606717Z"
    },
    "tags": []
   },
   "outputs": [
    {
     "name": "stdout",
     "output_type": "stream",
     "text": [
      "Got Metadata for 592 exposures\n",
      "The min time was 0.19347863333343263 max time was 0.5866245333332909 minutes\n",
      "Time between shutter close and ingest mean:0.23482382218469838, std:0.018058551157743862, var:0.0003261112699168522 minutes\n"
     ]
    }
   ],
   "source": [
    "res = butler.registry.queryDimensionRecords('exposure', where=where, instrument=instrument)\n",
    "print (f\"Got Metadata for {res.count()} exposures\")\n",
    "times = []\n",
    "min = 100\n",
    "max = 0\n",
    "for count,dimensionRecord in enumerate(res):\n",
    "    datasetRef = dslookup[dimensionRecord.id]\n",
    "    uuid = datasetRef.id\n",
    "    # the ID in the dimesnion record is the exposure ID (dimensionRecord.id)\n",
    "    # the ID in the oga.dataset is the UUID from the datasetRef \n",
    "    # hence the lookup map created in teh cell above is used here to lookup the UUID\n",
    "    \n",
    "    q_string = f\"SELECT ingest_date FROM oga.dataset WHERE id='{uuid}'\"\n",
    "    with butler.registry._db.query(sqlalchemy.text(q_string)) as q:\n",
    "        intime = time.Time(q.all()[0][0])\n",
    "        \n",
    "    diff = (intime - dimensionRecord.timespan.end ).to('minute')\n",
    "    if diff.value < min:\n",
    "        min = diff.value\n",
    "    if diff.value > max:\n",
    "        max = diff.value \n",
    "    #print(r.id,r.timespan.end, intime, diff )\n",
    "    times.append(diff.value)\n",
    "    \n",
    "import numpy as np\n",
    "print (f\"The min time was {min} max time was {max} minutes\")\n",
    "print (f\"Time between shutter close and ingest mean:{np.mean(times)}, std:{np.std(times)}, var:{np.var(times)} minutes\")"
   ]
  },
  {
   "cell_type": "code",
   "execution_count": 10,
   "id": "fb3504b8-f273-495e-93cd-a5387866798b",
   "metadata": {
    "execution": {
     "iopub.execute_input": "2023-05-26T15:44:28.349621Z",
     "iopub.status.busy": "2023-05-26T15:44:28.349479Z",
     "iopub.status.idle": "2023-05-26T15:44:28.566645Z",
     "shell.execute_reply": "2023-05-26T15:44:28.566295Z",
     "shell.execute_reply.started": "2023-05-26T15:44:28.349608Z"
    },
    "tags": []
   },
   "outputs": [
    {
     "data": {
      "image/png": "[encoded data removed]",
      "text/plain": [
       "<Figure size 640x480 with 1 Axes>"
      ]
     },
     "metadata": {},
     "output_type": "display_data"
    }
   ],
   "source": [
    "import matplotlib.pyplot as plt\n",
    "seconds = list(map(lambda t:t*60.0,times))\n",
    "plt.hist(seconds,bins='auto')\n",
    "plt.title(f\"Shutter close to ingest times (s) on {day}\")\n",
    "plt.show()"
   ]
  },
  {
   "cell_type": "markdown",
   "id": "a03dcf62-0a40-4ae9-a2ce-73f488916b68",
   "metadata": {
    "execution": {
     "iopub.execute_input": "2023-05-19T16:05:02.136347Z",
     "iopub.status.busy": "2023-05-19T16:05:02.136128Z",
     "iopub.status.idle": "2023-05-19T16:05:02.140189Z",
     "shell.execute_reply": "2023-05-19T16:05:02.139614Z",
     "shell.execute_reply.started": "2023-05-19T16:05:02.136331Z"
    },
    "tags": []
   },
   "source": [
    "# 3.2 LFA replication to USDF\n",
    "Look in EFD for events with Large Files.\n",
    "Get a few of the files randomly "
   ]
  },
  {
   "cell_type": "code",
   "execution_count": 11,
   "id": "a374ce36-385f-437c-9753-8abf1ee39cb1",
   "metadata": {
    "execution": {
     "iopub.execute_input": "2023-05-26T15:44:28.567317Z",
     "iopub.status.busy": "2023-05-26T15:44:28.567170Z",
     "iopub.status.idle": "2023-05-26T15:44:29.282803Z",
     "shell.execute_reply": "2023-05-26T15:44:29.282387Z",
     "shell.execute_reply.started": "2023-05-26T15:44:28.567304Z"
    },
    "tags": []
   },
   "outputs": [],
   "source": [
    "from lsst_efd_client import EfdClient, resample\n",
    "loc = 'usdf'\n",
    "\n",
    "client = EfdClient(f'{loc}_efd')  \n",
    "client.output = 'dataframe'\n",
    "cl=client.influx_client\n",
    "day = '2023-04-20'\n",
    "\n",
    "query=f'''SELECT url, id FROM \"lsst.sal.Electrometer.logevent_largeFileObjectAvailable\" WHERE time >  '{day}' '''\n",
    "result = await cl.query(query)\n"
   ]
  },
  {
   "cell_type": "markdown",
   "id": "cd88b5db-b26f-477b-8160-d2cb8233ed23",
   "metadata": {},
   "source": [
    "**MUST use at least weekly 19 for the LFA to work Recommended fails"
   ]
  },
  {
   "cell_type": "code",
   "execution_count": 12,
   "id": "7ff4d6d7-dcea-4d91-b0ab-bad8122b3547",
   "metadata": {
    "execution": {
     "iopub.execute_input": "2023-05-26T15:44:29.283661Z",
     "iopub.status.busy": "2023-05-26T15:44:29.283379Z",
     "iopub.status.idle": "2023-05-26T15:44:29.451793Z",
     "shell.execute_reply": "2023-05-26T15:44:29.451395Z",
     "shell.execute_reply.started": "2023-05-26T15:44:29.283646Z"
    },
    "tags": []
   },
   "outputs": [
    {
     "name": "stdout",
     "output_type": "stream",
     "text": [
      "Got 173 Large files available since 2023-04-20 at usdf\n",
      "result[122] https://s3.cp.lsst.org/rubinobs-lfa-cp/Electrometer:201/fits/2023/05/02/Electrometer:201_fits_2023-05-03T01:06:08.139.fits\n",
      "Access s3://rubin:rubinobs-lfa-cp/Electrometer:201/fits/2023/05/02/Electrometer:201_fits_2023-05-03T01:06:08.139.fits\n",
      "Object is 8640 bytes. b'SIMPLE  =                    T / conforms to FITS standard                      '\n",
      "result[154] https://s3.cp.lsst.org/rubinobs-lfa-cp/Electrometer:201/fits/2023/05/02/Electrometer:201_fits_2023-05-03T01:41:59.013.fits\n",
      "Access s3://rubin:rubinobs-lfa-cp/Electrometer:201/fits/2023/05/02/Electrometer:201_fits_2023-05-03T01:41:59.013.fits\n",
      "Object is 8640 bytes. b'SIMPLE  =                    T / conforms to FITS standard                      '\n",
      "result[67] https://s3.cp.lsst.org/rubinobs-lfa-cp/Electrometer:201/fits/2023/05/02/Electrometer:201_fits_2023-05-03T00:03:41.121.fits\n",
      "Access s3://rubin:rubinobs-lfa-cp/Electrometer:201/fits/2023/05/02/Electrometer:201_fits_2023-05-03T00:03:41.121.fits\n",
      "Object is 8640 bytes. b'SIMPLE  =                    T / conforms to FITS standard                      '\n",
      "result[61] https://s3.cp.lsst.org/rubinobs-lfa-cp/Electrometer:201/fits/2023/05/02/Electrometer:201_fits_2023-05-02T23:56:58.391.fits\n",
      "Access s3://rubin:rubinobs-lfa-cp/Electrometer:201/fits/2023/05/02/Electrometer:201_fits_2023-05-02T23:56:58.391.fits\n",
      "Object is 8640 bytes. b'SIMPLE  =                    T / conforms to FITS standard                      '\n",
      "result[106] https://s3.cp.lsst.org/rubinobs-lfa-cp/Electrometer:201/fits/2023/05/02/Electrometer:201_fits_2023-05-03T00:48:10.189.fits\n",
      "Access s3://rubin:rubinobs-lfa-cp/Electrometer:201/fits/2023/05/02/Electrometer:201_fits_2023-05-03T00:48:10.189.fits\n",
      "Object is 8640 bytes. b'SIMPLE  =                    T / conforms to FITS standard                      '\n"
     ]
    }
   ],
   "source": [
    "print(f\"Got {len(result)} Large files available since {day} at {loc}\")\n",
    "# KT says we  need this next line\n",
    "os.environ[\"LSST_DISABLE_BUCKET_VALIDATION\"] = \"1\"\n",
    "\n",
    "from lsst.resources import ResourcePath\n",
    "import random\n",
    "for f in range(0,5):\n",
    "   pos = random.randrange(0,len(result))\n",
    "   file_uri = ResourcePath(result.url[pos].replace(\"https://s3.cp.lsst.org/\",\"s3://rubin:\")  )  \n",
    "   print (f\"result[{pos}] {result.url[pos]}\")\n",
    "   print (f\"Access {file_uri}\")\n",
    "   contents = file_uri.read()\n",
    "   print (f\"Object is {len(contents)} bytes. {contents[0:80]}\")\n"
   ]
  },
  {
   "cell_type": "markdown",
   "id": "e01a11d5-9b5e-4870-a1d5-7733c737804a",
   "metadata": {},
   "source": [
    "# 3.3 Automated prompt processing\n",
    "Look in butler for products from prompt processing (ISR for AuxTel)"
   ]
  },
  {
   "cell_type": "code",
   "execution_count": 13,
   "id": "cb8b1529-08aa-4e1a-a295-0ce5698c88a1",
   "metadata": {
    "execution": {
     "iopub.execute_input": "2023-05-26T15:44:29.452407Z",
     "iopub.status.busy": "2023-05-26T15:44:29.452267Z",
     "iopub.status.idle": "2023-05-26T15:44:30.695073Z",
     "shell.execute_reply": "2023-05-26T15:44:30.694634Z",
     "shell.execute_reply.started": "2023-05-26T15:44:29.452394Z"
    },
    "tags": []
   },
   "outputs": [],
   "source": [
    "butler = Butler(repo, instrument=instrument)"
   ]
  },
  {
   "cell_type": "code",
   "execution_count": 14,
   "id": "4b27171a-17dd-4d86-af6b-f9328f1e3321",
   "metadata": {
    "execution": {
     "iopub.execute_input": "2023-05-26T15:44:30.695833Z",
     "iopub.status.busy": "2023-05-26T15:44:30.695677Z",
     "iopub.status.idle": "2023-05-26T15:44:30.700670Z",
     "shell.execute_reply": "2023-05-26T15:44:30.700305Z",
     "shell.execute_reply.started": "2023-05-26T15:44:30.695819Z"
    },
    "tags": []
   },
   "outputs": [
    {
     "name": "stdout",
     "output_type": "stream",
     "text": [
      "LATISS/prompt/output-2023-05-24/ApPipe/prompt-proto-service-00026\n",
      "LATISS/prompt/output-2023-05-25/ApPipe/prompt-proto-service-00027\n"
     ]
    }
   ],
   "source": [
    "cols = butler.registry.queryCollections('LATISS/prompt/*')\n",
    "for c in cols:\n",
    "   print(c)"
   ]
  },
  {
   "cell_type": "code",
   "execution_count": 15,
   "id": "986bd16a-b306-4893-a588-953249929372",
   "metadata": {
    "execution": {
     "iopub.execute_input": "2023-05-26T15:44:30.701388Z",
     "iopub.status.busy": "2023-05-26T15:44:30.701162Z",
     "iopub.status.idle": "2023-05-26T15:44:30.704920Z",
     "shell.execute_reply": "2023-05-26T15:44:30.704592Z",
     "shell.execute_reply.started": "2023-05-26T15:44:30.701373Z"
    },
    "tags": []
   },
   "outputs": [],
   "source": [
    "promptcollection = ['LATISS/prompt/output-2023-05-24/ApPipe/prompt-proto-service-00026']"
   ]
  },
  {
   "cell_type": "code",
   "execution_count": 16,
   "id": "05eb6453-57a8-4dbc-bc59-2487ab2e069b",
   "metadata": {
    "execution": {
     "iopub.execute_input": "2023-05-26T15:44:30.705585Z",
     "iopub.status.busy": "2023-05-26T15:44:30.705416Z",
     "iopub.status.idle": "2023-05-26T15:44:30.740631Z",
     "shell.execute_reply": "2023-05-26T15:44:30.740294Z",
     "shell.execute_reply.started": "2023-05-26T15:44:30.705571Z"
    },
    "tags": []
   },
   "outputs": [
    {
     "name": "stdout",
     "output_type": "stream",
     "text": [
      "There are 40 raw in collection: ['LATISS/raw/all'] in: /repo/embargo for exposure.day_obs = 20230523 and exposure.observation_reason = 'object'\n",
      "There are 25 calexp in collection: ['LATISS/prompt/output-2023-05-24/ApPipe/prompt-proto-service-00026'] in: /repo/embargo\n"
     ]
    }
   ],
   "source": [
    "dt='raw'\n",
    "pday='20230523'\n",
    "where=f\"exposure.day_obs = {pday} and exposure.observation_reason = 'object'\"\n",
    "datasetRefs = list(butler.registry.queryDatasets(datasetType=dt,where=where, collections=collections))\n",
    "dtp='calexp'\n",
    "datasetPrompt = list(butler.registry.queryDatasets(datasetType=dtp, collections=promptcollection))\n",
    "\n",
    "print(f\"There are {len(datasetRefs)} {dt} in collection: {collections} in: {repo} for {where}\")\n",
    "print(f\"There are {len(datasetPrompt)} {dtp} in collection: {promptcollection} in: {repo}\")"
   ]
  },
  {
   "cell_type": "code",
   "execution_count": 17,
   "id": "7feb3c4b-17e5-4a55-9cb4-956d564a9198",
   "metadata": {
    "execution": {
     "iopub.execute_input": "2023-05-26T15:44:30.741266Z",
     "iopub.status.busy": "2023-05-26T15:44:30.741104Z",
     "iopub.status.idle": "2023-05-26T15:44:30.743821Z",
     "shell.execute_reply": "2023-05-26T15:44:30.743501Z",
     "shell.execute_reply.started": "2023-05-26T15:44:30.741249Z"
    },
    "tags": []
   },
   "outputs": [],
   "source": [
    "#Make a map of the prompt processed images for look up below .. \n",
    "# we can not always assume this but for this run exposureid = visitid \n",
    "explookup = {}\n",
    "for ref in datasetRefs:\n",
    "    explookup[ref.dataId['exposure']] = ref\n",
    "    \n",
    "pdslookup = {}\n",
    "for ref in datasetPrompt:\n",
    "    pdslookup[ref.dataId['visit']] = explookup[ref.dataId['visit']]\n",
    "    \n",
    "#Now e have the set of exposures whic were processed by prompt processing"
   ]
  },
  {
   "cell_type": "code",
   "execution_count": 18,
   "id": "2502a0e2-db59-47dc-bd07-3b1e6db46285",
   "metadata": {
    "execution": {
     "iopub.execute_input": "2023-05-26T15:44:30.744452Z",
     "iopub.status.busy": "2023-05-26T15:44:30.744314Z",
     "iopub.status.idle": "2023-05-26T15:44:30.804923Z",
     "shell.execute_reply": "2023-05-26T15:44:30.804584Z",
     "shell.execute_reply.started": "2023-05-26T15:44:30.744439Z"
    },
    "tags": []
   },
   "outputs": [
    {
     "name": "stdout",
     "output_type": "stream",
     "text": [
      "Time between shutter close and prompt mean:0.23482382218469838, std:0.018058551157743862, var:0.0003261112699168522 minutes\n",
      "The min time was 0.19349045000003784 max time was 0.9423351500001687 minutes for the 592 images\n"
     ]
    }
   ],
   "source": [
    "res = butler.registry.queryDimensionRecords('exposure', where=where, instrument=instrument)\n",
    "# These are the exposues which have a shutter close time.\n",
    "\n",
    "ptimes = []\n",
    "min = 100\n",
    "max = 0\n",
    "for count,dimensionRecord in enumerate(res):\n",
    "    if dimensionRecord.id not in pdslookup:\n",
    "        continue\n",
    "    datasetRef = pdslookup[dimensionRecord.id]\n",
    "    uuid = datasetRef.id\n",
    "    # the ID in the dimesnion record is the exposure ID (dimensionRecord.id)\n",
    "    # the ID in the oga.dataset is the UUID from the datasetRef \n",
    "    # hence the lookup map created in the ell above is used here to lookup the UUID\n",
    "    \n",
    "    q_string = f\"SELECT ingest_date FROM oga.dataset WHERE id='{uuid}'\"\n",
    "    with butler.registry._db.query(sqlalchemy.text(q_string)) as q:\n",
    "        intime = time.Time(q.all()[0][0])\n",
    "        \n",
    "    diff = (intime - dimensionRecord.timespan.end ).to('minute')\n",
    "    if diff.value < min:\n",
    "        min = diff.value\n",
    "    if diff.value > max:\n",
    "        max = diff.value \n",
    "    #print(r.id,r.timespan.end, intime, diff )\n",
    "    ptimes.append(diff.value)\n",
    "    \n",
    "import numpy as np\n",
    "print (f\"Time between shutter close and prompt mean:{np.mean(times)}, std:{np.std(times)}, var:{np.var(times)} minutes\")\n",
    "print (f\"The min time was {min} max time was {max} minutes for the {len(times)} images\")\n",
    "    "
   ]
  },
  {
   "cell_type": "code",
   "execution_count": 19,
   "id": "a0913a2c-4956-4cdb-a740-ed71afa8728a",
   "metadata": {
    "execution": {
     "iopub.execute_input": "2023-05-26T15:44:30.805579Z",
     "iopub.status.busy": "2023-05-26T15:44:30.805404Z",
     "iopub.status.idle": "2023-05-26T15:44:30.898431Z",
     "shell.execute_reply": "2023-05-26T15:44:30.898097Z",
     "shell.execute_reply.started": "2023-05-26T15:44:30.805565Z"
    },
    "tags": []
   },
   "outputs": [
    {
     "data": {
      "image/png": "[encoded data removed]",
      "text/plain": [
       "<Figure size 640x480 with 1 Axes>"
      ]
     },
     "metadata": {},
     "output_type": "display_data"
    }
   ],
   "source": [
    "import matplotlib.pyplot as plt\n",
    "seconds = list(map(lambda t:t*60.0,ptimes))\n",
    "plt.hist(seconds,bins='auto')\n",
    "plt.title(f\"Shutter close to prompt product ingest times (s) on {pday}\")\n",
    "plt.show()"
   ]
  },
  {
   "cell_type": "markdown",
   "id": "ff09647c-529d-4acb-b5a3-c0a883ecffe9",
   "metadata": {},
   "source": [
    "# 3.4 EFD data available"
   ]
  },
  {
   "cell_type": "code",
   "execution_count": 20,
   "id": "359d4cf0-0566-4b82-ad01-a9ba581e3f1e",
   "metadata": {
    "execution": {
     "iopub.execute_input": "2023-05-26T15:44:30.899044Z",
     "iopub.status.busy": "2023-05-26T15:44:30.898909Z",
     "iopub.status.idle": "2023-05-26T15:44:30.901671Z",
     "shell.execute_reply": "2023-05-26T15:44:30.901322Z",
     "shell.execute_reply.started": "2023-05-26T15:44:30.899032Z"
    },
    "tags": []
   },
   "outputs": [
    {
     "name": "stdout",
     "output_type": "stream",
     "text": [
      "Five topics selected on summit ['lsst.sal.ATPtg.mountPositions', 'lsst.sal.MTAirCompressor.analogData', 'lsst.sal.MTMount.elevationDrives', 'lsst.sal.GIS.logevent_heartbeat']\n",
      "Five older topics selected on summit ['lsst.sal.ATPtg.mountPositions', 'lsst.sal.MTAirCompressor.analogData', 'lsst.sal.GIS.logevent_heartbeat', 'lsst.sal.ESS.lightningStrikeStatus']\n"
     ]
    }
   ],
   "source": [
    "selected_topics=['lsst.sal.ATPtg.mountPositions', 'lsst.sal.MTAirCompressor.analogData', 'lsst.sal.MTMount.elevationDrives', 'lsst.sal.GIS.logevent_heartbeat']\n",
    "older_topics=['lsst.sal.ATPtg.mountPositions', 'lsst.sal.MTAirCompressor.analogData', 'lsst.sal.GIS.logevent_heartbeat', 'lsst.sal.ESS.lightningStrikeStatus']\n",
    "print(f\"Five topics selected on summit {selected_topics}\")\n",
    "print(f\"Five older topics selected on summit {older_topics}\")\n"
   ]
  },
  {
   "cell_type": "code",
   "execution_count": 21,
   "id": "d300a9ae-1e55-4af6-94d4-ee9cd7b31096",
   "metadata": {
    "execution": {
     "iopub.execute_input": "2023-05-26T15:44:30.902336Z",
     "iopub.status.busy": "2023-05-26T15:44:30.902117Z",
     "iopub.status.idle": "2023-05-26T15:44:30.908172Z",
     "shell.execute_reply": "2023-05-26T15:44:30.907824Z",
     "shell.execute_reply.started": "2023-05-26T15:44:30.902323Z"
    },
    "tags": []
   },
   "outputs": [],
   "source": [
    "import pickle\n",
    "results = {}\n",
    "oldday = '2023-05-02'\n",
    "#get test_data files from summit notebook\n",
    "with open('test_data.pickle', 'rb') as file:\n",
    "    results = pickle.load(file)\n",
    "with open('old_test_data.pickle', 'rb') as file:\n",
    "    oldresults = pickle.load(file)\n"
   ]
  },
  {
   "cell_type": "code",
   "execution_count": 22,
   "id": "7e5ef411-7ad1-4529-8ad1-c771ee591102",
   "metadata": {
    "execution": {
     "iopub.execute_input": "2023-05-26T15:44:30.908761Z",
     "iopub.status.busy": "2023-05-26T15:44:30.908631Z",
     "iopub.status.idle": "2023-05-26T15:44:30.911419Z",
     "shell.execute_reply": "2023-05-26T15:44:30.911057Z",
     "shell.execute_reply.started": "2023-05-26T15:44:30.908749Z"
    },
    "tags": []
   },
   "outputs": [],
   "source": [
    "def cmp(topic, result, sresult):\n",
    "   print (f\"{topic} had {len(result)} messages - summit had {len(sresult)}\")\n",
    "   if len(result) != len(sresult):\n",
    "        print (f\"{topic} does not match\")\n",
    "   else:\n",
    "        for k in sresult.keys():\n",
    "            if result[k].all() != sresult[k].all():\n",
    "                print (f\"{topic} {key} does not match\")\n"
   ]
  },
  {
   "cell_type": "code",
   "execution_count": 23,
   "id": "e4107ab2-b5ab-485d-b26b-ed3498566b32",
   "metadata": {
    "execution": {
     "iopub.execute_input": "2023-05-26T15:44:30.912139Z",
     "iopub.status.busy": "2023-05-26T15:44:30.911857Z",
     "iopub.status.idle": "2023-05-26T15:44:32.688172Z",
     "shell.execute_reply": "2023-05-26T15:44:32.687734Z",
     "shell.execute_reply.started": "2023-05-26T15:44:30.912125Z"
    },
    "tags": []
   },
   "outputs": [
    {
     "name": "stdout",
     "output_type": "stream",
     "text": [
      "lsst.sal.ATPtg.mountPositions had 29 messages - summit had 29\n",
      "lsst.sal.MTAirCompressor.analogData had 46 messages - summit had 46\n",
      "lsst.sal.MTMount.elevationDrives had 456 messages - summit had 456\n",
      "lsst.sal.GIS.logevent_heartbeat had 30 messages - summit had 30\n",
      "Older messages\n",
      "lsst.sal.ATPtg.mountPositions had 29 messages - summit had 29\n",
      "lsst.sal.MTAirCompressor.analogData had 46 messages - summit had 46\n",
      "lsst.sal.GIS.logevent_heartbeat had 30 messages - summit had 30\n",
      "lsst.sal.ESS.lightningStrikeStatus had 30 messages - summit had 30\n"
     ]
    }
   ],
   "source": [
    "for topic in selected_topics:\n",
    "   query=f'''SELECT * FROM \"{topic}\" WHERE time >  '{day}T00:00:00.000Z' and time < '{day}T00:00:30.000Z' '''\n",
    "   result = await cl.query(query)\n",
    "   cmp(topic, result, results[topic])\n",
    "print(\"Older messages\")\n",
    "for topic in older_topics:\n",
    "   query=f'''SELECT * FROM \"{topic}\" WHERE time >  '{oldday}T00:00:00.000Z' and time < '{oldday}T00:00:30.000Z' '''\n",
    "   result = await cl.query(query)\n",
    "   cmp(topic, result, oldresults[topic])\n",
    "   \n"
   ]
  }
 ],
 "metadata": {
  "kernelspec": {
   "display_name": "LSST",
   "language": "python",
   "name": "lsst"
  },
  "language_info": {
   "codemirror_mode": {
    "name": "ipython",
    "version": 3
   },
   "file_extension": ".py",
   "mimetype": "text/x-python",
   "name": "python",
   "nbconvert_exporter": "python",
   "pygments_lexer": "ipython3",
   "version": "3.10.10"
  }
 },
 "nbformat": 4,
 "nbformat_minor": 5
}
