{
 "cells": [
  {
   "cell_type": "markdown",
   "id": "09bfe2c8-6dd1-44b2-8d67-b7d21091d567",
   "metadata": {},
   "source": [
    "# 3.1 Data transferred and ingested in butler and access to data\n",
    "\n",
    "Get the same ras as we did on the summit"
   ]
  },
  {
   "cell_type": "code",
<<<<<<< HEAD
<<<<<<< HEAD
<<<<<<< HEAD
<<<<<<< HEAD
<<<<<<< HEAD
<<<<<<< HEAD
<<<<<<< HEAD
   "execution_count": 6,
   "id": "6886f1f9-e461-4cb4-89d3-f1b966cac1b8",
   "metadata": {
    "execution": {
     "iopub.execute_input": "2023-05-16T20:18:12.770464Z",
     "iopub.status.busy": "2023-05-16T20:18:12.770226Z",
     "iopub.status.idle": "2023-05-16T20:18:15.178711Z",
     "shell.execute_reply": "2023-05-16T20:18:15.178191Z",
     "shell.execute_reply.started": "2023-05-16T20:18:12.770442Z"
=======
   "execution_count": 16,
   "id": "6886f1f9-e461-4cb4-89d3-f1b966cac1b8",
   "metadata": {
    "execution": {
     "iopub.execute_input": "2023-05-16T18:12:38.519984Z",
     "iopub.status.busy": "2023-05-16T18:12:38.519521Z",
     "iopub.status.idle": "2023-05-16T18:12:40.754449Z",
     "shell.execute_reply": "2023-05-16T18:12:40.753844Z",
     "shell.execute_reply.started": "2023-05-16T18:12:38.519969Z"
>>>>>>> 1ffffd1 ( notebook for summit)
=======
   "execution_count": 49,
   "id": "6886f1f9-e461-4cb4-89d3-f1b966cac1b8",
   "metadata": {
    "execution": {
     "iopub.execute_input": "2023-05-16T20:38:12.990628Z",
     "iopub.status.busy": "2023-05-16T20:38:12.990445Z",
     "iopub.status.idle": "2023-05-16T20:38:15.139378Z",
     "shell.execute_reply": "2023-05-16T20:38:15.138783Z",
     "shell.execute_reply.started": "2023-05-16T20:38:12.990614Z"
>>>>>>> 7761d55 ( using 5-11 and with KT fixes fro LATISS)
=======
   "execution_count": 53,
   "id": "6886f1f9-e461-4cb4-89d3-f1b966cac1b8",
   "metadata": {
    "execution": {
     "iopub.execute_input": "2023-05-16T20:48:16.494955Z",
     "iopub.status.busy": "2023-05-16T20:48:16.494729Z",
     "iopub.status.idle": "2023-05-16T20:48:17.468593Z",
     "shell.execute_reply": "2023-05-16T20:48:17.468020Z",
     "shell.execute_reply.started": "2023-05-16T20:48:16.494940Z"
>>>>>>> 5546c00 ( small fix)
    },
=======
   "execution_count": null,
   "id": "6886f1f9-e461-4cb4-89d3-f1b966cac1b8",
   "metadata": {
>>>>>>> c5c8140 ( LFA)
=======
   "execution_count": 7,
=======
   "execution_count": 2,
>>>>>>> 3607640 (prompt)
=======
   "execution_count": 62,
>>>>>>> 935b398 ( prompt lag)
   "id": "6886f1f9-e461-4cb4-89d3-f1b966cac1b8",
   "metadata": {
    "execution": {
     "iopub.execute_input": "2023-05-25T17:24:52.538634Z",
     "iopub.status.busy": "2023-05-25T17:24:52.538376Z",
     "iopub.status.idle": "2023-05-25T17:24:53.644875Z",
     "shell.execute_reply": "2023-05-25T17:24:53.644297Z",
     "shell.execute_reply.started": "2023-05-25T17:24:52.538616Z"
    },
>>>>>>> 3643075 ( NB update for counting messages and comparing)
    "tags": []
   },
   "outputs": [],
   "source": [
    "from lsst.daf.butler import Butler\n",
    "from lsst.daf.butler.registry import Registry\n",
    "import sqlalchemy\n",
    "from astropy import time\n",
    "\n",
    "\n",
    "repo = '/repo/embargo'\n",
    "instrument = 'LATISS'\n",
    "# raw all colleciton contains all images \n",
    "collections=['LATISS/raw/all']\n",
<<<<<<< HEAD
<<<<<<< HEAD
<<<<<<< HEAD
<<<<<<< HEAD
    "butler = Butler(repo, collections=\"LATISS/raw/all\", instrument=\"LATISS\")\n",
=======
    "butler = Butler(repo)\n",
>>>>>>> 1ffffd1 ( notebook for summit)
=======
    "butler = Butler(repo, collections=collections, instrument=instrument)\n",
>>>>>>> 7761d55 ( using 5-11 and with KT fixes fro LATISS)
    "cols = butler.registry.queryCollections(\"*LATISS*raw*\")\n",
    "for c in cols :\n",
    "    print(c)\n",
    "\n",
    "\n",
    "butler = Butler(repo, collections=collections)\n",
    "registry = butler.registry\n",
    "\n"
=======
    "butler = Butler(repo, collections=collections, instrument=instrument)\n"
>>>>>>> 5546c00 ( small fix)
=======
    "butler = Butler(repo, collections=collections, instrument=instrument)\n",
    "\n"
>>>>>>> 3643075 ( NB update for counting messages and comparing)
   ]
  },
  {
   "cell_type": "code",
<<<<<<< HEAD
<<<<<<< HEAD
<<<<<<< HEAD
<<<<<<< HEAD
<<<<<<< HEAD
   "execution_count": 7,
   "id": "8af5fe56-7e45-46cb-a33b-47ef5ba6889e",
   "metadata": {
    "execution": {
     "iopub.execute_input": "2023-05-16T20:18:15.773637Z",
     "iopub.status.busy": "2023-05-16T20:18:15.773443Z",
     "iopub.status.idle": "2023-05-16T20:18:15.830337Z",
     "shell.execute_reply": "2023-05-16T20:18:15.829936Z",
     "shell.execute_reply.started": "2023-05-16T20:18:15.773620Z"
=======
   "execution_count": 32,
   "id": "8af5fe56-7e45-46cb-a33b-47ef5ba6889e",
   "metadata": {
    "execution": {
     "iopub.execute_input": "2023-05-16T18:30:48.081546Z",
     "iopub.status.busy": "2023-05-16T18:30:48.081325Z",
     "iopub.status.idle": "2023-05-16T18:30:48.126859Z",
     "shell.execute_reply": "2023-05-16T18:30:48.126498Z",
     "shell.execute_reply.started": "2023-05-16T18:30:48.081532Z"
>>>>>>> 1ffffd1 ( notebook for summit)
=======
   "execution_count": 46,
   "id": "8af5fe56-7e45-46cb-a33b-47ef5ba6889e",
   "metadata": {
    "execution": {
     "iopub.execute_input": "2023-05-16T20:35:51.250480Z",
     "iopub.status.busy": "2023-05-16T20:35:51.250310Z",
     "iopub.status.idle": "2023-05-16T20:35:51.316964Z",
     "shell.execute_reply": "2023-05-16T20:35:51.316461Z",
     "shell.execute_reply.started": "2023-05-16T20:35:51.250463Z"
>>>>>>> 7761d55 ( using 5-11 and with KT fixes fro LATISS)
=======
   "execution_count": 54,
   "id": "8af5fe56-7e45-46cb-a33b-47ef5ba6889e",
   "metadata": {
    "execution": {
     "iopub.execute_input": "2023-05-16T20:48:19.167845Z",
     "iopub.status.busy": "2023-05-16T20:48:19.167520Z",
     "iopub.status.idle": "2023-05-16T20:48:19.218892Z",
     "shell.execute_reply": "2023-05-16T20:48:19.218376Z",
     "shell.execute_reply.started": "2023-05-16T20:48:19.167828Z"
>>>>>>> 5546c00 ( small fix)
    },
    "tags": []
   },
   "outputs": [
    {
     "name": "stdout",
     "output_type": "stream",
     "text": [
<<<<<<< HEAD
<<<<<<< HEAD
      "There are 592 raw in collection: ['LATISS/raw/all'] in: /repo/embargo for exposure.day_obs = 20230511\n",
      "0 2023051100001\n",
      "0 2023051100599\n"
=======
      "There are 138 raw in collection: ['LATISS/raw/all'] in: /repo/embargo for exposure.day_obs = 20230505\n",
      "0 2023050500001\n",
      "0 2023050500138\n"
>>>>>>> 1ffffd1 ( notebook for summit)
=======
      "There are 592 raw in collection: ['LATISS/raw/all'] in: /repo/embargo for exposure.day_obs = 20230511\n",
      "0 2023051100001\n",
      "0 2023051100599\n"
>>>>>>> 7761d55 ( using 5-11 and with KT fixes fro LATISS)
     ]
    }
   ],
=======
   "execution_count": null,
=======
   "execution_count": 9,
>>>>>>> 3643075 ( NB update for counting messages and comparing)
   "id": "8af5fe56-7e45-46cb-a33b-47ef5ba6889e",
   "metadata": {
    "execution": {
     "iopub.execute_input": "2023-05-19T16:04:25.962415Z",
     "iopub.status.busy": "2023-05-19T16:04:25.962166Z",
     "iopub.status.idle": "2023-05-19T16:04:26.148736Z",
     "shell.execute_reply": "2023-05-19T16:04:26.148210Z",
     "shell.execute_reply.started": "2023-05-19T16:04:25.962397Z"
    },
    "tags": []
   },
<<<<<<< HEAD
   "outputs": [],
>>>>>>> c5c8140 ( LFA)
=======
   "outputs": [
    {
     "name": "stdout",
     "output_type": "stream",
     "text": [
      "There are 592 raw in collection: ['LATISS/raw/all'] in: /repo/embargo for exposure.day_obs = 20230511\n",
      "0 2023051100001\n",
      "0 2023051100599\n"
     ]
    }
   ],
>>>>>>> 3643075 ( NB update for counting messages and comparing)
   "source": [
<<<<<<< HEAD
<<<<<<< HEAD
    "\n",
    "dt='raw'\n",
    "where=\"exposure.day_obs = 20230511\"\n",
<<<<<<< HEAD
=======
    "dataId={'day_obs':20230509}\n",
    "\n",
    "dt='raw'\n",
    "where=\"exposure.day_obs = 20230505\"\n",
>>>>>>> 1ffffd1 ( notebook for summit)
=======
    "\n",
    "dt='raw'\n",
    "where=\"exposure.day_obs = 20230511\"\n",
>>>>>>> 7761d55 ( using 5-11 and with KT fixes fro LATISS)
    "datasetRefs = list(registry.queryDatasets(datasetType=dt,where=where))\n",
=======
    "datasetRefs = list(butler.registry.queryDatasets(datasetType=dt,where=where))\n",
>>>>>>> 3643075 ( NB update for counting messages and comparing)
    "\n",
    "print(f\"There are {len(datasetRefs)} {dt} in collection: {collections} in: {repo} for {where}\")\n",
    "\n",
    "count = 0\n",
    "for ref in datasetRefs[0], datasetRefs[-1]:\n",
    "    count = count + 1\n",
    "    print( ref.dataId['detector'], ref.dataId['exposure'])\n",
    "\n"
   ]
  },
  {
   "cell_type": "code",
<<<<<<< HEAD
<<<<<<< HEAD
<<<<<<< HEAD
<<<<<<< HEAD
   "execution_count": 8,
   "id": "32609f2b-555d-4865-b1f6-5cb82431ce39",
   "metadata": {
    "execution": {
     "iopub.execute_input": "2023-05-16T20:18:20.801017Z",
     "iopub.status.busy": "2023-05-16T20:18:20.800794Z",
     "iopub.status.idle": "2023-05-16T20:18:20.804121Z",
     "shell.execute_reply": "2023-05-16T20:18:20.803731Z",
     "shell.execute_reply.started": "2023-05-16T20:18:20.801001Z"
=======
   "execution_count": 33,
   "id": "32609f2b-555d-4865-b1f6-5cb82431ce39",
   "metadata": {
    "execution": {
     "iopub.execute_input": "2023-05-16T18:30:51.017852Z",
     "iopub.status.busy": "2023-05-16T18:30:51.017632Z",
     "iopub.status.idle": "2023-05-16T18:30:51.020548Z",
     "shell.execute_reply": "2023-05-16T18:30:51.020203Z",
     "shell.execute_reply.started": "2023-05-16T18:30:51.017833Z"
>>>>>>> 1ffffd1 ( notebook for summit)
=======
   "execution_count": 47,
   "id": "32609f2b-555d-4865-b1f6-5cb82431ce39",
   "metadata": {
    "execution": {
     "iopub.execute_input": "2023-05-16T20:36:02.244260Z",
     "iopub.status.busy": "2023-05-16T20:36:02.244042Z",
     "iopub.status.idle": "2023-05-16T20:36:02.247485Z",
     "shell.execute_reply": "2023-05-16T20:36:02.247053Z",
     "shell.execute_reply.started": "2023-05-16T20:36:02.244245Z"
>>>>>>> 7761d55 ( using 5-11 and with KT fixes fro LATISS)
    },
=======
   "execution_count": null,
   "id": "32609f2b-555d-4865-b1f6-5cb82431ce39",
   "metadata": {
>>>>>>> c5c8140 ( LFA)
=======
   "execution_count": 10,
   "id": "32609f2b-555d-4865-b1f6-5cb82431ce39",
   "metadata": {
    "execution": {
     "iopub.execute_input": "2023-05-19T16:04:31.013775Z",
     "iopub.status.busy": "2023-05-19T16:04:31.013063Z",
     "iopub.status.idle": "2023-05-19T16:04:31.016659Z",
     "shell.execute_reply": "2023-05-19T16:04:31.016172Z",
     "shell.execute_reply.started": "2023-05-19T16:04:31.013757Z"
    },
>>>>>>> 3643075 ( NB update for counting messages and comparing)
    "tags": []
   },
   "outputs": [],
   "source": [
    "#Make a map of thoose for look up below .. \n",
    "dslookup = {}\n",
    "for ref in datasetRefs:\n",
    "    dslookup[ref.dataId['exposure']] = ref"
   ]
  },
  {
   "cell_type": "markdown",
   "id": "b72217c0-97dc-4f61-8984-6ca32928ce31",
   "metadata": {
    "tags": []
   },
   "source": [
    "### latency ..\n",
    "\"Measure the delays between completion of readout for each image and the ingestion time recorded in the Butler Registry.\"\n",
    "The end of readou is the exposure.timespan.end.\n",
    "Will have to lookup the ingest time usinf a sql query sine is not exposed directly in butler."
   ]
  },
  {
   "cell_type": "code",
<<<<<<< HEAD
<<<<<<< HEAD
<<<<<<< HEAD
<<<<<<< HEAD
<<<<<<< HEAD
<<<<<<< HEAD
   "execution_count": 11,
   "id": "b027f428-e386-48a2-8fe1-6b8bcd24ed97",
   "metadata": {
    "execution": {
     "iopub.execute_input": "2023-05-16T20:25:03.784726Z",
     "iopub.status.busy": "2023-05-16T20:25:03.784485Z",
     "iopub.status.idle": "2023-05-16T20:25:04.554055Z",
     "shell.execute_reply": "2023-05-16T20:25:04.553625Z",
     "shell.execute_reply.started": "2023-05-16T20:25:03.784710Z"
=======
   "execution_count": 34,
   "id": "b027f428-e386-48a2-8fe1-6b8bcd24ed97",
   "metadata": {
    "execution": {
     "iopub.execute_input": "2023-05-16T18:30:55.075447Z",
     "iopub.status.busy": "2023-05-16T18:30:55.075047Z",
     "iopub.status.idle": "2023-05-16T18:30:55.289812Z",
     "shell.execute_reply": "2023-05-16T18:30:55.289212Z",
     "shell.execute_reply.started": "2023-05-16T18:30:55.075430Z"
>>>>>>> 1ffffd1 ( notebook for summit)
=======
   "execution_count": 37,
   "id": "b027f428-e386-48a2-8fe1-6b8bcd24ed97",
   "metadata": {
    "execution": {
     "iopub.execute_input": "2023-05-16T18:51:51.610507Z",
     "iopub.status.busy": "2023-05-16T18:51:51.609690Z",
     "iopub.status.idle": "2023-05-16T18:51:51.819479Z",
     "shell.execute_reply": "2023-05-16T18:51:51.818956Z",
     "shell.execute_reply.started": "2023-05-16T18:51:51.610490Z"
>>>>>>> 1d8fae0 ( Tidy var name sin notebook)
=======
   "execution_count": 48,
   "id": "b027f428-e386-48a2-8fe1-6b8bcd24ed97",
   "metadata": {
    "execution": {
     "iopub.execute_input": "2023-05-16T20:36:06.083902Z",
     "iopub.status.busy": "2023-05-16T20:36:06.083678Z",
     "iopub.status.idle": "2023-05-16T20:36:06.866803Z",
     "shell.execute_reply": "2023-05-16T20:36:06.866293Z",
     "shell.execute_reply.started": "2023-05-16T20:36:06.083887Z"
>>>>>>> 7761d55 ( using 5-11 and with KT fixes fro LATISS)
=======
   "execution_count": 50,
   "id": "b027f428-e386-48a2-8fe1-6b8bcd24ed97",
   "metadata": {
    "execution": {
     "iopub.execute_input": "2023-05-16T20:38:26.621547Z",
     "iopub.status.busy": "2023-05-16T20:38:26.621330Z",
     "iopub.status.idle": "2023-05-16T20:38:27.567828Z",
     "shell.execute_reply": "2023-05-16T20:38:27.567384Z",
     "shell.execute_reply.started": "2023-05-16T20:38:26.621532Z"
>>>>>>> 5546c00 ( small fix)
    },
    "tags": []
   },
   "outputs": [
    {
     "name": "stdout",
     "output_type": "stream",
     "text": [
<<<<<<< HEAD
<<<<<<< HEAD
<<<<<<< HEAD
      "Got Metadata for 592 exposures\n",
      "The min time was 0.19347863333343263 max time was 0.5866245333332909 minutes\n",
      "Time between shutter close and ingest mean:0.23482382218469838, std:0.018058551157743862, var:0.0003261112699168522 minutes\n"
=======
      "Got Metadata for 138 exposures\n",
      "The min time was 2.696276116666727 max time was 10.21479046666661 minutes\n",
      "Time between shutter close and ingest mean:5.4056913442029195, std:1.9467945347980924, var:3.7900089607197214 minutes\n"
>>>>>>> 1ffffd1 ( notebook for summit)
=======
      "Got Metadata for 636 exposures\n",
      "The min time was -695.6220237833332 max time was 0.5866245333332909 minutes\n",
      "Time between shutter close and ingest mean:-47.63839827468552, std:175.60350812205647, var:30836.592064773155 minutes\n"
>>>>>>> 7761d55 ( using 5-11 and with KT fixes fro LATISS)
=======
      "Got Metadata for 592 exposures\n",
      "The min time was 0.19347863333343263 max time was 0.5866245333332909 minutes\n",
      "Time between shutter close and ingest mean:0.23482382218469838, std:0.018058551157743862, var:0.0003261112699168522 minutes\n"
>>>>>>> 5546c00 ( small fix)
     ]
    }
   ],
=======
   "execution_count": null,
=======
   "execution_count": 12,
>>>>>>> 3643075 ( NB update for counting messages and comparing)
   "id": "b027f428-e386-48a2-8fe1-6b8bcd24ed97",
   "metadata": {
    "execution": {
     "iopub.execute_input": "2023-05-19T16:04:50.329412Z",
     "iopub.status.busy": "2023-05-19T16:04:50.328918Z",
     "iopub.status.idle": "2023-05-19T16:04:51.117068Z",
     "shell.execute_reply": "2023-05-19T16:04:51.116457Z",
     "shell.execute_reply.started": "2023-05-19T16:04:50.329395Z"
    },
    "tags": []
   },
<<<<<<< HEAD
   "outputs": [],
>>>>>>> c5c8140 ( LFA)
=======
   "outputs": [
    {
     "name": "stdout",
     "output_type": "stream",
     "text": [
      "Got Metadata for 592 exposures\n",
      "The min time was 0.19347863333343263 max time was 0.5866245333332909 minutes\n",
      "Time between shutter close and ingest mean:0.23482382218469838, std:0.018058551157743862, var:0.0003261112699168522 minutes\n"
     ]
    }
   ],
>>>>>>> 3643075 ( NB update for counting messages and comparing)
   "source": [
<<<<<<< HEAD
    "from astropy import time\n",
    "\n",
<<<<<<< HEAD
<<<<<<< HEAD
    "res = butler.registry.queryDimensionRecords('exposure', where=where, instrument=\"LATISS\")\n",
=======
    "res = butler.registry.queryDimensionRecords('exposure', where=where)\n",
>>>>>>> 1ffffd1 ( notebook for summit)
=======
=======
>>>>>>> 935b398 ( prompt lag)
    "res = butler.registry.queryDimensionRecords('exposure', where=where, instrument=instrument)\n",
>>>>>>> 7761d55 ( using 5-11 and with KT fixes fro LATISS)
    "print (f\"Got Metadata for {res.count()} exposures\")\n",
    "times = []\n",
    "min = 100\n",
    "max = 0\n",
    "for count,dimensionRecord in enumerate(res):\n",
    "    datasetRef = dslookup[dimensionRecord.id]\n",
    "    uuid = datasetRef.id\n",
    "    # the ID in the dimesnion record is the exposure ID (dimensionRecord.id)\n",
    "    # the ID in the oga.dataset is the UUID from the datasetRef \n",
    "    # hence the lookup map created in teh cell above is used here to lookup the UUID\n",
    "    \n",
    "    q_string = f\"SELECT ingest_date FROM oga.dataset WHERE id='{uuid}'\"\n",
    "    with butler.registry._db.query(sqlalchemy.text(q_string)) as q:\n",
    "        intime = time.Time(q.all()[0][0])\n",
    "        \n",
    "    diff = (intime - dimensionRecord.timespan.end ).to('minute')\n",
    "    if diff.value < min:\n",
    "        min = diff.value\n",
    "    if diff.value > max:\n",
    "        max = diff.value \n",
<<<<<<< HEAD
    "    # print(r.id,r.timespan.end, intime, diff )\n",
=======
    "    #print(r.id,r.timespan.end, intime, diff )\n",
>>>>>>> 1ffffd1 ( notebook for summit)
    "    times.append(diff.value)\n",
    "    \n",
    "import numpy as np\n",
    "print (f\"The min time was {min} max time was {max} minutes\")\n",
    "print (f\"Time between shutter close and ingest mean:{np.mean(times)}, std:{np.std(times)}, var:{np.var(times)} minutes\")"
   ]
<<<<<<< HEAD
<<<<<<< HEAD
=======
>>>>>>> c5c8140 ( LFA)
  },
  {
<<<<<<< HEAD
<<<<<<< HEAD
<<<<<<< HEAD
   "cell_type": "code",
   "execution_count": null,
<<<<<<< HEAD
   "id": "67b6ec50-5d87-4b1c-93b8-befbca730516",
   "metadata": {},
   "outputs": [],
   "source": []
=======
>>>>>>> 1ffffd1 ( notebook for summit)
=======
   "id": "6531afe4-f48b-4c8b-9a50-bb37f54d1832",
   "metadata": {},
   "outputs": [],
=======
=======
   "attachments": {},
>>>>>>> eb20265 (Changed collection query based on input from KT.)
=======
>>>>>>> 3607640 (prompt)
   "cell_type": "markdown",
   "id": "a03dcf62-0a40-4ae9-a2ce-73f488916b68",
   "metadata": {
    "execution": {
     "iopub.execute_input": "2023-05-19T16:05:02.136347Z",
     "iopub.status.busy": "2023-05-19T16:05:02.136128Z",
     "iopub.status.idle": "2023-05-19T16:05:02.140189Z",
     "shell.execute_reply": "2023-05-19T16:05:02.139614Z",
     "shell.execute_reply.started": "2023-05-19T16:05:02.136331Z"
    },
    "tags": []
   },
>>>>>>> 3643075 ( NB update for counting messages and comparing)
   "source": [
    "# 3.2 LFA replication to USDF\n",
    "Look in EFD for events with Large Files.\n",
    "Get a few of the files randomly "
   ]
  },
  {
   "cell_type": "code",
   "execution_count": 14,
   "id": "a374ce36-385f-437c-9753-8abf1ee39cb1",
   "metadata": {
    "execution": {
     "iopub.execute_input": "2023-05-19T16:05:23.851256Z",
     "iopub.status.busy": "2023-05-19T16:05:23.851030Z",
     "iopub.status.idle": "2023-05-19T16:05:24.592900Z",
     "shell.execute_reply": "2023-05-19T16:05:24.592380Z",
     "shell.execute_reply.started": "2023-05-19T16:05:23.851240Z"
    },
    "tags": []
   },
   "outputs": [],
   "source": [
    "from lsst_efd_client import EfdClient, resample\n",
    "loc = 'usdf'\n",
    "\n",
    "client = EfdClient(f'{loc}_efd')  \n",
    "client.output = 'dataframe'\n",
    "cl=client.influx_client\n",
    "day = '2023-04-20'\n",
    "\n",
    "query=f'''SELECT url, id FROM \"lsst.sal.Electrometer.logevent_largeFileObjectAvailable\" WHERE time >  '{day}' '''\n",
    "#query 'SELECT \"url\", \"id\" FROM \"efd\".\"autogen\".\"lsst.sal.Electrometer.logevent_largeFileObjectAvailable\" WHERE \"time\" >  2023-04-20T '\n",
    "result = await cl.query(query)\n"
   ]
  },
  {
   "cell_type": "code",
   "execution_count": 13,
   "id": "7ff4d6d7-dcea-4d91-b0ab-bad8122b3547",
   "metadata": {
    "execution": {
     "iopub.execute_input": "2023-05-18T18:21:19.360887Z",
     "iopub.status.busy": "2023-05-18T18:21:19.360431Z",
     "iopub.status.idle": "2023-05-18T18:21:19.544626Z",
     "shell.execute_reply": "2023-05-18T18:21:19.544118Z",
     "shell.execute_reply.started": "2023-05-18T18:21:19.360870Z"
    },
    "tags": []
   },
   "outputs": [
    {
     "name": "stdout",
     "output_type": "stream",
     "text": [
      "Got 173 Large files availble since 2023-04-20 at usdf\n",
      "result[168] https://s3.cp.lsst.org/rubinobs-lfa-cp/Electrometer:201/fits/2023/05/02/Electrometer:201_fits_2023-05-03T01:57:36.248.fits\n",
      "Access s3://rubin:rubinobs-lfa-cp/Electrometer:201/fits/2023/05/02/Electrometer:201_fits_2023-05-03T01:57:36.248.fits\n",
      "Object is 8640 bytes. b'SIMPLE  =                    T / conforms to FITS standard                      '\n",
      "result[51] https://s3.cp.lsst.org/rubinobs-lfa-cp/Electrometer:201/fits/2023/05/02/Electrometer:201_fits_2023-05-02T23:45:47.304.fits\n",
      "Access s3://rubin:rubinobs-lfa-cp/Electrometer:201/fits/2023/05/02/Electrometer:201_fits_2023-05-02T23:45:47.304.fits\n",
      "Object is 8640 bytes. b'SIMPLE  =                    T / conforms to FITS standard                      '\n",
      "result[73] https://s3.cp.lsst.org/rubinobs-lfa-cp/Electrometer:201/fits/2023/05/02/Electrometer:201_fits_2023-05-03T00:11:00.247.fits\n",
      "Access s3://rubin:rubinobs-lfa-cp/Electrometer:201/fits/2023/05/02/Electrometer:201_fits_2023-05-03T00:11:00.247.fits\n",
      "Object is 8640 bytes. b'SIMPLE  =                    T / conforms to FITS standard                      '\n",
      "result[47] https://s3.cp.lsst.org/rubinobs-lfa-cp/Electrometer:201/fits/2023/05/02/Electrometer:201_fits_2023-05-02T23:41:17.827.fits\n",
      "Access s3://rubin:rubinobs-lfa-cp/Electrometer:201/fits/2023/05/02/Electrometer:201_fits_2023-05-02T23:41:17.827.fits\n",
      "Object is 8640 bytes. b'SIMPLE  =                    T / conforms to FITS standard                      '\n",
      "result[121] https://s3.cp.lsst.org/rubinobs-lfa-cp/Electrometer:201/fits/2023/05/02/Electrometer:201_fits_2023-05-03T01:05:01.560.fits\n",
      "Access s3://rubin:rubinobs-lfa-cp/Electrometer:201/fits/2023/05/02/Electrometer:201_fits_2023-05-03T01:05:01.560.fits\n",
      "Object is 8640 bytes. b'SIMPLE  =                    T / conforms to FITS standard                      '\n"
     ]
    }
   ],
   "source": [
    "print(f\"Got {len(result)} Large files available since {day} at {loc}\")\n",
    "# KT says we  need this next line\n",
    "os.environ[\"LSST_DISABLE_BUCKET_VALIDATION\"] = \"1\"\n",
    "from lsst.resources import ResourcePath\n",
    "import random\n",
    "for f in range(0,5):\n",
    "   pos = random.randrange(0,len(result))\n",
    "   file_uri = ResourcePath(result.url[pos].replace(\"https://s3.cp.lsst.org/\",\"s3://rubin:\")  )  \n",
    "   print (f\"result[{pos}] {result.url[pos]}\")\n",
    "   print (f\"Access {file_uri}\")\n",
    "   contents = file_uri.read()\n",
    "   print (f\"Object is {len(contents)} bytes. {contents[0:80]}\")\n"
   ]
<<<<<<< HEAD
>>>>>>> c5c8140 ( LFA)
=======
  },
  {
   "cell_type": "markdown",
   "id": "e01a11d5-9b5e-4870-a1d5-7733c737804a",
   "metadata": {},
   "source": [
    "# 3.3 Automated prompt processing\n",
    "Look in butler for products from prompt processing (ISR for AuxTel)"
   ]
  },
  {
   "cell_type": "code",
   "execution_count": 3,
   "id": "cb8b1529-08aa-4e1a-a295-0ce5698c88a1",
   "metadata": {
    "execution": {
     "iopub.execute_input": "2023-05-24T19:58:22.611811Z",
     "iopub.status.busy": "2023-05-24T19:58:22.611231Z",
     "iopub.status.idle": "2023-05-24T19:58:23.672740Z",
     "shell.execute_reply": "2023-05-24T19:58:23.672254Z",
     "shell.execute_reply.started": "2023-05-24T19:58:22.611794Z"
    },
    "tags": []
   },
   "outputs": [],
   "source": [
    "butler = Butler(repo, instrument=instrument)"
   ]
  },
  {
   "cell_type": "code",
   "execution_count": 4,
   "id": "4b27171a-17dd-4d86-af6b-f9328f1e3321",
   "metadata": {
    "execution": {
     "iopub.execute_input": "2023-05-24T19:58:26.890429Z",
     "iopub.status.busy": "2023-05-24T19:58:26.889780Z",
     "iopub.status.idle": "2023-05-24T19:58:26.895222Z",
     "shell.execute_reply": "2023-05-24T19:58:26.894846Z",
     "shell.execute_reply.started": "2023-05-24T19:58:26.890412Z"
    },
    "tags": []
   },
   "outputs": [
    {
     "name": "stdout",
     "output_type": "stream",
     "text": [
      "LATISS/prompt/output-2023-05-24/ApPipe/prompt-proto-service-00026\n"
     ]
    }
   ],
   "source": [
    "cols = butler.registry.queryCollections('LATISS/prompt/*')\n",
    "for c in cols:\n",
    "   print(c)"
   ]
  },
  {
   "cell_type": "code",
   "execution_count": 9,
   "id": "986bd16a-b306-4893-a588-953249929372",
   "metadata": {
    "execution": {
     "iopub.execute_input": "2023-05-24T22:32:05.424995Z",
     "iopub.status.busy": "2023-05-24T22:32:05.424151Z",
     "iopub.status.idle": "2023-05-24T22:32:05.427747Z",
     "shell.execute_reply": "2023-05-24T22:32:05.427211Z",
     "shell.execute_reply.started": "2023-05-24T22:32:05.424968Z"
    },
    "tags": []
   },
   "outputs": [],
   "source": [
    "promptcollection = ['LATISS/prompt/output-2023-05-24/ApPipe/prompt-proto-service-00026']"
   ]
  },
  {
   "cell_type": "code",
   "execution_count": 51,
   "id": "05eb6453-57a8-4dbc-bc59-2487ab2e069b",
   "metadata": {
    "execution": {
     "iopub.execute_input": "2023-05-25T17:04:58.733196Z",
     "iopub.status.busy": "2023-05-25T17:04:58.732529Z",
     "iopub.status.idle": "2023-05-25T17:04:58.766731Z",
     "shell.execute_reply": "2023-05-25T17:04:58.766260Z",
     "shell.execute_reply.started": "2023-05-25T17:04:58.733179Z"
    },
    "tags": []
   },
   "outputs": [
    {
     "name": "stdout",
     "output_type": "stream",
     "text": [
      "There are 40 raw in collection: ['LATISS/raw/all'] in: /repo/embargo for exposure.day_obs = 20230523 and exposure.observation_reason = 'object'\n",
      "There are 25 calexp in collection: ['LATISS/prompt/output-2023-05-24/ApPipe/prompt-proto-service-00026'] in: /repo/embargo\n"
     ]
    }
   ],
   "source": [
    "\n",
    "dt='raw'\n",
    "where=\"exposure.day_obs = 20230523 and exposure.observation_reason = 'object'\"\n",
    "datasetRefs = list(butler.registry.queryDatasets(datasetType=dt,where=where, collections=collections))\n",
    "dtp='calexp'\n",
    "datasetPrompt = list(butler.registry.queryDatasets(datasetType=dtp, collections=promptcollection))\n",
    "\n",
    "print(f\"There are {len(datasetRefs)} {dt} in collection: {collections} in: {repo} for {where}\")\n",
    "print(f\"There are {len(datasetPrompt)} {dtp} in collection: {promptcollection} in: {repo}\")"
   ]
  },
  {
   "cell_type": "code",
   "execution_count": 96,
   "id": "7feb3c4b-17e5-4a55-9cb4-956d564a9198",
   "metadata": {
    "execution": {
     "iopub.execute_input": "2023-05-25T18:39:39.662493Z",
     "iopub.status.busy": "2023-05-25T18:39:39.662078Z",
     "iopub.status.idle": "2023-05-25T18:39:39.665143Z",
     "shell.execute_reply": "2023-05-25T18:39:39.664775Z",
     "shell.execute_reply.started": "2023-05-25T18:39:39.662476Z"
    },
    "tags": []
   },
   "outputs": [],
   "source": [
    "#Make a map of the prompt processed images for look up below .. \n",
    "# we can not always assume this but for this run exposureid = visitid \n",
    "explookup = {}\n",
    "for ref in datasetRefs:\n",
    "    explookup[ref.dataId['exposure']] = ref\n",
    "    \n",
    "pdslookup = {}\n",
    "for ref in datasetPrompt:\n",
    "    pdslookup[ref.dataId['visit']] = explookup[ref.dataId['visit']]\n",
    "    \n",
    "#Now e have the set of exposures whic were processed by prompt processing"
   ]
  },
  {
   "cell_type": "code",
   "execution_count": 101,
   "id": "2502a0e2-db59-47dc-bd07-3b1e6db46285",
   "metadata": {
    "execution": {
     "iopub.execute_input": "2023-05-25T18:47:49.482957Z",
     "iopub.status.busy": "2023-05-25T18:47:49.482701Z",
     "iopub.status.idle": "2023-05-25T18:47:49.554904Z",
     "shell.execute_reply": "2023-05-25T18:47:49.554289Z",
     "shell.execute_reply.started": "2023-05-25T18:47:49.482938Z"
    },
    "tags": []
   },
   "outputs": [
    {
     "name": "stdout",
     "output_type": "stream",
     "text": [
      "Time between shutter close and prompt mean:0.33115575866669145, std:0.20838310327912998, var:0.043423517732240555 minutes\n",
      "The min time was 0.19349045000003784 max time was 0.9423351500001687 minutes\n"
     ]
    }
   ],
   "source": [
    "res = butler.registry.queryDimensionRecords('exposure', where=where, instrument=instrument)\n",
    "# These are the exposues which have a shutter close time.\n",
    "\n",
    "times = []\n",
    "min = 100\n",
    "max = 0\n",
    "for count,dimensionRecord in enumerate(res):\n",
    "    if dimensionRecord.id not in pdslookup:\n",
    "        continue\n",
    "    datasetRef = pdslookup[dimensionRecord.id]\n",
    "    uuid = datasetRef.id\n",
    "    # the ID in the dimesnion record is the exposure ID (dimensionRecord.id)\n",
    "    # the ID in the oga.dataset is the UUID from the datasetRef \n",
    "    # hence the lookup map created in the ell above is used here to lookup the UUID\n",
    "    \n",
    "    q_string = f\"SELECT ingest_date FROM oga.dataset WHERE id='{uuid}'\"\n",
    "    with butler.registry._db.query(sqlalchemy.text(q_string)) as q:\n",
    "        intime = time.Time(q.all()[0][0])\n",
    "        \n",
    "    diff = (intime - dimensionRecord.timespan.end ).to('minute')\n",
    "    if diff.value < min:\n",
    "        min = diff.value\n",
    "    if diff.value > max:\n",
    "        max = diff.value \n",
    "    #print(r.id,r.timespan.end, intime, diff )\n",
    "    times.append(diff.value)\n",
    "    \n",
    "import numpy as np\n",
    "print (f\"Time between shutter close and prompt mean:{np.mean(times)}, std:{np.std(times)}, var:{np.var(times)} minutes\")\n",
    "print (f\"The min time was {min} max time was {max} minutes\")\n",
    "    "
   ]
  },
  {
   "cell_type": "markdown",
   "id": "ff09647c-529d-4acb-b5a3-c0a883ecffe9",
   "metadata": {},
   "source": [
    "# 3.4 EFD data available"
   ]
  },
  {
   "cell_type": "code",
   "execution_count": 5,
   "id": "359d4cf0-0566-4b82-ad01-a9ba581e3f1e",
   "metadata": {
    "execution": {
     "iopub.execute_input": "2023-05-19T16:03:34.558154Z",
     "iopub.status.busy": "2023-05-19T16:03:34.557601Z",
     "iopub.status.idle": "2023-05-19T16:03:34.561189Z",
     "shell.execute_reply": "2023-05-19T16:03:34.560764Z",
     "shell.execute_reply.started": "2023-05-19T16:03:34.558138Z"
    },
    "tags": []
   },
   "outputs": [
    {
     "name": "stdout",
     "output_type": "stream",
     "text": [
      "Five topics selected on summit ['lsst.sal.ATPtg.mountPositions', 'lsst.sal.MTAirCompressor.analogData', 'lsst.sal.MTMount.elevationDrives', 'lsst.sal.GIS.logevent_heartbeat']\n",
      "Five older topics selected on summit ['lsst.sal.ATPtg.mountPositions', 'lsst.sal.MTAirCompressor.analogData', 'lsst.sal.GIS.logevent_heartbeat', 'lsst.sal.ESS.lightningStrikeStatus']\n"
     ]
    }
   ],
   "source": [
    "selected_topics=['lsst.sal.ATPtg.mountPositions', 'lsst.sal.MTAirCompressor.analogData', 'lsst.sal.MTMount.elevationDrives', 'lsst.sal.GIS.logevent_heartbeat']\n",
    "older_topics=['lsst.sal.ATPtg.mountPositions', 'lsst.sal.MTAirCompressor.analogData', 'lsst.sal.GIS.logevent_heartbeat', 'lsst.sal.ESS.lightningStrikeStatus']\n",
    "print(f\"Five topics selected on summit {selected_topics}\")\n",
    "print(f\"Five older topics selected on summit {older_topics}\")\n"
   ]
  },
  {
   "cell_type": "code",
   "execution_count": null,
   "id": "d300a9ae-1e55-4af6-94d4-ee9cd7b31096",
   "metadata": {
    "tags": []
   },
   "outputs": [],
   "source": [
    "import pickle\n",
    "results = {}\n",
    "oldday = '2023-05-02'\n",
    "#get test_data files from summit notebook\n",
    "with open('test_data.pickle', 'rb') as file:\n",
    "    results = pickle.load(file)\n",
    "with open('old_test_data.pickle', 'rb') as file:\n",
    "    oldresults = pickle.load(file)\n"
   ]
  },
  {
   "cell_type": "code",
   "execution_count": 63,
   "id": "7e5ef411-7ad1-4529-8ad1-c771ee591102",
   "metadata": {
    "execution": {
     "iopub.execute_input": "2023-05-19T17:31:34.429041Z",
     "iopub.status.busy": "2023-05-19T17:31:34.428825Z",
     "iopub.status.idle": "2023-05-19T17:31:34.432478Z",
     "shell.execute_reply": "2023-05-19T17:31:34.432041Z",
     "shell.execute_reply.started": "2023-05-19T17:31:34.429026Z"
    },
    "tags": []
   },
   "outputs": [],
   "source": [
    "def cmp(topic, result, sresult):\n",
    "   print (f\"{topic} had {len(result)} messages - summit had {len(sresult)}\")\n",
    "   if len(result) != len(sresult):\n",
    "        print (f\"{topic} does not match\")\n",
    "   else:\n",
    "        for k in sresult.keys():\n",
    "            if result[k].all() != sresult[k].all():\n",
    "                print (f\"{topic} {key} does not match\")\n"
   ]
  },
  {
   "cell_type": "code",
   "execution_count": 66,
   "id": "e4107ab2-b5ab-485d-b26b-ed3498566b32",
   "metadata": {
    "execution": {
     "iopub.execute_input": "2023-05-19T17:34:50.969268Z",
     "iopub.status.busy": "2023-05-19T17:34:50.969051Z",
     "iopub.status.idle": "2023-05-19T17:34:51.568831Z",
     "shell.execute_reply": "2023-05-19T17:34:51.568341Z",
     "shell.execute_reply.started": "2023-05-19T17:34:50.969252Z"
    },
    "tags": []
   },
   "outputs": [
    {
     "name": "stdout",
     "output_type": "stream",
     "text": [
      "lsst.sal.ATPtg.mountPositions had 29 messages - summit had 29\n",
      "lsst.sal.MTAirCompressor.analogData had 46 messages - summit had 46\n",
      "lsst.sal.MTMount.elevationDrives had 456 messages - summit had 456\n",
      "lsst.sal.GIS.logevent_heartbeat had 30 messages - summit had 30\n",
      "Older messages\n",
      "lsst.sal.ATPtg.mountPositions had 29 messages - summit had 29\n",
      "lsst.sal.MTAirCompressor.analogData had 46 messages - summit had 46\n",
      "lsst.sal.GIS.logevent_heartbeat had 30 messages - summit had 30\n",
      "lsst.sal.ESS.lightningStrikeStatus had 30 messages - summit had 30\n"
     ]
    }
   ],
   "source": [
    "for topic in selected_topics:\n",
    "   query=f'''SELECT * FROM \"{topic}\" WHERE time >  '{day}T00:00:00.000Z' and time < '{day}T00:00:30.000Z' '''\n",
    "   result = await cl.query(query)\n",
    "   cmp(topic, result, results[topic])\n",
    "print(\"Older messages\")\n",
    "for topic in older_topics:\n",
    "   query=f'''SELECT * FROM \"{topic}\" WHERE time >  '{oldday}T00:00:00.000Z' and time < '{oldday}T00:00:30.000Z' '''\n",
    "   result = await cl.query(query)\n",
    "   cmp(topic, result, oldresults[topic])\n",
    "   \n"
   ]
>>>>>>> 3643075 ( NB update for counting messages and comparing)
  }
 ],
 "metadata": {
  "kernelspec": {
   "display_name": "LSST",
   "language": "python",
   "name": "lsst"
  },
  "language_info": {
   "codemirror_mode": {
    "name": "ipython",
    "version": 3
   },
   "file_extension": ".py",
   "mimetype": "text/x-python",
   "name": "python",
   "nbconvert_exporter": "python",
   "pygments_lexer": "ipython3",
<<<<<<< HEAD
<<<<<<< HEAD
<<<<<<< HEAD
   "version": "3.10.10"
=======
   "version": "3.10.9"
>>>>>>> 1ffffd1 ( notebook for summit)
=======
   "version": "3.10.10"
>>>>>>> 79d9e38 ( Access LFA)
=======
   "version": "3.10.9"
>>>>>>> 3607640 (prompt)
  }
 },
 "nbformat": 4,
 "nbformat_minor": 5
}
