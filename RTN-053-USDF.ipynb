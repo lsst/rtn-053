{
 "cells": [
  {
   "cell_type": "code",
<<<<<<< HEAD
<<<<<<< HEAD
<<<<<<< HEAD
<<<<<<< HEAD
<<<<<<< HEAD
<<<<<<< HEAD
<<<<<<< HEAD
<<<<<<< HEAD
   "execution_count": 6,
   "id": "6886f1f9-e461-4cb4-89d3-f1b966cac1b8",
   "metadata": {
    "execution": {
     "iopub.execute_input": "2023-05-16T20:18:12.770464Z",
     "iopub.status.busy": "2023-05-16T20:18:12.770226Z",
     "iopub.status.idle": "2023-05-16T20:18:15.178711Z",
     "shell.execute_reply": "2023-05-16T20:18:15.178191Z",
     "shell.execute_reply.started": "2023-05-16T20:18:12.770442Z"
=======
   "execution_count": 16,
   "id": "6886f1f9-e461-4cb4-89d3-f1b966cac1b8",
   "metadata": {
    "execution": {
     "iopub.execute_input": "2023-05-16T18:12:38.519984Z",
     "iopub.status.busy": "2023-05-16T18:12:38.519521Z",
     "iopub.status.idle": "2023-05-16T18:12:40.754449Z",
     "shell.execute_reply": "2023-05-16T18:12:40.753844Z",
     "shell.execute_reply.started": "2023-05-16T18:12:38.519969Z"
>>>>>>> 1ffffd1 ( notebook for summit)
=======
   "execution_count": 49,
   "id": "6886f1f9-e461-4cb4-89d3-f1b966cac1b8",
   "metadata": {
    "execution": {
     "iopub.execute_input": "2023-05-16T20:38:12.990628Z",
     "iopub.status.busy": "2023-05-16T20:38:12.990445Z",
     "iopub.status.idle": "2023-05-16T20:38:15.139378Z",
     "shell.execute_reply": "2023-05-16T20:38:15.138783Z",
     "shell.execute_reply.started": "2023-05-16T20:38:12.990614Z"
>>>>>>> 7761d55 ( using 5-11 and with KT fixes fro LATISS)
=======
   "execution_count": 53,
   "id": "6886f1f9-e461-4cb4-89d3-f1b966cac1b8",
   "metadata": {
    "execution": {
     "iopub.execute_input": "2023-05-16T20:48:16.494955Z",
     "iopub.status.busy": "2023-05-16T20:48:16.494729Z",
     "iopub.status.idle": "2023-05-16T20:48:17.468593Z",
     "shell.execute_reply": "2023-05-16T20:48:17.468020Z",
     "shell.execute_reply.started": "2023-05-16T20:48:16.494940Z"
>>>>>>> 5546c00 ( small fix)
    },
=======
   "execution_count": null,
   "id": "6886f1f9-e461-4cb4-89d3-f1b966cac1b8",
   "metadata": {
>>>>>>> c5c8140 ( LFA)
=======
   "execution_count": 7,
=======
   "execution_count": 2,
>>>>>>> 3607640 (prompt)
=======
   "execution_count": 62,
>>>>>>> 935b398 ( prompt lag)
=======
   "execution_count": 3,
>>>>>>> 071a0a3 ( plots)
   "id": "6886f1f9-e461-4cb4-89d3-f1b966cac1b8",
   "metadata": {
    "execution": {
     "iopub.execute_input": "2023-05-26T14:53:33.514062Z",
     "iopub.status.busy": "2023-05-26T14:53:33.513732Z",
     "iopub.status.idle": "2023-05-26T14:53:35.233242Z",
     "shell.execute_reply": "2023-05-26T14:53:35.232820Z",
     "shell.execute_reply.started": "2023-05-26T14:53:33.514045Z"
    },
>>>>>>> 3643075 ( NB update for counting messages and comparing)
    "tags": []
   },
   "outputs": [
    {
     "data": {
      "text/html": [
       "<pre style=\"margin: 0.1em;\n",
       "padding-left: 0.25em;\n",
       "border-left-style: solid;\n",
       "font-family: var(--jp-code-font-family);\n",
       "font-size: var(--jp-code-font-size);\n",
       "line-height: var(--jp-code-line-height);\n",
       "\"><span style=\"color: var(--jp-warn-color2)\">botocore.credentials</span> <span style=\"color: var(--jp-info-color0)\">INFO</span>: Found credentials in shared credentials file: /home/o/omullan/.lsst/aws-credentials.ini</pre>"
      ],
      "text/plain": [
       "<IPython.core.display.HTML object>"
      ]
     },
     "metadata": {},
     "output_type": "display_data"
    }
   ],
   "source": [
    "from lsst.daf.butler import Butler\n",
    "from lsst.daf.butler.registry import Registry\n",
    "import sqlalchemy\n",
    "from astropy import time\n",
    "\n",
    "\n",
    "repo = '/repo/embargo'\n",
    "instrument = 'LATISS'\n",
    "# raw all colleciton contains all images \n",
    "collections=['LATISS/raw/all']\n",
<<<<<<< HEAD
<<<<<<< HEAD
<<<<<<< HEAD
<<<<<<< HEAD
    "butler = Butler(repo, collections=\"LATISS/raw/all\", instrument=\"LATISS\")\n",
=======
    "butler = Butler(repo)\n",
>>>>>>> 1ffffd1 ( notebook for summit)
=======
    "butler = Butler(repo, collections=collections, instrument=instrument)\n",
>>>>>>> 7761d55 ( using 5-11 and with KT fixes fro LATISS)
    "cols = butler.registry.queryCollections(\"*LATISS*raw*\")\n",
    "for c in cols :\n",
    "    print(c)\n",
    "\n",
    "\n",
    "butler = Butler(repo, collections=collections)\n",
    "registry = butler.registry\n",
    "\n"
=======
    "butler = Butler(repo, collections=collections, instrument=instrument)\n"
>>>>>>> 5546c00 ( small fix)
=======
    "butler = Butler(repo, collections=collections, instrument=instrument)\n",
    "\n"
>>>>>>> 3643075 ( NB update for counting messages and comparing)
   ]
  },
  {
   "cell_type": "markdown",
   "id": "09bfe2c8-6dd1-44b2-8d67-b7d21091d567",
   "metadata": {},
   "source": [
    "# 3.1 Data transferred and ingested in butler and access to data\n",
    "\n",
    "Get the same ras as we did on the summit"
   ]
  },
  {
   "cell_type": "code",
<<<<<<< HEAD
<<<<<<< HEAD
<<<<<<< HEAD
<<<<<<< HEAD
<<<<<<< HEAD
<<<<<<< HEAD
   "execution_count": 7,
   "id": "8af5fe56-7e45-46cb-a33b-47ef5ba6889e",
   "metadata": {
    "execution": {
     "iopub.execute_input": "2023-05-16T20:18:15.773637Z",
     "iopub.status.busy": "2023-05-16T20:18:15.773443Z",
     "iopub.status.idle": "2023-05-16T20:18:15.830337Z",
     "shell.execute_reply": "2023-05-16T20:18:15.829936Z",
     "shell.execute_reply.started": "2023-05-16T20:18:15.773620Z"
=======
   "execution_count": 32,
   "id": "8af5fe56-7e45-46cb-a33b-47ef5ba6889e",
   "metadata": {
    "execution": {
     "iopub.execute_input": "2023-05-16T18:30:48.081546Z",
     "iopub.status.busy": "2023-05-16T18:30:48.081325Z",
     "iopub.status.idle": "2023-05-16T18:30:48.126859Z",
     "shell.execute_reply": "2023-05-16T18:30:48.126498Z",
     "shell.execute_reply.started": "2023-05-16T18:30:48.081532Z"
>>>>>>> 1ffffd1 ( notebook for summit)
=======
   "execution_count": 46,
   "id": "8af5fe56-7e45-46cb-a33b-47ef5ba6889e",
   "metadata": {
    "execution": {
     "iopub.execute_input": "2023-05-16T20:35:51.250480Z",
     "iopub.status.busy": "2023-05-16T20:35:51.250310Z",
     "iopub.status.idle": "2023-05-16T20:35:51.316964Z",
     "shell.execute_reply": "2023-05-16T20:35:51.316461Z",
     "shell.execute_reply.started": "2023-05-16T20:35:51.250463Z"
>>>>>>> 7761d55 ( using 5-11 and with KT fixes fro LATISS)
=======
   "execution_count": 54,
   "id": "8af5fe56-7e45-46cb-a33b-47ef5ba6889e",
   "metadata": {
    "execution": {
     "iopub.execute_input": "2023-05-16T20:48:19.167845Z",
     "iopub.status.busy": "2023-05-16T20:48:19.167520Z",
     "iopub.status.idle": "2023-05-16T20:48:19.218892Z",
     "shell.execute_reply": "2023-05-16T20:48:19.218376Z",
     "shell.execute_reply.started": "2023-05-16T20:48:19.167828Z"
>>>>>>> 5546c00 ( small fix)
    },
    "tags": []
   },
   "outputs": [
    {
     "name": "stdout",
     "output_type": "stream",
     "text": [
<<<<<<< HEAD
<<<<<<< HEAD
      "There are 592 raw in collection: ['LATISS/raw/all'] in: /repo/embargo for exposure.day_obs = 20230511\n",
      "0 2023051100001\n",
      "0 2023051100599\n"
=======
      "There are 138 raw in collection: ['LATISS/raw/all'] in: /repo/embargo for exposure.day_obs = 20230505\n",
      "0 2023050500001\n",
      "0 2023050500138\n"
>>>>>>> 1ffffd1 ( notebook for summit)
=======
      "There are 592 raw in collection: ['LATISS/raw/all'] in: /repo/embargo for exposure.day_obs = 20230511\n",
      "0 2023051100001\n",
      "0 2023051100599\n"
>>>>>>> 7761d55 ( using 5-11 and with KT fixes fro LATISS)
     ]
    }
   ],
=======
   "execution_count": null,
=======
   "execution_count": 9,
>>>>>>> 3643075 ( NB update for counting messages and comparing)
=======
   "execution_count": 4,
>>>>>>> 071a0a3 ( plots)
   "id": "8af5fe56-7e45-46cb-a33b-47ef5ba6889e",
   "metadata": {
    "execution": {
     "iopub.execute_input": "2023-05-26T14:53:47.779472Z",
     "iopub.status.busy": "2023-05-26T14:53:47.779246Z",
     "iopub.status.idle": "2023-05-26T14:53:47.830506Z",
     "shell.execute_reply": "2023-05-26T14:53:47.830076Z",
     "shell.execute_reply.started": "2023-05-26T14:53:47.779457Z"
    },
    "tags": []
   },
<<<<<<< HEAD
   "outputs": [],
>>>>>>> c5c8140 ( LFA)
=======
   "outputs": [
    {
     "name": "stdout",
     "output_type": "stream",
     "text": [
      "There are 592 raw in collection: ['LATISS/raw/all'] in: /repo/embargo for exposure.day_obs = 20230511\n",
      "0 2023051100012\n",
      "0 2023051100041\n"
     ]
    }
   ],
>>>>>>> 3643075 ( NB update for counting messages and comparing)
   "source": [
<<<<<<< HEAD
<<<<<<< HEAD
    "\n",
    "dt='raw'\n",
    "where=\"exposure.day_obs = 20230511\"\n",
<<<<<<< HEAD
=======
    "dataId={'day_obs':20230509}\n",
    "\n",
    "dt='raw'\n",
    "where=\"exposure.day_obs = 20230505\"\n",
>>>>>>> 1ffffd1 ( notebook for summit)
=======
    "\n",
    "dt='raw'\n",
    "where=\"exposure.day_obs = 20230511\"\n",
>>>>>>> 7761d55 ( using 5-11 and with KT fixes fro LATISS)
    "datasetRefs = list(registry.queryDatasets(datasetType=dt,where=where))\n",
=======
    "datasetRefs = list(butler.registry.queryDatasets(datasetType=dt,where=where))\n",
>>>>>>> 3643075 ( NB update for counting messages and comparing)
    "\n",
    "print(f\"There are {len(datasetRefs)} {dt} in collection: {collections} in: {repo} for {where}\")\n",
    "\n",
    "count = 0\n",
    "for ref in datasetRefs[0], datasetRefs[-1]:\n",
    "    count = count + 1\n",
    "    print( ref.dataId['detector'], ref.dataId['exposure'])\n",
    "\n"
   ]
  },
  {
   "cell_type": "code",
<<<<<<< HEAD
<<<<<<< HEAD
<<<<<<< HEAD
<<<<<<< HEAD
<<<<<<< HEAD
   "execution_count": 8,
   "id": "32609f2b-555d-4865-b1f6-5cb82431ce39",
   "metadata": {
    "execution": {
     "iopub.execute_input": "2023-05-16T20:18:20.801017Z",
     "iopub.status.busy": "2023-05-16T20:18:20.800794Z",
     "iopub.status.idle": "2023-05-16T20:18:20.804121Z",
     "shell.execute_reply": "2023-05-16T20:18:20.803731Z",
     "shell.execute_reply.started": "2023-05-16T20:18:20.801001Z"
=======
   "execution_count": 33,
   "id": "32609f2b-555d-4865-b1f6-5cb82431ce39",
   "metadata": {
    "execution": {
     "iopub.execute_input": "2023-05-16T18:30:51.017852Z",
     "iopub.status.busy": "2023-05-16T18:30:51.017632Z",
     "iopub.status.idle": "2023-05-16T18:30:51.020548Z",
     "shell.execute_reply": "2023-05-16T18:30:51.020203Z",
     "shell.execute_reply.started": "2023-05-16T18:30:51.017833Z"
>>>>>>> 1ffffd1 ( notebook for summit)
=======
   "execution_count": 47,
   "id": "32609f2b-555d-4865-b1f6-5cb82431ce39",
   "metadata": {
    "execution": {
     "iopub.execute_input": "2023-05-16T20:36:02.244260Z",
     "iopub.status.busy": "2023-05-16T20:36:02.244042Z",
     "iopub.status.idle": "2023-05-16T20:36:02.247485Z",
     "shell.execute_reply": "2023-05-16T20:36:02.247053Z",
     "shell.execute_reply.started": "2023-05-16T20:36:02.244245Z"
>>>>>>> 7761d55 ( using 5-11 and with KT fixes fro LATISS)
    },
=======
   "execution_count": null,
   "id": "32609f2b-555d-4865-b1f6-5cb82431ce39",
   "metadata": {
>>>>>>> c5c8140 ( LFA)
=======
   "execution_count": 10,
=======
   "execution_count": 35,
>>>>>>> 071a0a3 ( plots)
   "id": "32609f2b-555d-4865-b1f6-5cb82431ce39",
   "metadata": {
    "execution": {
     "iopub.execute_input": "2023-05-26T15:32:06.089169Z",
     "iopub.status.busy": "2023-05-26T15:32:06.088775Z",
     "iopub.status.idle": "2023-05-26T15:32:06.092282Z",
     "shell.execute_reply": "2023-05-26T15:32:06.091837Z",
     "shell.execute_reply.started": "2023-05-26T15:32:06.089152Z"
    },
>>>>>>> 3643075 ( NB update for counting messages and comparing)
    "tags": []
   },
   "outputs": [],
   "source": [
    "#Make a map of thoose for look up below .. \n",
    "dslookup = {}\n",
    "for ref in datasetRefs:\n",
    "    dslookup[ref.dataId['exposure']] = ref"
   ]
  },
  {
   "cell_type": "markdown",
   "id": "b72217c0-97dc-4f61-8984-6ca32928ce31",
   "metadata": {
    "tags": []
   },
   "source": [
    "### latency ..\n",
    "\"Measure the delays between completion of readout for each image and the ingestion time recorded in the Butler Registry.\"\n",
    "The end of readou is the exposure.timespan.end.\n",
    "Will have to lookup the ingest time usinf a sql query sine is not exposed directly in butler."
   ]
  },
  {
   "cell_type": "code",
<<<<<<< HEAD
<<<<<<< HEAD
<<<<<<< HEAD
<<<<<<< HEAD
<<<<<<< HEAD
<<<<<<< HEAD
<<<<<<< HEAD
   "execution_count": 11,
   "id": "b027f428-e386-48a2-8fe1-6b8bcd24ed97",
   "metadata": {
    "execution": {
     "iopub.execute_input": "2023-05-16T20:25:03.784726Z",
     "iopub.status.busy": "2023-05-16T20:25:03.784485Z",
     "iopub.status.idle": "2023-05-16T20:25:04.554055Z",
     "shell.execute_reply": "2023-05-16T20:25:04.553625Z",
     "shell.execute_reply.started": "2023-05-16T20:25:03.784710Z"
=======
   "execution_count": 34,
   "id": "b027f428-e386-48a2-8fe1-6b8bcd24ed97",
   "metadata": {
    "execution": {
     "iopub.execute_input": "2023-05-16T18:30:55.075447Z",
     "iopub.status.busy": "2023-05-16T18:30:55.075047Z",
     "iopub.status.idle": "2023-05-16T18:30:55.289812Z",
     "shell.execute_reply": "2023-05-16T18:30:55.289212Z",
     "shell.execute_reply.started": "2023-05-16T18:30:55.075430Z"
>>>>>>> 1ffffd1 ( notebook for summit)
=======
   "execution_count": 37,
   "id": "b027f428-e386-48a2-8fe1-6b8bcd24ed97",
   "metadata": {
    "execution": {
     "iopub.execute_input": "2023-05-16T18:51:51.610507Z",
     "iopub.status.busy": "2023-05-16T18:51:51.609690Z",
     "iopub.status.idle": "2023-05-16T18:51:51.819479Z",
     "shell.execute_reply": "2023-05-16T18:51:51.818956Z",
     "shell.execute_reply.started": "2023-05-16T18:51:51.610490Z"
>>>>>>> 1d8fae0 ( Tidy var name sin notebook)
=======
   "execution_count": 48,
   "id": "b027f428-e386-48a2-8fe1-6b8bcd24ed97",
   "metadata": {
    "execution": {
     "iopub.execute_input": "2023-05-16T20:36:06.083902Z",
     "iopub.status.busy": "2023-05-16T20:36:06.083678Z",
     "iopub.status.idle": "2023-05-16T20:36:06.866803Z",
     "shell.execute_reply": "2023-05-16T20:36:06.866293Z",
     "shell.execute_reply.started": "2023-05-16T20:36:06.083887Z"
>>>>>>> 7761d55 ( using 5-11 and with KT fixes fro LATISS)
=======
   "execution_count": 50,
   "id": "b027f428-e386-48a2-8fe1-6b8bcd24ed97",
   "metadata": {
    "execution": {
     "iopub.execute_input": "2023-05-16T20:38:26.621547Z",
     "iopub.status.busy": "2023-05-16T20:38:26.621330Z",
     "iopub.status.idle": "2023-05-16T20:38:27.567828Z",
     "shell.execute_reply": "2023-05-16T20:38:27.567384Z",
     "shell.execute_reply.started": "2023-05-16T20:38:26.621532Z"
>>>>>>> 5546c00 ( small fix)
    },
    "tags": []
   },
   "outputs": [
    {
     "name": "stdout",
     "output_type": "stream",
     "text": [
<<<<<<< HEAD
<<<<<<< HEAD
<<<<<<< HEAD
      "Got Metadata for 592 exposures\n",
      "The min time was 0.19347863333343263 max time was 0.5866245333332909 minutes\n",
      "Time between shutter close and ingest mean:0.23482382218469838, std:0.018058551157743862, var:0.0003261112699168522 minutes\n"
=======
      "Got Metadata for 138 exposures\n",
      "The min time was 2.696276116666727 max time was 10.21479046666661 minutes\n",
      "Time between shutter close and ingest mean:5.4056913442029195, std:1.9467945347980924, var:3.7900089607197214 minutes\n"
>>>>>>> 1ffffd1 ( notebook for summit)
=======
      "Got Metadata for 636 exposures\n",
      "The min time was -695.6220237833332 max time was 0.5866245333332909 minutes\n",
      "Time between shutter close and ingest mean:-47.63839827468552, std:175.60350812205647, var:30836.592064773155 minutes\n"
>>>>>>> 7761d55 ( using 5-11 and with KT fixes fro LATISS)
=======
      "Got Metadata for 592 exposures\n",
      "The min time was 0.19347863333343263 max time was 0.5866245333332909 minutes\n",
      "Time between shutter close and ingest mean:0.23482382218469838, std:0.018058551157743862, var:0.0003261112699168522 minutes\n"
>>>>>>> 5546c00 ( small fix)
     ]
    }
   ],
=======
   "execution_count": null,
=======
   "execution_count": 12,
>>>>>>> 3643075 ( NB update for counting messages and comparing)
=======
   "execution_count": 36,
>>>>>>> 071a0a3 ( plots)
   "id": "b027f428-e386-48a2-8fe1-6b8bcd24ed97",
   "metadata": {
    "execution": {
     "iopub.execute_input": "2023-05-26T15:32:09.887076Z",
     "iopub.status.busy": "2023-05-26T15:32:09.886849Z",
     "iopub.status.idle": "2023-05-26T15:32:09.984559Z",
     "shell.execute_reply": "2023-05-26T15:32:09.984015Z",
     "shell.execute_reply.started": "2023-05-26T15:32:09.887061Z"
    },
    "tags": []
   },
<<<<<<< HEAD
   "outputs": [],
>>>>>>> c5c8140 ( LFA)
=======
   "outputs": [
    {
     "name": "stdout",
     "output_type": "stream",
     "text": [
      "Got Metadata for 40 exposures\n",
      "The min time was 0.19349045000003784 max time was 0.9423351500001687 minutes\n",
      "Time between shutter close and ingest mean:0.3439384000000305, std:0.22579545918238994, var:0.05098358938738632 minutes\n"
     ]
    }
   ],
>>>>>>> 3643075 ( NB update for counting messages and comparing)
   "source": [
<<<<<<< HEAD
    "from astropy import time\n",
    "\n",
<<<<<<< HEAD
<<<<<<< HEAD
    "res = butler.registry.queryDimensionRecords('exposure', where=where, instrument=\"LATISS\")\n",
=======
    "res = butler.registry.queryDimensionRecords('exposure', where=where)\n",
>>>>>>> 1ffffd1 ( notebook for summit)
=======
=======
>>>>>>> 935b398 ( prompt lag)
    "res = butler.registry.queryDimensionRecords('exposure', where=where, instrument=instrument)\n",
>>>>>>> 7761d55 ( using 5-11 and with KT fixes fro LATISS)
    "print (f\"Got Metadata for {res.count()} exposures\")\n",
    "times = []\n",
    "min = 100\n",
    "max = 0\n",
    "for count,dimensionRecord in enumerate(res):\n",
    "    datasetRef = dslookup[dimensionRecord.id]\n",
    "    uuid = datasetRef.id\n",
    "    # the ID in the dimesnion record is the exposure ID (dimensionRecord.id)\n",
    "    # the ID in the oga.dataset is the UUID from the datasetRef \n",
    "    # hence the lookup map created in teh cell above is used here to lookup the UUID\n",
    "    \n",
    "    q_string = f\"SELECT ingest_date FROM oga.dataset WHERE id='{uuid}'\"\n",
    "    with butler.registry._db.query(sqlalchemy.text(q_string)) as q:\n",
    "        intime = time.Time(q.all()[0][0])\n",
    "        \n",
    "    diff = (intime - dimensionRecord.timespan.end ).to('minute')\n",
    "    if diff.value < min:\n",
    "        min = diff.value\n",
    "    if diff.value > max:\n",
    "        max = diff.value \n",
<<<<<<< HEAD
    "    # print(r.id,r.timespan.end, intime, diff )\n",
=======
    "    #print(r.id,r.timespan.end, intime, diff )\n",
>>>>>>> 1ffffd1 ( notebook for summit)
    "    times.append(diff.value)\n",
    "    \n",
    "import numpy as np\n",
    "print (f\"The min time was {min} max time was {max} minutes\")\n",
    "print (f\"Time between shutter close and ingest mean:{np.mean(times)}, std:{np.std(times)}, var:{np.var(times)} minutes\")"
   ]
<<<<<<< HEAD
<<<<<<< HEAD
=======
>>>>>>> c5c8140 ( LFA)
  },
  {
<<<<<<< HEAD
<<<<<<< HEAD
<<<<<<< HEAD
<<<<<<< HEAD
   "cell_type": "code",
   "execution_count": null,
<<<<<<< HEAD
   "id": "67b6ec50-5d87-4b1c-93b8-befbca730516",
   "metadata": {},
   "outputs": [],
   "source": []
=======
>>>>>>> 1ffffd1 ( notebook for summit)
=======
   "id": "6531afe4-f48b-4c8b-9a50-bb37f54d1832",
   "metadata": {},
   "outputs": [],
=======
=======
   "attachments": {},
>>>>>>> eb20265 (Changed collection query based on input from KT.)
=======
>>>>>>> 3607640 (prompt)
=======
   "cell_type": "code",
   "execution_count": 37,
   "id": "fb3504b8-f273-495e-93cd-a5387866798b",
   "metadata": {
    "execution": {
     "iopub.execute_input": "2023-05-26T15:32:19.098248Z",
     "iopub.status.busy": "2023-05-26T15:32:19.097915Z",
     "iopub.status.idle": "2023-05-26T15:32:19.289947Z",
     "shell.execute_reply": "2023-05-26T15:32:19.289423Z",
     "shell.execute_reply.started": "2023-05-26T15:32:19.098233Z"
    },
    "tags": []
   },
   "outputs": [
    {
     "data": {
      "image/png": "iVBORw0KGgoAAAANSUhEUgAAAh8AAAGxCAYAAADCo9TSAAAAOXRFWHRTb2Z0d2FyZQBNYXRwbG90bGliIHZlcnNpb24zLjYuMiwgaHR0cHM6Ly9tYXRwbG90bGliLm9yZy8o6BhiAAAACXBIWXMAAA9hAAAPYQGoP6dpAAAyYUlEQVR4nO3de3RU5dn+8StAMglJiAbIiUCIloNybEGBeICAgBEoB31V4KWg9VAFK6I/a7QlgSJBWihUKtbagrScqggeUCAaEmohfYOCUlSEGjAWQlTMgQihkPv3hytThwRIMHmS4Pez1l4r8+xn9r5nP5OZa/bsvcfPzEwAAACONKnvAgAAwHcL4QMAADhF+AAAAE4RPgAAgFOEDwAA4BThAwAAOEX4AAAAThE+AACAU4QPAADgFOHDgX/84x8aPXq02rVrJ4/Ho8jISPXr108PPvigT7/27dtr+PDhtbrup556SkuXLq3UfvDgQaWmpmrnzp21ur7a4Ofnp9TU1Pouo0qzZ8/WunXran257du316RJk2p9uXWlps+f999/X6mpqdq/f3+leZMmTVL79u1rtT5XZs6cqcsvv1zl5eXVvs+bb76pkJAQ/fvf/67Dymru2Wef1ahRo9S+fXsFBQXpe9/7nu655x4dOnSoyv6rVq1Sz549FRgYqJiYGE2dOlVHjx716ZORkaHbb79dnTt3VnBwsNq0aaORI0fq7bffrrS83/72t+rbt69atWolj8ejdu3a6dZbb9Xu3btr9DiqU1dVj93Pz08hISHVXk9dbK/vFEOdevXVV61JkyY2cOBAW7lypWVmZtrKlSvtwQcftDZt2vj0jYuLs2HDhtXq+rt06WL9+/ev1J6Tk2OSbMmSJbW6vtogyVJSUuq7jCoFBwfbxIkTa32577zzju3bt6/Wl1tXavr8ef75502Sbd68udK8ffv22TvvvFO7BTrw73//24KDg+3555+v8X0TExPtRz/6UR1Udf5iYmJs/Pjxtnz5csvMzLTf//73Fhsba9HR0Zafn+/T9y9/+YtJsjvuuMMyMjLs6aeftrCwMBs8eLBPv5tuuskSExPtqaeesszMTHv++eetb9++1qxZM3vzzTd9+k6fPt1SU1Nt7dq1lpmZaX/605+sY8eOFhwcbB9++GG1HkN16/qmTz/91MLCwiwmJsaCg4OrubXqZnt9lxA+6ti1115rl156qf3nP/+pNO/UqVM+ty+E8PHVV19ZeXn5t1rGdzF8NDa1GT4aq4cfftjatGlT6f+4Ol544QVr2rSpffLJJ3VQ2fk5fPhwpbaKcf7lL3/pbTt58qRFR0fbkCFDfPouX77cJNlrr7121mWWlJRYZGSkDRo06Jw1vf/++ybJfvGLX5yzb03q+qbhw4fbiBEjbOLEiTUKH3Wxvb5LCB91rEuXLtanT59q9a0IH6+//rp9//vft8DAQOvUqZP98Y9/9OmXkpJiVe20WrJkiUmy3Nxc7/Ik+UxxcXG2efPmSu2nv+Hn5OTYiBEj7OKLLzaPx2M9e/a01atXV7m+jRs32m233WatWrUySXbs2LEzPsYvv/zSpk2bZvHx8RYQEGCtW7e2pKQk++CDD7x9qgofu3btsh/+8Id20UUXmcfjsR49etjSpUt9+pw6dcp++ctfWseOHS0wMNDCwsKsW7dutmDBAp9+H330kY0dO9Zat25tAQEB1rlzZ1u0aNEZa/5mXadP3wx21anxTOLi4nxCTcUYrVixwh599FGLjo620NBQGzRoUKVPgeXl5fb4449bu3btzOPxWK9evWzTpk3Wv3//SsGzqKjIHnzwQWvfvr35+/tbTEyM3X///Xb06FGffn/961/tyiuvtBYtWlhQUJDFx8fbbbfd5lPb2Z4/31TxPDl9qgguEydOtLi4uErbevLkyd5Pv4GBgdarVy/btm2blZeX29y5c619+/YWHBxsiYmJtnfv3krrTU9Pt4EDB1poaKgFBQVZQkKCvfHGGz59CgoK7M4777TY2FgLCAiwVq1aWUJCgqWnp59hpL5WVlZmLVu2tP/3//5fpXlPPfWUde/e3YKDgy0kJMQ6depkycnJle4fFhZWrTdVM7OXXnrJ+vbta0FBQRYSEmLXXXedbd261adPxevCP//5T7v11lutRYsWFhERYbfddpsVFhZWaz2nKy8vt6ZNm9pdd93lbXvrrbdMkq1cudKn74kTJywkJMTuvPPOcy43MTHROnbseM5+n332mUmyGTNmnLPv+dT15z//2UJDQy0vL6/G4aMqdbW9LkSEjzp2xx13mCS77777LDs7206cOHHGvnFxcRYbG2uXX365LVu2zDZu3Gj/8z//Y5IsKyvL26+64eOdd96xSy65xL7//e/btm3bbNu2bfbOO+9YUVGRt+/Pf/5z77y8vDwzM8vIyLCAgAC75pprbPXq1bZhwwabNGlSpU+6Fcto06aN3XXXXfb666/bCy+8YCdPnqzy8RUXF1uXLl0sODjYZs6caRs3brQ1a9bY/fffbxkZGd5+p7+RffjhhxYaGmqXXnqpLVu2zNavX29jx441SfbEE094+6WlpVnTpk0tJSXF3nzzTduwYYMtWLDAUlNTvX12797tDSXLli2zTZs22YMPPmhNmjTx6VeVbdu2WVBQkN1www3ebbZ79+4a1XgmZwof7du3t/Hjx9v69ett5cqV1q5dO+vQoYPPNk5OTjZJdtddd9mGDRvsD3/4g7Vr186io6N9wkdpaan17NnTWrVqZfPnz7c33njDFi5caGFhYTZw4EDvHqutW7ean5+f3Xrrrfbaa69ZRkaGLVmyxCZMmGBmds7nz+kKCgps9uzZJsl+97vfefsXFBSY2ZnDR1xcnCUkJNiLL75oa9eutY4dO1p4eLg98MADNnLkSHv11Vdt+fLlFhkZad27d/fZ4/bnP//Z/Pz8bNSoUfbiiy/aK6+8YsOHD7emTZv6BJChQ4da69at7ZlnnrHMzExbt26dTZ8+3VatWnXW8dqyZUuVn1pXrlzp/X/ftGmTvfHGG/b000/bT3/600rLSEpKsh/84AdnXY/Zfz8hDxkyxNatW2erV6+2Xr16WUBAgP3tb3/z9qt4XejUqZNNnz7d0tPTbf78+ebxeLzBsaYqnocLFy70tj399NMmyfvc/6bevXtbv379zrrMwsJCCwsLs9GjR1c5/+TJk3b8+HH74IMPbOTIkRYREVGtPUQ1revw4cPWsmVL+93vfmdmVivhoy6214WK8FHHPv/8c7v66qu9n/b8/f0tISHB0tLSrKSkxKdvXFycBQYG2oEDB7xtx44ds/DwcLv77ru9bdUNH2bn97VL586d7fvf/36lr4qGDx9u0dHR3t3MFeur7nfXM2fONEnn/FR5evi49dZbzePxVHoBSkpKsubNm3s/1Q0fPtx69ux51mUPHTrUYmNjraioyKd9ypQpFhgYaEeOHDnr/c/0tUt1azyTM4WPG264waffX//6V5Nk27ZtMzOzI0eOmMfjsVtuucWn37Zt2yrtmUlLS7MmTZpYTk6OT98XXnjB543017/+tUk6a821+bXLmcJHVFSUzx6ZdevWmSTr2bOnT9BYsGCBSbL33nvPzL4OWeHh4TZixAifZZ46dcp69OhhV155pbctJCTEpk6dWq3H8E1PPPGESar03f6UKVPsoosuqtYyHnvsMWvSpEmlvU6n1xwTE2PdunXz+XqnpKTEIiIiLCEhwdtW8bowd+5cn2Xce++9FhgYWOOvQ4uLi+2yyy6ztm3b+rxWPf744ybJDh06VOk+Q4YMOecejfHjx1uzZs1s+/btVc73eDze18uOHTva+++/X616a1rXjTfeaAkJCd7t8m3DR11trwsVZ7vUsZYtW+pvf/ubcnJyNGfOHI0cOVIfffSRkpOT1a1bN33++ec+/Xv27Kl27dp5bwcGBqpjx446cOCAk3r37dunDz/8UOPHj5cknTx50jvdcMMNOnTokPbs2eNznxtvvLFay3799dfVsWNHXXfddTWqKSMjQ4MGDVLbtm192idNmqSvvvpK27ZtkyRdeeWVevfdd3Xvvfdq48aNKi4u9ul//Phxvfnmmxo9erSaN29e6bEdP35c2dnZNaqtpjXW1A9/+EOf2927d5ck7/MhOztbZWVluvnmm3369e3bt9IZJK+++qq6du2qnj17+jz2oUOHys/PT5mZmZKkK664QpJ08803669//Wu9nZWRmJio4OBg7+3LLrtMkpSUlCQ/P79K7RXbZOvWrTpy5IgmTpzo8zjLy8t1/fXXKycnR6WlpZK+fs4sXbpUs2bNUnZ2tv7zn/9Uq7aDBw/Kz89PrVq18mm/8sorVVhYqLFjx+qll16q9P/9TRERESovL1d+fv4Z++zZs0cHDx7UhAkT1KTJf1+uQ0JCdOONNyo7O1tfffWVz32qes4cP35cBQUF1Xps0tf/K2PGjNGBAwf0/PPPV3kWyDfHoDrtkvSLX/xCy5cv129+8xv16tWryj5bt27Vtm3b9Je//EWhoaFKTEz0OePl1KlTlca1pnWtWbNGr7zyiv7whz+ctd7y8nKfdZ06darKfnW1vS5khA9HevfurZ/97Gd6/vnndfDgQT3wwAPav3+/5s6d69OvZcuWle7r8Xh07NgxJ3UePnxYkvTQQw/J39/fZ7r33nslqdILanR0dLWW/dlnnyk2NrbGNX3xxRdVriMmJsY7X5KSk5P161//WtnZ2UpKSlLLli01aNAgbd++3dvv5MmTevLJJys9thtuuKHKx1bbNdbU6c8Hj8cjSd7nQ8VyIyMjK9339LbDhw/rvffeq/TYQ0NDZWbex37ttddq3bp1OnnypH70ox8pNjZWXbt21cqVK8/rMZyv8PBwn9sBAQFnbT9+/Lik/z6Hb7rppkqP9YknnpCZ6ciRI5Kk1atXa+LEiXr22WfVr18/hYeH60c/+tFZA4H09fb39/dX06ZNfdonTJigP/3pTzpw4IBuvPFGRUREqE+fPkpPT6+0jMDAQO+yzqRifM/03CovL9eXX37p036u58y5lJWVafTo0Xrrrbf08ssvq0+fPlUuv6rn9JEjRyqNT4UZM2Zo1qxZevzxxzVlypQzrv8HP/iB+vbtq/Hjx2vz5s0yMz366KPe+ZdeeqnPmM6cObNGdR09elSTJ0/Wfffdp5iYGBUWFqqwsFAnTpyQJBUWFnrD6cyZM33WdemllzrbXhe6ZvVdwHeRv7+/UlJS9Jvf/Eb//Oc/a3z/ihetsrIy7wuLdP5vnN9U8UkuOTlZY8aMqbJPp06dfG5XN7m3bt1an376aY1ratmyZZXnzh88eFDSf2tu1qyZpk2bpmnTpqmwsFBvvPGGHn30UQ0dOlR5eXm6+OKL1bRpU02YMEGTJ0+ucl3x8fE1rq8mNda2ihe2ijfcb8rPz/fZ+9GqVSsFBQXpT3/6U5XL+maNI0eO1MiRI1VWVqbs7GylpaVp3Lhxat++vfr161e7D6KWVTyOJ598Un379q2yT0Uwa9WqlRYsWKAFCxbok08+0csvv6xHHnlEBQUF2rBhw1nXceLECZWWlvrsnZGk2267TbfddptKS0u1ZcsWpaSkaPjw4froo48UFxfn7VcRgM723KgY3zM9t5o0aaKLL774jPevqbKyMo0aNUqbN2/WSy+9pEGDBlXq061bN0nSrl27dPnll3vbT548qQ8//FBjx46tdJ8ZM2YoNTVVqampPkHiXEJDQ9W5c2d99NFH3rZXXnlFZWVl3tsVAb+6dX3++ec6fPiw5s2bp3nz5lVa58UXX6yRI0dq3bp1uuuuu3yuvfTN11up7rbXdwHho44dOnSoyk8tH3zwgaT//uPURMUbynvvvefdRS59/U95ujPtNTnTp6FOnTqpQ4cOevfddzV79uwa13Y2SUlJmj59ujIyMjRw4MBq32/QoEFau3atDh486LO9li1bpubNm1f5BnPRRRfppptu0r///W9NnTpV+/fv1+WXX67ExETt2LFD3bt3935irokzbc/zqbE29OnTRx6PR6tXr/YJi9nZ2Tpw4IBP+Bg+fLhmz56tli1bVjtkeTwe9e/fXxdddJE2btyoHTt2qF+/fjX+NF3T/t/GVVddpYsuukjvv//+WT9hn65du3aaMmWK3nzzTf39738/a9/OnTtLkv71r395vwo7XXBwsJKSknTixAmNGjVKu3fv9gkfH3/8sVq2bFnlXqsKnTp1Ups2bbRixQo99NBD3qBfWlqqNWvWqF+/fmrevHm1H+PZVHyCz8jI0IsvvqihQ4dW2a9Pnz6Kjo7W0qVLdcstt3jbX3jhBR09erTSh5Zf/vKXSk1N1c9//nOlpKTUqKbPP/9cu3bt0lVXXeVtq3gzP9+6oqKitHnz5kr3nzNnjrKysvT66697A2FMTMwZX6Prant9VxA+6tjQoUMVGxurESNGqHPnziovL9fOnTs1b948hYSE6P7776/xMm+44QaFh4frxz/+sWbOnKlmzZpp6dKlysvLq9S3W7duWrVqlVavXq1LLrlEgYGB6tatmy699FIFBQVp+fLluuyyyxQSEuL9R/v973+vpKQkDR06VJMmTVKbNm105MgRffDBB3rnnXf0/PPPn9e2mDp1qlavXq2RI0fqkUce0ZVXXqljx44pKytLw4cPV2JiYpX3S0lJ0auvvqrExERNnz5d4eHhWr58udavX6+5c+cqLCxMkjRixAh17dpVvXv3VuvWrXXgwAEtWLBAcXFx6tChgyRp4cKFuvrqq3XNNdfonnvuUfv27VVSUqJ9+/bplVdeUUZGxlkfQ7du3ZSZmalXXnlF0dHRCg0NVadOnapdY20LDw/XtGnTlJaWposvvlijR4/Wp59+qhkzZig6OtrnOIGpU6dqzZo1uvbaa/XAAw+oe/fuKi8v1yeffKJNmzbpwQcfVJ8+fTR9+nR9+umnGjRokGJjY1VYWKiFCxfK399f/fv3l6SzPn+q0rVrV0nSM888o9DQUAUGBio+Pr7Krxm/rZCQED355JOaOHGijhw5optuukkRERH67LPP9O677+qzzz7T4sWLVVRUpMTERI0bN06dO3dWaGiocnJytGHDhnO+IQwYMEDS1yHvm+HjzjvvVFBQkK666ipFR0crPz9faWlpCgsL8/mgUHHf/v37n3XPYZMmTTR37lyNHz9ew4cP1913362ysjL96le/UmFhoebMmXP+G+o0N910k15//XU99thjatmypc/xTy1atPB+am/atKnmzp2rCRMm6O6779bYsWO1d+9ePfzwwxo8eLCuv/567/3mzZun6dOn6/rrr9ewYcMqHVNVEcqLioo0ePBgjRs3Th06dFBQUJA++ugjLVy4UGVlZdUKLdWtKzAw0Dt+37R06VI1bdq0ynmuttd3Sj0f8HrBW716tY0bN846dOhgISEh5u/vb+3atbMJEyZUOor7TBcZq+p6Df/3f/9nCQkJFhwcbG3atLGUlBR79tlnK53tsn//fhsyZIiFhoZ6T1+ssHLlSuvcubP5+/tXOsPk3XfftZtvvtkiIiLM39/foqKibODAgfb00097+1Sc7XL62RNn8+WXX9r9999v7dq1M39/f4uIiLBhw4b5XLvi9FrMvr6GxogRIywsLMwCAgKsR48elc60mDdvniUkJFirVq0sICDA2rVrZz/+8Y9t//79Pv1yc3Pt9ttvtzZt2pi/v7+1bt3aEhISbNasWeesf+fOnXbVVVdZ8+bNq7zOx7lqPJMzne1y+tUzc3NzK51lUl5ebrNmzfJeq6J79+726quvWo8ePSqdznj06FH7+c9/bp06dbKAgADvaccPPPCA98yNV1991ZKSkqxNmzYWEBBgERERdsMNN/ic1ml29udPVRYsWGDx8fHWtGnTal/no6rH/qtf/cqn/UzbKisry4YNG2bh4eHm7+9vbdq0sWHDhnn7HT9+3H7yk59Y9+7dvdcz6dSpk6WkpFhpaelZH4uZ2TXXXFPpbKTnnnvOEhMTLTIy0gICAiwmJsZuvvlm75k4Ffbt22eSbM2aNedcj9nXZ/r06dPHAgMDLTg42AYNGmR///vfffpUnO3y2Wef+bRXdRZcVVTFtVgqpqrOmFuxYoV1797dAgICLCoqyn76059WOoOvf//+Z11uhePHj9sdd9xhl112mYWEhFizZs0sNjbW/vd//7fKU1TPpjp1VaWmZ7vUxfb6LvEzM6vTdAPAudzcXHXu3FkpKSk1+o4d1bdmzRrdcsstOnDggNq0aVOj+/7iF7/QsmXL9K9//UvNmrEDGt89hA+gkXv33Xe1cuVKJSQkqEWLFtqzZ4/mzp2r4uJi/fOf/zzrMQU4f2amhIQE9erVS4sWLar2/QoLC3XJJZfoySef9J7SDnzXELmBRi44OFjbt2/XH//4RxUWFiosLEwDBgzQ448/TvCoQ35+fvrDH/6gl19+WeXl5T7H15xNbm6ukpOTNW7cuDquEGi42PMBAACc4iJjAADAKcIHAABwivABAACcanAHnJaXl+vgwYMKDQ39zv7gDgAAjY2ZqaSkRDExMec8ALvBhY+DBw9W+mVQAADQOOTl5Z3zR0RrFD4WL16sxYsXa//+/ZKkLl26aPr06UpKSpL0deqZMWOGnnnmGX355Zfq06ePfve736lLly7VXkdoaKi3+BYtWtSkPAAAUE+Ki4vVtm1b7/v42dQofMTGxmrOnDn63ve+J0l67rnnNHLkSO3YsUNdunTR3LlzNX/+fC1dulQdO3bUrFmzNHjwYO3Zs6daxUj//YXUFi1aED4AAGhkqnPIxLe+zkd4eLh+9atf6fbbb1dMTIymTp2qn/3sZ5K+/tW/yMhIPfHEE7r77rurtbzi4mKFhYWpqKiI8AEAQCNRk/fv8z7b5dSpU1q1apVKS0vVr18/5ebmKj8/X0OGDPH2qfg57q1bt55xOWVlZSouLvaZAADAhavG4WPXrl0KCQmRx+PRT37yE61du1aXX3658vPzJanS5ZwjIyO986pS8XPTFRMHmwIAcGGrcfjo1KmTdu7cqezsbN1zzz2aOHGi3n//fe/807/rMbOzfv+TnJysoqIi75SXl1fTkgAAQCNS41NtAwICvAec9u7dWzk5OVq4cKH3OI/8/HxFR0d7+xcUFJz1x608Ho88Hk9NywAAAI3Ut77CqZmprKxM8fHxioqKUnp6unfeiRMnlJWVpYSEhG+7GgAAcIGo0Z6PRx99VElJSWrbtq1KSkq0atUqZWZmasOGDfLz89PUqVM1e/ZsdejQQR06dNDs2bPVvHlzfjoaAAB41Sh8HD58WBMmTNChQ4cUFham7t27a8OGDRo8eLAk6eGHH9axY8d07733ei8ytmnTpmpf4wMAAFz4vvV1Pmob1/kAAKDxcXKdDwAAgPNB+AAAAE4RPgAAgFOEDwAA4BThAwAAOFXjK5w2du0fWV/fJdSr/XOG1XcJAIDvOPZ8AAAApwgfAADAKcIHAABwivABAACcInwAAACnCB8AAMApwgcAAHCK8AEAAJwifAAAAKcIHwAAwCnCBwAAcIrwAQAAnCJ8AAAApwgfAADAKcIHAABwivABAACcInwAAACnCB8AAMApwgcAAHCK8AEAAJwifAAAAKcIHwAAwCnCBwAAcIrwAQAAnCJ8AAAApwgfAADAKcIHAABwivABAACcInwAAACnCB8AAMApwgcAAHCK8AEAAJwifAAAAKcIHwAAwCnCBwAAcIrwAQAAnCJ8AAAApwgfAADAKcIHAABwivABAACcInwAAACnCB8AAMApwgcAAHCK8AEAAJyqUfhIS0vTFVdcodDQUEVERGjUqFHas2ePT59JkybJz8/PZ+rbt2+tFg0AABqvGoWPrKwsTZ48WdnZ2UpPT9fJkyc1ZMgQlZaW+vS7/vrrdejQIe/02muv1WrRAACg8WpWk84bNmzwub1kyRJFRETo7bff1rXXXutt93g8ioqKqp0KAQDABeVbHfNRVFQkSQoPD/dpz8zMVEREhDp27Kg777xTBQUFZ1xGWVmZiouLfSYAAHDhOu/wYWaaNm2arr76anXt2tXbnpSUpOXLlysjI0Pz5s1TTk6OBg4cqLKysiqXk5aWprCwMO/Utm3b8y0JAAA0An5mZudzx8mTJ2v9+vV66623FBsbe8Z+hw4dUlxcnFatWqUxY8ZUml9WVuYTTIqLi9W2bVsVFRWpRYsW51PaWbV/ZH2tL7Mx2T9nWH2XAAC4ABUXFyssLKxa7981Ouajwn333aeXX35ZW7ZsOWvwkKTo6GjFxcVp7969Vc73eDzyeDznUwYAAGiEahQ+zEz33Xef1q5dq8zMTMXHx5/zPl988YXy8vIUHR193kUCAIALR42O+Zg8ebL+8pe/aMWKFQoNDVV+fr7y8/N17NgxSdLRo0f10EMPadu2bdq/f78yMzM1YsQItWrVSqNHj66TBwAAABqXGu35WLx4sSRpwIABPu1LlizRpEmT1LRpU+3atUvLli1TYWGhoqOjlZiYqNWrVys0NLTWigYAAI1Xjb92OZugoCBt3LjxWxUEAAAubPy2CwAAcIrwAQAAnCJ8AAAApwgfAADAKcIHAABwivABAACcInwAAACnCB8AAMApwgcAAHCK8AEAAJwifAAAAKcIHwAAwCnCBwAAcIrwAQAAnCJ8AAAApwgfAADAKcIHAABwivABAACcInwAAACnCB8AAMApwgcAAHCK8AEAAJwifAAAAKcIHwAAwCnCBwAAcIrwAQAAnCJ8AAAApwgfAADAKcIHAABwivABAACcInwAAACnCB8AAMApwgcAAHCK8AEAAJwifAAAAKcIHwAAwCnCBwAAcIrwAQAAnCJ8AAAApwgfAADAKcIHAABwivABAACcInwAAACnCB8AAMApwgcAAHCK8AEAAJwifAAAAKcIHwAAwCnCBwAAcIrwAQAAnKpR+EhLS9MVV1yh0NBQRUREaNSoUdqzZ49PHzNTamqqYmJiFBQUpAEDBmj37t21WjQAAGi8ahQ+srKyNHnyZGVnZys9PV0nT57UkCFDVFpa6u0zd+5czZ8/X4sWLVJOTo6ioqI0ePBglZSU1HrxAACg8WlWk84bNmzwub1kyRJFRETo7bff1rXXXisz04IFC/TYY49pzJgxkqTnnntOkZGRWrFihe6+++7aqxwAADRK3+qYj6KiIklSeHi4JCk3N1f5+fkaMmSIt4/H41H//v21devWKpdRVlam4uJinwkAAFy4zjt8mJmmTZumq6++Wl27dpUk5efnS5IiIyN9+kZGRnrnnS4tLU1hYWHeqW3btudbEgAAaATOO3xMmTJF7733nlauXFlpnp+fn89tM6vUViE5OVlFRUXeKS8v73xLAgAAjUCNjvmocN999+nll1/Wli1bFBsb622PioqS9PUekOjoaG97QUFBpb0hFTwejzwez/mUAQAAGqEa7fkwM02ZMkUvvviiMjIyFB8f7zM/Pj5eUVFRSk9P97adOHFCWVlZSkhIqJ2KAQBAo1ajPR+TJ0/WihUr9NJLLyk0NNR7HEdYWJiCgoLk5+enqVOnavbs2erQoYM6dOig2bNnq3nz5ho3blydPAAAANC41Ch8LF68WJI0YMAAn/YlS5Zo0qRJkqSHH35Yx44d07333qsvv/xSffr00aZNmxQaGlorBQMAgMatRuHDzM7Zx8/PT6mpqUpNTT3fmgAAwAWM33YBAABOET4AAIBThA8AAOAU4QMAADhF+AAAAE4RPgAAgFOEDwAA4BThAwAAOEX4AAAAThE+AACAU4QPAADgFOEDAAA4RfgAAABOET4AAIBThA8AAOAU4QMAADhF+AAAAE4RPgAAgFOEDwAA4BThAwAAOEX4AAAAThE+AACAU4QPAADgFOEDAAA4RfgAAABOET4AAIBThA8AAOAU4QMAADhF+AAAAE4RPgAAgFOEDwAA4BThAwAAOEX4AAAAThE+AACAU4QPAADgFOEDAAA4RfgAAABOET4AAIBThA8AAOAU4QMAADhF+AAAAE4RPgAAgFOEDwAA4BThAwAAOEX4AAAAThE+AACAU4QPAADgFOEDAAA4RfgAAABO1Th8bNmyRSNGjFBMTIz8/Py0bt06n/mTJk2Sn5+fz9S3b9/aqhcAADRyNQ4fpaWl6tGjhxYtWnTGPtdff70OHTrknV577bVvVSQAALhwNKvpHZKSkpSUlHTWPh6PR1FRUeddFAAAuHDVyTEfmZmZioiIUMeOHXXnnXeqoKDgjH3LyspUXFzsMwEAgAtXrYePpKQkLV++XBkZGZo3b55ycnI0cOBAlZWVVdk/LS1NYWFh3qlt27a1XRIAAGhAavy1y7nccsst3r+7du2q3r17Ky4uTuvXr9eYMWMq9U9OTta0adO8t4uLiwkgAABcwGo9fJwuOjpacXFx2rt3b5XzPR6PPB5PXZcBAAAaiDq/zscXX3yhvLw8RUdH1/WqAABAI1DjPR9Hjx7Vvn37vLdzc3O1c+dOhYeHKzw8XKmpqbrxxhsVHR2t/fv369FHH1WrVq00evToWi0cAAA0TjUOH9u3b1diYqL3dsXxGhMnTtTixYu1a9cuLVu2TIWFhYqOjlZiYqJWr16t0NDQ2qsaAAA0WjUOHwMGDJCZnXH+xo0bv1VBAADgwsZvuwAAAKcIHwAAwCnCBwAAcIrwAQAAnCJ8AAAApwgfAADAKcIHAABwivABAACcInwAAACnCB8AAMApwgcAAHCK8AEAAJwifAAAAKcIHwAAwCnCBwAAcIrwAQAAnCJ8AAAApwgfAADAKcIHAABwivABAACcInwAAACnCB8AAMApwgcAAHCK8AEAAJwifAAAAKcIHwAAwCnCBwAAcIrwAQAAnCJ8AAAApwgfAADAKcIHAABwivABAACcInwAAACnCB8AAMApwgcAAHCK8AEAAJwifAAAAKcIHwAAwCnCBwAAcIrwAQAAnCJ8AAAApwgfAADAKcIHAABwivABAACcInwAAACnCB8AAMApwgcAAHCK8AEAAJwifAAAAKcIHwAAwKkah48tW7ZoxIgRiomJkZ+fn9atW+cz38yUmpqqmJgYBQUFacCAAdq9e3dt1QsAABq5GoeP0tJS9ejRQ4sWLapy/ty5czV//nwtWrRIOTk5ioqK0uDBg1VSUvKtiwUAAI1fs5reISkpSUlJSVXOMzMtWLBAjz32mMaMGSNJeu655xQZGakVK1bo7rvv/nbVAgCARq9Wj/nIzc1Vfn6+hgwZ4m3zeDzq37+/tm7dWuV9ysrKVFxc7DMBAIALV62Gj/z8fElSZGSkT3tkZKR33unS0tIUFhbmndq2bVubJQEAgAamTs528fPz87ltZpXaKiQnJ6uoqMg75eXl1UVJAACggajxMR9nExUVJenrPSDR0dHe9oKCgkp7Qyp4PB55PJ7aLAMAADRgtbrnIz4+XlFRUUpPT/e2nThxQllZWUpISKjNVQEAgEaqxns+jh49qn379nlv5+bmaufOnQoPD1e7du00depUzZ49Wx06dFCHDh00e/ZsNW/eXOPGjavVwgEAQONU4/Cxfft2JSYmem9PmzZNkjRx4kQtXbpUDz/8sI4dO6Z7771XX375pfr06aNNmzYpNDS09qoGAACNlp+ZWX0X8U3FxcUKCwtTUVGRWrRoUevLb//I+lpfZmOyf86w+i4BAHABqsn7N7/tAgAAnCJ8AAAApwgfAADAKcIHAABwivABAACcInwAAACnCB8AAMApwgcAAHCK8AEAAJwifAAAAKcIHwAAwCnCBwAAcIrwAQAAnCJ8AAAApwgfAADAKcIHAABwivABAACcInwAAACnCB8AAMApwgcAAHCK8AEAAJwifAAAAKcIHwAAwCnCBwAAcIrwAQAAnCJ8AAAApwgfAADAKcIHAABwivABAACcInwAAACnCB8AAMApwgcAAHCK8AEAAJwifAAAAKcIHwAAwCnCBwAAcIrwAQAAnCJ8AAAApwgfAADAKcIHAABwivABAACcInwAAACnCB8AAMApwgcAAHCK8AEAAJwifAAAAKcIHwAAwCnCBwAAcIrwAQAAnCJ8AAAAp2o9fKSmpsrPz89nioqKqu3VAACARqpZXSy0S5cueuONN7y3mzZtWherAQAAjVCdhI9mzZqxtwMAAFSpTo752Lt3r2JiYhQfH69bb71VH3/88Rn7lpWVqbi42GcCAAAXrlrf89GnTx8tW7ZMHTt21OHDhzVr1iwlJCRo9+7datmyZaX+aWlpmjFjRm2XAeAM2j+yvr5LqHf75wyr7xKA77Ra3/ORlJSkG2+8Ud26ddN1112n9eu/fqF77rnnquyfnJysoqIi75SXl1fbJQEAgAakTo75+Kbg4GB169ZNe/furXK+x+ORx+Op6zIAAEADUefX+SgrK9MHH3yg6Ojoul4VAABoBGo9fDz00EPKyspSbm6u/vGPf+imm25ScXGxJk6cWNurAgAAjVCtf+3y6aefauzYsfr888/VunVr9e3bV9nZ2YqLi6vtVQEAgEao1sPHqlWranuRAADgAsJvuwAAAKcIHwAAwCnCBwAAcIrwAQAAnCJ8AAAApwgfAADAKcIHAABwivABAACcInwAAACnCB8AAMApwgcAAHCK8AEAAJwifAAAAKcIHwAAwCnCBwAAcIrwAQAAnCJ8AAAAp5rVdwEAALjW/pH19V1Cvdo/Z1i9rp89HwAAwCnCBwAAcIrwAQAAnCJ8AAAApwgfAADAKcIHAABwivABAACcInwAAACnCB8AAMApwgcAAHCK8AEAAJwifAAAAKcIHwAAwCnCBwAAcIrwAQAAnCJ8AAAApwgfAADAKcIHAABwivABAACcInwAAACnCB8AAMApwgcAAHCK8AEAAJxqVt8FAK61f2R9fZeAesZzAKhf7PkAAABOET4AAIBThA8AAOAU4QMAADhF+AAAAE4RPgAAgFOEDwAA4FSdhY+nnnpK8fHxCgwMVK9evfS3v/2trlYFAAAakToJH6tXr9bUqVP12GOPaceOHbrmmmuUlJSkTz75pC5WBwAAGpE6CR/z58/Xj3/8Y91xxx267LLLtGDBArVt21aLFy+ui9UBAIBGpNYvr37ixAm9/fbbeuSRR3zahwwZoq1bt1bqX1ZWprKyMu/toqIiSVJxcXFtlyZJKi/7qk6W21jU1XZtTL7rzwEAqIv3goplmtk5+9Z6+Pj888916tQpRUZG+rRHRkYqPz+/Uv+0tDTNmDGjUnvbtm1ruzRICltQ3xUAAOpbXb4XlJSUKCws7Kx96uyH5fz8/Hxum1mlNklKTk7WtGnTvLfLy8t15MgRtWzZslL/4uJitW3bVnl5eWrRokXdFI5qYzwaHsakYWE8GhbGo26ZmUpKShQTE3POvrUePlq1aqWmTZtW2stRUFBQaW+IJHk8Hnk8Hp+2iy666KzraNGiBU+cBoTxaHgYk4aF8WhYGI+6c649HhVq/YDTgIAA9erVS+np6T7t6enpSkhIqO3VAQCARqZOvnaZNm2aJkyYoN69e6tfv3565pln9Mknn+gnP/lJXawOAAA0InUSPm655RZ98cUXmjlzpg4dOqSuXbvqtddeU1xc3LdarsfjUUpKSqWvaVA/GI+GhzFpWBiPhoXxaDj8rDrnxAAAANQSftsFAAA4RfgAAABOET4AAIBThA8AAOAU4QMAADjVIMPHli1bNGLECMXExMjPz0/r1q3zmW9mSk1NVUxMjIKCgjRgwADt3r27foq9wKWlpemKK65QaGioIiIiNGrUKO3Zs8enD+Ph1uLFi9W9e3fvVRr79eun119/3Tuf8ahfaWlp8vPz09SpU71tjIk7qamp8vPz85mioqK88xmLhqFBho/S0lL16NFDixYtqnL+3LlzNX/+fC1atEg5OTmKiorS4MGDVVJS4rjSC19WVpYmT56s7Oxspaen6+TJkxoyZIhKS0u9fRgPt2JjYzVnzhxt375d27dv18CBAzVy5EjvCyjjUX9ycnL0zDPPqHv37j7tjIlbXbp00aFDh7zTrl27vPMYiwbCGjhJtnbtWu/t8vJyi4qKsjlz5njbjh8/bmFhYfb000/XQ4XfLQUFBSbJsrKyzIzxaCguvvhie/bZZxmPelRSUmIdOnSw9PR069+/v91///1mxv+IaykpKdajR48q5zEWDUeD3PNxNrm5ucrPz9eQIUO8bR6PR/3799fWrVvrsbLvhqKiIklSeHi4JMajvp06dUqrVq1SaWmp+vXrx3jUo8mTJ2vYsGG67rrrfNoZE/f27t2rmJgYxcfH69Zbb9XHH38sibFoSOrk8up1qeLXck//hdzIyEgdOHCgPkr6zjAzTZs2TVdffbW6du0qifGoL7t27VK/fv10/PhxhYSEaO3atbr88su9L6CMh1urVq3SO++8o5ycnErz+B9xq0+fPlq2bJk6duyow4cPa9asWUpISNDu3bsZiwak0YWPCn5+fj63zaxSG2rXlClT9N577+mtt96qNI/xcKtTp07auXOnCgsLtWbNGk2cOFFZWVne+YyHO3l5ebr//vu1adMmBQYGnrEfY+JGUlKS9+9u3bqpX79+uvTSS/Xcc8+pb9++khiLhqDRfe1ScdRyRYKtUFBQUCnNovbcd999evnll7V582bFxsZ62xmP+hEQEKDvfe976t27t9LS0tSjRw8tXLiQ8agHb7/9tgoKCtSrVy81a9ZMzZo1U1ZWln7729+qWbNm3u3OmNSP4OBgdevWTXv37uX/owFpdOEjPj5eUVFRSk9P97adOHFCWVlZSkhIqMfKLkxmpilTpujFF19URkaG4uPjfeYzHg2DmamsrIzxqAeDBg3Srl27tHPnTu/Uu3dvjR8/Xjt37tQll1zCmNSjsrIyffDBB4qOjub/oyGpv2Ndz6ykpMR27NhhO3bsMEk2f/5827Fjhx04cMDMzObMmWNhYWH24osv2q5du2zs2LEWHR1txcXF9Vz5heeee+6xsLAwy8zMtEOHDnmnr776ytuH8XArOTnZtmzZYrm5ufbee+/Zo48+ak2aNLFNmzaZGePREHzzbBczxsSlBx980DIzM+3jjz+27OxsGz58uIWGhtr+/fvNjLFoKBpk+Ni8ebNJqjRNnDjRzL4+XSolJcWioqLM4/HYtddea7t27arfoi9QVY2DJFuyZIm3D+Ph1u23325xcXEWEBBgrVu3tkGDBnmDhxnj0RCcHj4YE3duueUWi46ONn9/f4uJibExY8bY7t27vfMZi4bBz8ysfva5AACA76JGd8wHAABo3AgfAADAKcIHAABwivABAACcInwAAACnCB8AAMApwgcAAHCK8AEAAJwifAAAAKcIHwAAwCnCBwAAcOr/A010rilDUZd/AAAAAElFTkSuQmCC\n",
      "text/plain": [
       "<Figure size 640x480 with 1 Axes>"
      ]
     },
     "metadata": {},
     "output_type": "display_data"
    }
   ],
   "source": [
    "import matplotlib.pyplot as plt\n",
    "seconds = list(map(lambda t:t*60.0,times))\n",
    "plt.hist(seconds,bins='auto')\n",
    "plt.title(f\"Shutter close to ingest times (s) on {day}\")\n",
    "plt.show()"
   ]
  },
  {
>>>>>>> 071a0a3 ( plots)
   "cell_type": "markdown",
   "id": "a03dcf62-0a40-4ae9-a2ce-73f488916b68",
   "metadata": {
    "execution": {
     "iopub.execute_input": "2023-05-19T16:05:02.136347Z",
     "iopub.status.busy": "2023-05-19T16:05:02.136128Z",
     "iopub.status.idle": "2023-05-19T16:05:02.140189Z",
     "shell.execute_reply": "2023-05-19T16:05:02.139614Z",
     "shell.execute_reply.started": "2023-05-19T16:05:02.136331Z"
    },
    "tags": []
   },
>>>>>>> 3643075 ( NB update for counting messages and comparing)
   "source": [
    "# 3.2 LFA replication to USDF\n",
    "Look in EFD for events with Large Files.\n",
    "Get a few of the files randomly "
   ]
  },
  {
   "cell_type": "code",
   "execution_count": 9,
   "id": "a374ce36-385f-437c-9753-8abf1ee39cb1",
   "metadata": {
    "execution": {
     "iopub.execute_input": "2023-05-26T14:54:34.895521Z",
     "iopub.status.busy": "2023-05-26T14:54:34.895156Z",
     "iopub.status.idle": "2023-05-26T14:54:35.987885Z",
     "shell.execute_reply": "2023-05-26T14:54:35.987383Z",
     "shell.execute_reply.started": "2023-05-26T14:54:34.895502Z"
    },
    "tags": []
   },
   "outputs": [],
   "source": [
    "from lsst_efd_client import EfdClient, resample\n",
    "loc = 'usdf'\n",
    "\n",
    "client = EfdClient(f'{loc}_efd')  \n",
    "client.output = 'dataframe'\n",
    "cl=client.influx_client\n",
    "day = '2023-04-20'\n",
    "\n",
    "query=f'''SELECT url, id FROM \"lsst.sal.Electrometer.logevent_largeFileObjectAvailable\" WHERE time >  '{day}' '''\n",
    "result = await cl.query(query)\n"
   ]
  },
  {
   "cell_type": "code",
   "execution_count": 10,
   "id": "7ff4d6d7-dcea-4d91-b0ab-bad8122b3547",
   "metadata": {
    "execution": {
     "iopub.execute_input": "2023-05-26T14:54:38.835142Z",
     "iopub.status.busy": "2023-05-26T14:54:38.834911Z",
     "iopub.status.idle": "2023-05-26T14:54:39.135498Z",
     "shell.execute_reply": "2023-05-26T14:54:39.134706Z",
     "shell.execute_reply.started": "2023-05-26T14:54:38.835118Z"
    },
    "tags": []
   },
   "outputs": [
    {
     "name": "stdout",
     "output_type": "stream",
     "text": [
      "Got 173 Large files available since 2023-04-20 at usdf\n",
      "result[161] https://s3.cp.lsst.org/rubinobs-lfa-cp/Electrometer:201/fits/2023/05/02/Electrometer:201_fits_2023-05-03T01:49:46.863.fits\n",
      "Access s3://rubin:rubinobs-lfa-cp/Electrometer:201/fits/2023/05/02/Electrometer:201_fits_2023-05-03T01:49:46.863.fits\n"
     ]
    },
    {
     "ename": "ParamValidationError",
     "evalue": "Parameter validation failed:\nInvalid bucket name \"rubin:rubinobs-lfa-cp\": Bucket name must match the regex \"^[a-zA-Z0-9.\\-_]{1,255}$\" or be an ARN matching the regex \"^arn:(aws).*:(s3|s3-object-lambda):[a-z\\-0-9]*:[0-9]{12}:accesspoint[/:][a-zA-Z0-9\\-.]{1,63}$|^arn:(aws).*:s3-outposts:[a-z\\-0-9]+:[0-9]{12}:outpost[/:][a-zA-Z0-9\\-]{1,63}[/:]accesspoint[/:][a-zA-Z0-9\\-]{1,63}$\"",
     "output_type": "error",
     "traceback": [
      "\u001b[0;31m---------------------------------------------------------------------------\u001b[0m",
      "\u001b[0;31mParamValidationError\u001b[0m                      Traceback (most recent call last)",
      "Input \u001b[0;32mIn [10]\u001b[0m, in \u001b[0;36m<cell line: 6>\u001b[0;34m()\u001b[0m\n\u001b[1;32m      9\u001b[0m \u001b[38;5;28mprint\u001b[39m (\u001b[38;5;124mf\u001b[39m\u001b[38;5;124m\"\u001b[39m\u001b[38;5;124mresult[\u001b[39m\u001b[38;5;132;01m{\u001b[39;00mpos\u001b[38;5;132;01m}\u001b[39;00m\u001b[38;5;124m] \u001b[39m\u001b[38;5;132;01m{\u001b[39;00mresult\u001b[38;5;241m.\u001b[39murl[pos]\u001b[38;5;132;01m}\u001b[39;00m\u001b[38;5;124m\"\u001b[39m)\n\u001b[1;32m     10\u001b[0m \u001b[38;5;28mprint\u001b[39m (\u001b[38;5;124mf\u001b[39m\u001b[38;5;124m\"\u001b[39m\u001b[38;5;124mAccess \u001b[39m\u001b[38;5;132;01m{\u001b[39;00mfile_uri\u001b[38;5;132;01m}\u001b[39;00m\u001b[38;5;124m\"\u001b[39m)\n\u001b[0;32m---> 11\u001b[0m contents \u001b[38;5;241m=\u001b[39m \u001b[43mfile_uri\u001b[49m\u001b[38;5;241;43m.\u001b[39;49m\u001b[43mread\u001b[49m\u001b[43m(\u001b[49m\u001b[43m)\u001b[49m\n\u001b[1;32m     12\u001b[0m \u001b[38;5;28mprint\u001b[39m (\u001b[38;5;124mf\u001b[39m\u001b[38;5;124m\"\u001b[39m\u001b[38;5;124mObject is \u001b[39m\u001b[38;5;132;01m{\u001b[39;00m\u001b[38;5;28mlen\u001b[39m(contents)\u001b[38;5;132;01m}\u001b[39;00m\u001b[38;5;124m bytes. \u001b[39m\u001b[38;5;132;01m{\u001b[39;00mcontents[\u001b[38;5;241m0\u001b[39m:\u001b[38;5;241m80\u001b[39m]\u001b[38;5;132;01m}\u001b[39;00m\u001b[38;5;124m\"\u001b[39m)\n",
      "File \u001b[0;32m/opt/lsst/software/stack/conda/miniconda3-py38_4.9.2/envs/lsst-scipipe-5.1.0/lib/python3.10/site-packages/backoff/_sync.py:105\u001b[0m, in \u001b[0;36mretry_exception.<locals>.retry\u001b[0;34m(*args, **kwargs)\u001b[0m\n\u001b[1;32m     96\u001b[0m details \u001b[38;5;241m=\u001b[39m {\n\u001b[1;32m     97\u001b[0m     \u001b[38;5;124m\"\u001b[39m\u001b[38;5;124mtarget\u001b[39m\u001b[38;5;124m\"\u001b[39m: target,\n\u001b[1;32m     98\u001b[0m     \u001b[38;5;124m\"\u001b[39m\u001b[38;5;124margs\u001b[39m\u001b[38;5;124m\"\u001b[39m: args,\n\u001b[0;32m   (...)\u001b[0m\n\u001b[1;32m    101\u001b[0m     \u001b[38;5;124m\"\u001b[39m\u001b[38;5;124melapsed\u001b[39m\u001b[38;5;124m\"\u001b[39m: elapsed,\n\u001b[1;32m    102\u001b[0m }\n\u001b[1;32m    104\u001b[0m \u001b[38;5;28;01mtry\u001b[39;00m:\n\u001b[0;32m--> 105\u001b[0m     ret \u001b[38;5;241m=\u001b[39m \u001b[43mtarget\u001b[49m\u001b[43m(\u001b[49m\u001b[38;5;241;43m*\u001b[39;49m\u001b[43margs\u001b[49m\u001b[43m,\u001b[49m\u001b[43m \u001b[49m\u001b[38;5;241;43m*\u001b[39;49m\u001b[38;5;241;43m*\u001b[39;49m\u001b[43mkwargs\u001b[49m\u001b[43m)\u001b[49m\n\u001b[1;32m    106\u001b[0m \u001b[38;5;28;01mexcept\u001b[39;00m exception \u001b[38;5;28;01mas\u001b[39;00m e:\n\u001b[1;32m    107\u001b[0m     max_tries_exceeded \u001b[38;5;241m=\u001b[39m (tries \u001b[38;5;241m==\u001b[39m max_tries_value)\n",
      "File \u001b[0;32m/opt/lsst/software/stack/stack/miniconda3-py38_4.9.2-5.1.0/Linux64/resources/g3fd76a0146+1f1225d9a0/python/lsst/resources/s3.py:154\u001b[0m, in \u001b[0;36mS3ResourcePath.read\u001b[0;34m(self, size)\u001b[0m\n\u001b[1;32m    152\u001b[0m     args[\u001b[38;5;124m\"\u001b[39m\u001b[38;5;124mRange\u001b[39m\u001b[38;5;124m\"\u001b[39m] \u001b[38;5;241m=\u001b[39m \u001b[38;5;124mf\u001b[39m\u001b[38;5;124m\"\u001b[39m\u001b[38;5;124mbytes=0-\u001b[39m\u001b[38;5;132;01m{\u001b[39;00msize\u001b[38;5;241m-\u001b[39m\u001b[38;5;241m1\u001b[39m\u001b[38;5;132;01m}\u001b[39;00m\u001b[38;5;124m\"\u001b[39m\n\u001b[1;32m    153\u001b[0m \u001b[38;5;28;01mtry\u001b[39;00m:\n\u001b[0;32m--> 154\u001b[0m     response \u001b[38;5;241m=\u001b[39m \u001b[38;5;28;43mself\u001b[39;49m\u001b[38;5;241;43m.\u001b[39;49m\u001b[43mclient\u001b[49m\u001b[38;5;241;43m.\u001b[39;49m\u001b[43mget_object\u001b[49m\u001b[43m(\u001b[49m\u001b[43mBucket\u001b[49m\u001b[38;5;241;43m=\u001b[39;49m\u001b[38;5;28;43mself\u001b[39;49m\u001b[38;5;241;43m.\u001b[39;49m\u001b[43mnetloc\u001b[49m\u001b[43m,\u001b[49m\u001b[43m \u001b[49m\u001b[43mKey\u001b[49m\u001b[38;5;241;43m=\u001b[39;49m\u001b[38;5;28;43mself\u001b[39;49m\u001b[38;5;241;43m.\u001b[39;49m\u001b[43mrelativeToPathRoot\u001b[49m\u001b[43m,\u001b[49m\u001b[43m \u001b[49m\u001b[38;5;241;43m*\u001b[39;49m\u001b[38;5;241;43m*\u001b[39;49m\u001b[43margs\u001b[49m\u001b[43m)\u001b[49m\n\u001b[1;32m    155\u001b[0m \u001b[38;5;28;01mexcept\u001b[39;00m (\u001b[38;5;28mself\u001b[39m\u001b[38;5;241m.\u001b[39mclient\u001b[38;5;241m.\u001b[39mexceptions\u001b[38;5;241m.\u001b[39mNoSuchKey, \u001b[38;5;28mself\u001b[39m\u001b[38;5;241m.\u001b[39mclient\u001b[38;5;241m.\u001b[39mexceptions\u001b[38;5;241m.\u001b[39mNoSuchBucket) \u001b[38;5;28;01mas\u001b[39;00m err:\n\u001b[1;32m    156\u001b[0m     \u001b[38;5;28;01mraise\u001b[39;00m \u001b[38;5;167;01mFileNotFoundError\u001b[39;00m(\u001b[38;5;124mf\u001b[39m\u001b[38;5;124m\"\u001b[39m\u001b[38;5;124mNo such resource: \u001b[39m\u001b[38;5;132;01m{\u001b[39;00m\u001b[38;5;28mself\u001b[39m\u001b[38;5;132;01m}\u001b[39;00m\u001b[38;5;124m\"\u001b[39m) \u001b[38;5;28;01mfrom\u001b[39;00m \u001b[38;5;21;01merr\u001b[39;00m\n",
      "File \u001b[0;32m/opt/lsst/software/stack/conda/miniconda3-py38_4.9.2/envs/lsst-scipipe-5.1.0/lib/python3.10/site-packages/botocore/client.py:530\u001b[0m, in \u001b[0;36mClientCreator._create_api_method.<locals>._api_call\u001b[0;34m(self, *args, **kwargs)\u001b[0m\n\u001b[1;32m    526\u001b[0m     \u001b[38;5;28;01mraise\u001b[39;00m \u001b[38;5;167;01mTypeError\u001b[39;00m(\n\u001b[1;32m    527\u001b[0m         \u001b[38;5;124mf\u001b[39m\u001b[38;5;124m\"\u001b[39m\u001b[38;5;132;01m{\u001b[39;00mpy_operation_name\u001b[38;5;132;01m}\u001b[39;00m\u001b[38;5;124m() only accepts keyword arguments.\u001b[39m\u001b[38;5;124m\"\u001b[39m\n\u001b[1;32m    528\u001b[0m     )\n\u001b[1;32m    529\u001b[0m \u001b[38;5;66;03m# The \"self\" in this scope is referring to the BaseClient.\u001b[39;00m\n\u001b[0;32m--> 530\u001b[0m \u001b[38;5;28;01mreturn\u001b[39;00m \u001b[38;5;28;43mself\u001b[39;49m\u001b[38;5;241;43m.\u001b[39;49m\u001b[43m_make_api_call\u001b[49m\u001b[43m(\u001b[49m\u001b[43moperation_name\u001b[49m\u001b[43m,\u001b[49m\u001b[43m \u001b[49m\u001b[43mkwargs\u001b[49m\u001b[43m)\u001b[49m\n",
      "File \u001b[0;32m/opt/lsst/software/stack/conda/miniconda3-py38_4.9.2/envs/lsst-scipipe-5.1.0/lib/python3.10/site-packages/botocore/client.py:919\u001b[0m, in \u001b[0;36mBaseClient._make_api_call\u001b[0;34m(self, operation_name, api_params)\u001b[0m\n\u001b[1;32m    910\u001b[0m request_context \u001b[38;5;241m=\u001b[39m {\n\u001b[1;32m    911\u001b[0m     \u001b[38;5;124m'\u001b[39m\u001b[38;5;124mclient_region\u001b[39m\u001b[38;5;124m'\u001b[39m: \u001b[38;5;28mself\u001b[39m\u001b[38;5;241m.\u001b[39mmeta\u001b[38;5;241m.\u001b[39mregion_name,\n\u001b[1;32m    912\u001b[0m     \u001b[38;5;124m'\u001b[39m\u001b[38;5;124mclient_config\u001b[39m\u001b[38;5;124m'\u001b[39m: \u001b[38;5;28mself\u001b[39m\u001b[38;5;241m.\u001b[39mmeta\u001b[38;5;241m.\u001b[39mconfig,\n\u001b[1;32m    913\u001b[0m     \u001b[38;5;124m'\u001b[39m\u001b[38;5;124mhas_streaming_input\u001b[39m\u001b[38;5;124m'\u001b[39m: operation_model\u001b[38;5;241m.\u001b[39mhas_streaming_input,\n\u001b[1;32m    914\u001b[0m     \u001b[38;5;124m'\u001b[39m\u001b[38;5;124mauth_type\u001b[39m\u001b[38;5;124m'\u001b[39m: operation_model\u001b[38;5;241m.\u001b[39mauth_type,\n\u001b[1;32m    915\u001b[0m }\n\u001b[1;32m    916\u001b[0m endpoint_url, additional_headers \u001b[38;5;241m=\u001b[39m \u001b[38;5;28mself\u001b[39m\u001b[38;5;241m.\u001b[39m_resolve_endpoint_ruleset(\n\u001b[1;32m    917\u001b[0m     operation_model, api_params, request_context\n\u001b[1;32m    918\u001b[0m )\n\u001b[0;32m--> 919\u001b[0m request_dict \u001b[38;5;241m=\u001b[39m \u001b[38;5;28;43mself\u001b[39;49m\u001b[38;5;241;43m.\u001b[39;49m\u001b[43m_convert_to_request_dict\u001b[49m\u001b[43m(\u001b[49m\n\u001b[1;32m    920\u001b[0m \u001b[43m    \u001b[49m\u001b[43mapi_params\u001b[49m\u001b[38;5;241;43m=\u001b[39;49m\u001b[43mapi_params\u001b[49m\u001b[43m,\u001b[49m\n\u001b[1;32m    921\u001b[0m \u001b[43m    \u001b[49m\u001b[43moperation_model\u001b[49m\u001b[38;5;241;43m=\u001b[39;49m\u001b[43moperation_model\u001b[49m\u001b[43m,\u001b[49m\n\u001b[1;32m    922\u001b[0m \u001b[43m    \u001b[49m\u001b[43mendpoint_url\u001b[49m\u001b[38;5;241;43m=\u001b[39;49m\u001b[43mendpoint_url\u001b[49m\u001b[43m,\u001b[49m\n\u001b[1;32m    923\u001b[0m \u001b[43m    \u001b[49m\u001b[43mcontext\u001b[49m\u001b[38;5;241;43m=\u001b[39;49m\u001b[43mrequest_context\u001b[49m\u001b[43m,\u001b[49m\n\u001b[1;32m    924\u001b[0m \u001b[43m    \u001b[49m\u001b[43mheaders\u001b[49m\u001b[38;5;241;43m=\u001b[39;49m\u001b[43madditional_headers\u001b[49m\u001b[43m,\u001b[49m\n\u001b[1;32m    925\u001b[0m \u001b[43m\u001b[49m\u001b[43m)\u001b[49m\n\u001b[1;32m    926\u001b[0m resolve_checksum_context(request_dict, operation_model, api_params)\n\u001b[1;32m    928\u001b[0m service_id \u001b[38;5;241m=\u001b[39m \u001b[38;5;28mself\u001b[39m\u001b[38;5;241m.\u001b[39m_service_model\u001b[38;5;241m.\u001b[39mservice_id\u001b[38;5;241m.\u001b[39mhyphenize()\n",
      "File \u001b[0;32m/opt/lsst/software/stack/conda/miniconda3-py38_4.9.2/envs/lsst-scipipe-5.1.0/lib/python3.10/site-packages/botocore/client.py:987\u001b[0m, in \u001b[0;36mBaseClient._convert_to_request_dict\u001b[0;34m(self, api_params, operation_model, endpoint_url, context, headers, set_user_agent_header)\u001b[0m\n\u001b[1;32m    978\u001b[0m \u001b[38;5;28;01mdef\u001b[39;00m \u001b[38;5;21m_convert_to_request_dict\u001b[39m(\n\u001b[1;32m    979\u001b[0m     \u001b[38;5;28mself\u001b[39m,\n\u001b[1;32m    980\u001b[0m     api_params,\n\u001b[0;32m   (...)\u001b[0m\n\u001b[1;32m    985\u001b[0m     set_user_agent_header\u001b[38;5;241m=\u001b[39m\u001b[38;5;28;01mTrue\u001b[39;00m,\n\u001b[1;32m    986\u001b[0m ):\n\u001b[0;32m--> 987\u001b[0m     api_params \u001b[38;5;241m=\u001b[39m \u001b[38;5;28;43mself\u001b[39;49m\u001b[38;5;241;43m.\u001b[39;49m\u001b[43m_emit_api_params\u001b[49m\u001b[43m(\u001b[49m\n\u001b[1;32m    988\u001b[0m \u001b[43m        \u001b[49m\u001b[43mapi_params\u001b[49m\u001b[43m,\u001b[49m\u001b[43m \u001b[49m\u001b[43moperation_model\u001b[49m\u001b[43m,\u001b[49m\u001b[43m \u001b[49m\u001b[43mcontext\u001b[49m\n\u001b[1;32m    989\u001b[0m \u001b[43m    \u001b[49m\u001b[43m)\u001b[49m\n\u001b[1;32m    990\u001b[0m     request_dict \u001b[38;5;241m=\u001b[39m \u001b[38;5;28mself\u001b[39m\u001b[38;5;241m.\u001b[39m_serializer\u001b[38;5;241m.\u001b[39mserialize_to_request(\n\u001b[1;32m    991\u001b[0m         api_params, operation_model\n\u001b[1;32m    992\u001b[0m     )\n\u001b[1;32m    993\u001b[0m     \u001b[38;5;28;01mif\u001b[39;00m \u001b[38;5;129;01mnot\u001b[39;00m \u001b[38;5;28mself\u001b[39m\u001b[38;5;241m.\u001b[39m_client_config\u001b[38;5;241m.\u001b[39minject_host_prefix:\n",
      "File \u001b[0;32m/opt/lsst/software/stack/conda/miniconda3-py38_4.9.2/envs/lsst-scipipe-5.1.0/lib/python3.10/site-packages/botocore/client.py:1026\u001b[0m, in \u001b[0;36mBaseClient._emit_api_params\u001b[0;34m(self, api_params, operation_model, context)\u001b[0m\n\u001b[1;32m   1018\u001b[0m responses \u001b[38;5;241m=\u001b[39m \u001b[38;5;28mself\u001b[39m\u001b[38;5;241m.\u001b[39mmeta\u001b[38;5;241m.\u001b[39mevents\u001b[38;5;241m.\u001b[39memit(\n\u001b[1;32m   1019\u001b[0m     \u001b[38;5;124mf\u001b[39m\u001b[38;5;124m'\u001b[39m\u001b[38;5;124mprovide-client-params.\u001b[39m\u001b[38;5;132;01m{\u001b[39;00mservice_id\u001b[38;5;132;01m}\u001b[39;00m\u001b[38;5;124m.\u001b[39m\u001b[38;5;132;01m{\u001b[39;00moperation_name\u001b[38;5;132;01m}\u001b[39;00m\u001b[38;5;124m'\u001b[39m,\n\u001b[1;32m   1020\u001b[0m     params\u001b[38;5;241m=\u001b[39mapi_params,\n\u001b[1;32m   1021\u001b[0m     model\u001b[38;5;241m=\u001b[39moperation_model,\n\u001b[1;32m   1022\u001b[0m     context\u001b[38;5;241m=\u001b[39mcontext,\n\u001b[1;32m   1023\u001b[0m )\n\u001b[1;32m   1024\u001b[0m api_params \u001b[38;5;241m=\u001b[39m first_non_none_response(responses, default\u001b[38;5;241m=\u001b[39mapi_params)\n\u001b[0;32m-> 1026\u001b[0m \u001b[38;5;28;43mself\u001b[39;49m\u001b[38;5;241;43m.\u001b[39;49m\u001b[43mmeta\u001b[49m\u001b[38;5;241;43m.\u001b[39;49m\u001b[43mevents\u001b[49m\u001b[38;5;241;43m.\u001b[39;49m\u001b[43memit\u001b[49m\u001b[43m(\u001b[49m\n\u001b[1;32m   1027\u001b[0m \u001b[43m    \u001b[49m\u001b[38;5;124;43mf\u001b[39;49m\u001b[38;5;124;43m'\u001b[39;49m\u001b[38;5;124;43mbefore-parameter-build.\u001b[39;49m\u001b[38;5;132;43;01m{\u001b[39;49;00m\u001b[43mservice_id\u001b[49m\u001b[38;5;132;43;01m}\u001b[39;49;00m\u001b[38;5;124;43m.\u001b[39;49m\u001b[38;5;132;43;01m{\u001b[39;49;00m\u001b[43moperation_name\u001b[49m\u001b[38;5;132;43;01m}\u001b[39;49;00m\u001b[38;5;124;43m'\u001b[39;49m\u001b[43m,\u001b[49m\n\u001b[1;32m   1028\u001b[0m \u001b[43m    \u001b[49m\u001b[43mparams\u001b[49m\u001b[38;5;241;43m=\u001b[39;49m\u001b[43mapi_params\u001b[49m\u001b[43m,\u001b[49m\n\u001b[1;32m   1029\u001b[0m \u001b[43m    \u001b[49m\u001b[43mmodel\u001b[49m\u001b[38;5;241;43m=\u001b[39;49m\u001b[43moperation_model\u001b[49m\u001b[43m,\u001b[49m\n\u001b[1;32m   1030\u001b[0m \u001b[43m    \u001b[49m\u001b[43mcontext\u001b[49m\u001b[38;5;241;43m=\u001b[39;49m\u001b[43mcontext\u001b[49m\u001b[43m,\u001b[49m\n\u001b[1;32m   1031\u001b[0m \u001b[43m\u001b[49m\u001b[43m)\u001b[49m\n\u001b[1;32m   1032\u001b[0m \u001b[38;5;28;01mreturn\u001b[39;00m api_params\n",
      "File \u001b[0;32m/opt/lsst/software/stack/conda/miniconda3-py38_4.9.2/envs/lsst-scipipe-5.1.0/lib/python3.10/site-packages/botocore/hooks.py:412\u001b[0m, in \u001b[0;36mEventAliaser.emit\u001b[0;34m(self, event_name, **kwargs)\u001b[0m\n\u001b[1;32m    410\u001b[0m \u001b[38;5;28;01mdef\u001b[39;00m \u001b[38;5;21memit\u001b[39m(\u001b[38;5;28mself\u001b[39m, event_name, \u001b[38;5;241m*\u001b[39m\u001b[38;5;241m*\u001b[39mkwargs):\n\u001b[1;32m    411\u001b[0m     aliased_event_name \u001b[38;5;241m=\u001b[39m \u001b[38;5;28mself\u001b[39m\u001b[38;5;241m.\u001b[39m_alias_event_name(event_name)\n\u001b[0;32m--> 412\u001b[0m     \u001b[38;5;28;01mreturn\u001b[39;00m \u001b[38;5;28;43mself\u001b[39;49m\u001b[38;5;241;43m.\u001b[39;49m\u001b[43m_emitter\u001b[49m\u001b[38;5;241;43m.\u001b[39;49m\u001b[43memit\u001b[49m\u001b[43m(\u001b[49m\u001b[43maliased_event_name\u001b[49m\u001b[43m,\u001b[49m\u001b[43m \u001b[49m\u001b[38;5;241;43m*\u001b[39;49m\u001b[38;5;241;43m*\u001b[39;49m\u001b[43mkwargs\u001b[49m\u001b[43m)\u001b[49m\n",
      "File \u001b[0;32m/opt/lsst/software/stack/conda/miniconda3-py38_4.9.2/envs/lsst-scipipe-5.1.0/lib/python3.10/site-packages/botocore/hooks.py:256\u001b[0m, in \u001b[0;36mHierarchicalEmitter.emit\u001b[0;34m(self, event_name, **kwargs)\u001b[0m\n\u001b[1;32m    245\u001b[0m \u001b[38;5;28;01mdef\u001b[39;00m \u001b[38;5;21memit\u001b[39m(\u001b[38;5;28mself\u001b[39m, event_name, \u001b[38;5;241m*\u001b[39m\u001b[38;5;241m*\u001b[39mkwargs):\n\u001b[1;32m    246\u001b[0m     \u001b[38;5;124;03m\"\"\"\u001b[39;00m\n\u001b[1;32m    247\u001b[0m \u001b[38;5;124;03m    Emit an event by name with arguments passed as keyword args.\u001b[39;00m\n\u001b[1;32m    248\u001b[0m \n\u001b[0;32m   (...)\u001b[0m\n\u001b[1;32m    254\u001b[0m \u001b[38;5;124;03m             handlers.\u001b[39;00m\n\u001b[1;32m    255\u001b[0m \u001b[38;5;124;03m    \"\"\"\u001b[39;00m\n\u001b[0;32m--> 256\u001b[0m     \u001b[38;5;28;01mreturn\u001b[39;00m \u001b[38;5;28;43mself\u001b[39;49m\u001b[38;5;241;43m.\u001b[39;49m\u001b[43m_emit\u001b[49m\u001b[43m(\u001b[49m\u001b[43mevent_name\u001b[49m\u001b[43m,\u001b[49m\u001b[43m \u001b[49m\u001b[43mkwargs\u001b[49m\u001b[43m)\u001b[49m\n",
      "File \u001b[0;32m/opt/lsst/software/stack/conda/miniconda3-py38_4.9.2/envs/lsst-scipipe-5.1.0/lib/python3.10/site-packages/botocore/hooks.py:239\u001b[0m, in \u001b[0;36mHierarchicalEmitter._emit\u001b[0;34m(self, event_name, kwargs, stop_on_response)\u001b[0m\n\u001b[1;32m    237\u001b[0m \u001b[38;5;28;01mfor\u001b[39;00m handler \u001b[38;5;129;01min\u001b[39;00m handlers_to_call:\n\u001b[1;32m    238\u001b[0m     logger\u001b[38;5;241m.\u001b[39mdebug(\u001b[38;5;124m'\u001b[39m\u001b[38;5;124mEvent \u001b[39m\u001b[38;5;132;01m%s\u001b[39;00m\u001b[38;5;124m: calling handler \u001b[39m\u001b[38;5;132;01m%s\u001b[39;00m\u001b[38;5;124m'\u001b[39m, event_name, handler)\n\u001b[0;32m--> 239\u001b[0m     response \u001b[38;5;241m=\u001b[39m \u001b[43mhandler\u001b[49m\u001b[43m(\u001b[49m\u001b[38;5;241;43m*\u001b[39;49m\u001b[38;5;241;43m*\u001b[39;49m\u001b[43mkwargs\u001b[49m\u001b[43m)\u001b[49m\n\u001b[1;32m    240\u001b[0m     responses\u001b[38;5;241m.\u001b[39mappend((handler, response))\n\u001b[1;32m    241\u001b[0m     \u001b[38;5;28;01mif\u001b[39;00m stop_on_response \u001b[38;5;129;01mand\u001b[39;00m response \u001b[38;5;129;01mis\u001b[39;00m \u001b[38;5;129;01mnot\u001b[39;00m \u001b[38;5;28;01mNone\u001b[39;00m:\n",
      "File \u001b[0;32m/opt/lsst/software/stack/conda/miniconda3-py38_4.9.2/envs/lsst-scipipe-5.1.0/lib/python3.10/site-packages/botocore/handlers.py:285\u001b[0m, in \u001b[0;36mvalidate_bucket_name\u001b[0;34m(params, **kwargs)\u001b[0m\n\u001b[1;32m    279\u001b[0m \u001b[38;5;28;01mif\u001b[39;00m \u001b[38;5;129;01mnot\u001b[39;00m VALID_BUCKET\u001b[38;5;241m.\u001b[39msearch(bucket) \u001b[38;5;129;01mand\u001b[39;00m \u001b[38;5;129;01mnot\u001b[39;00m VALID_S3_ARN\u001b[38;5;241m.\u001b[39msearch(bucket):\n\u001b[1;32m    280\u001b[0m     error_msg \u001b[38;5;241m=\u001b[39m (\n\u001b[1;32m    281\u001b[0m         \u001b[38;5;124mf\u001b[39m\u001b[38;5;124m'\u001b[39m\u001b[38;5;124mInvalid bucket name \u001b[39m\u001b[38;5;124m\"\u001b[39m\u001b[38;5;132;01m{\u001b[39;00mbucket\u001b[38;5;132;01m}\u001b[39;00m\u001b[38;5;124m\"\u001b[39m\u001b[38;5;124m: Bucket name must match \u001b[39m\u001b[38;5;124m'\u001b[39m\n\u001b[1;32m    282\u001b[0m         \u001b[38;5;124mf\u001b[39m\u001b[38;5;124m'\u001b[39m\u001b[38;5;124mthe regex \u001b[39m\u001b[38;5;124m\"\u001b[39m\u001b[38;5;132;01m{\u001b[39;00mVALID_BUCKET\u001b[38;5;241m.\u001b[39mpattern\u001b[38;5;132;01m}\u001b[39;00m\u001b[38;5;124m\"\u001b[39m\u001b[38;5;124m or be an ARN matching \u001b[39m\u001b[38;5;124m'\u001b[39m\n\u001b[1;32m    283\u001b[0m         \u001b[38;5;124mf\u001b[39m\u001b[38;5;124m'\u001b[39m\u001b[38;5;124mthe regex \u001b[39m\u001b[38;5;124m\"\u001b[39m\u001b[38;5;132;01m{\u001b[39;00mVALID_S3_ARN\u001b[38;5;241m.\u001b[39mpattern\u001b[38;5;132;01m}\u001b[39;00m\u001b[38;5;124m\"\u001b[39m\u001b[38;5;124m'\u001b[39m\n\u001b[1;32m    284\u001b[0m     )\n\u001b[0;32m--> 285\u001b[0m     \u001b[38;5;28;01mraise\u001b[39;00m ParamValidationError(report\u001b[38;5;241m=\u001b[39merror_msg)\n",
      "\u001b[0;31mParamValidationError\u001b[0m: Parameter validation failed:\nInvalid bucket name \"rubin:rubinobs-lfa-cp\": Bucket name must match the regex \"^[a-zA-Z0-9.\\-_]{1,255}$\" or be an ARN matching the regex \"^arn:(aws).*:(s3|s3-object-lambda):[a-z\\-0-9]*:[0-9]{12}:accesspoint[/:][a-zA-Z0-9\\-.]{1,63}$|^arn:(aws).*:s3-outposts:[a-z\\-0-9]+:[0-9]{12}:outpost[/:][a-zA-Z0-9\\-]{1,63}[/:]accesspoint[/:][a-zA-Z0-9\\-]{1,63}$\""
     ]
    }
   ],
   "source": [
    "print(f\"Got {len(result)} Large files available since {day} at {loc}\")\n",
    "# KT says we  need this next line\n",
    "os.environ[\"LSST_DISABLE_BUCKET_VALIDATION\"] = \"1\"\n",
    "from lsst.resources import ResourcePath\n",
    "import random\n",
    "for f in range(0,5):\n",
    "   pos = random.randrange(0,len(result))\n",
    "   file_uri = ResourcePath(result.url[pos].replace(\"https://s3.cp.lsst.org/\",\"s3://rubin:\")  )  \n",
    "   print (f\"result[{pos}] {result.url[pos]}\")\n",
    "   print (f\"Access {file_uri}\")\n",
    "   contents = file_uri.read()\n",
    "   print (f\"Object is {len(contents)} bytes. {contents[0:80]}\")\n"
   ]
<<<<<<< HEAD
>>>>>>> c5c8140 ( LFA)
=======
  },
  {
   "cell_type": "markdown",
   "id": "e01a11d5-9b5e-4870-a1d5-7733c737804a",
   "metadata": {},
   "source": [
    "# 3.3 Automated prompt processing\n",
    "Look in butler for products from prompt processing (ISR for AuxTel)"
   ]
  },
  {
   "cell_type": "code",
   "execution_count": 11,
   "id": "cb8b1529-08aa-4e1a-a295-0ce5698c88a1",
   "metadata": {
    "execution": {
     "iopub.execute_input": "2023-05-26T14:57:46.783766Z",
     "iopub.status.busy": "2023-05-26T14:57:46.783462Z",
     "iopub.status.idle": "2023-05-26T14:57:47.893273Z",
     "shell.execute_reply": "2023-05-26T14:57:47.892750Z",
     "shell.execute_reply.started": "2023-05-26T14:57:46.783749Z"
    },
    "tags": []
   },
   "outputs": [],
   "source": [
    "butler = Butler(repo, instrument=instrument)"
   ]
  },
  {
   "cell_type": "code",
   "execution_count": 12,
   "id": "4b27171a-17dd-4d86-af6b-f9328f1e3321",
   "metadata": {
    "execution": {
     "iopub.execute_input": "2023-05-26T14:57:52.847648Z",
     "iopub.status.busy": "2023-05-26T14:57:52.847412Z",
     "iopub.status.idle": "2023-05-26T14:57:52.853126Z",
     "shell.execute_reply": "2023-05-26T14:57:52.852653Z",
     "shell.execute_reply.started": "2023-05-26T14:57:52.847633Z"
    },
    "tags": []
   },
   "outputs": [
    {
     "name": "stdout",
     "output_type": "stream",
     "text": [
      "LATISS/prompt/output-2023-05-24/ApPipe/prompt-proto-service-00026\n",
      "LATISS/prompt/output-2023-05-25/ApPipe/prompt-proto-service-00027\n"
     ]
    }
   ],
   "source": [
    "cols = butler.registry.queryCollections('LATISS/prompt/*')\n",
    "for c in cols:\n",
    "   print(c)"
   ]
  },
  {
   "cell_type": "code",
   "execution_count": 13,
   "id": "986bd16a-b306-4893-a588-953249929372",
   "metadata": {
    "execution": {
     "iopub.execute_input": "2023-05-26T14:58:11.495885Z",
     "iopub.status.busy": "2023-05-26T14:58:11.495529Z",
     "iopub.status.idle": "2023-05-26T14:58:11.498586Z",
     "shell.execute_reply": "2023-05-26T14:58:11.498140Z",
     "shell.execute_reply.started": "2023-05-26T14:58:11.495869Z"
    },
    "tags": []
   },
   "outputs": [],
   "source": [
    "promptcollection = ['LATISS/prompt/output-2023-05-24/ApPipe/prompt-proto-service-00026']"
   ]
  },
  {
   "cell_type": "code",
   "execution_count": 14,
   "id": "05eb6453-57a8-4dbc-bc59-2487ab2e069b",
   "metadata": {
    "execution": {
     "iopub.execute_input": "2023-05-26T14:58:27.202747Z",
     "iopub.status.busy": "2023-05-26T14:58:27.202519Z",
     "iopub.status.idle": "2023-05-26T14:58:27.256351Z",
     "shell.execute_reply": "2023-05-26T14:58:27.255858Z",
     "shell.execute_reply.started": "2023-05-26T14:58:27.202732Z"
    },
    "tags": []
   },
   "outputs": [
    {
     "name": "stdout",
     "output_type": "stream",
     "text": [
      "There are 40 raw in collection: ['LATISS/raw/all'] in: /repo/embargo for exposure.day_obs = 20230523 and exposure.observation_reason = 'object'\n",
      "There are 25 calexp in collection: ['LATISS/prompt/output-2023-05-24/ApPipe/prompt-proto-service-00026'] in: /repo/embargo\n"
     ]
    }
   ],
   "source": [
    "dt='raw'\n",
    "pday='20230523'\n",
    "where=f\"exposure.day_obs = {pday} and exposure.observation_reason = 'object'\"\n",
    "datasetRefs = list(butler.registry.queryDatasets(datasetType=dt,where=where, collections=collections))\n",
    "dtp='calexp'\n",
    "datasetPrompt = list(butler.registry.queryDatasets(datasetType=dtp, collections=promptcollection))\n",
    "\n",
    "print(f\"There are {len(datasetRefs)} {dt} in collection: {collections} in: {repo} for {where}\")\n",
    "print(f\"There are {len(datasetPrompt)} {dtp} in collection: {promptcollection} in: {repo}\")"
   ]
  },
  {
   "cell_type": "code",
   "execution_count": 15,
   "id": "7feb3c4b-17e5-4a55-9cb4-956d564a9198",
   "metadata": {
    "execution": {
     "iopub.execute_input": "2023-05-26T14:58:35.992900Z",
     "iopub.status.busy": "2023-05-26T14:58:35.992673Z",
     "iopub.status.idle": "2023-05-26T14:58:35.996602Z",
     "shell.execute_reply": "2023-05-26T14:58:35.996145Z",
     "shell.execute_reply.started": "2023-05-26T14:58:35.992886Z"
    },
    "tags": []
   },
   "outputs": [],
   "source": [
    "#Make a map of the prompt processed images for look up below .. \n",
    "# we can not always assume this but for this run exposureid = visitid \n",
    "explookup = {}\n",
    "for ref in datasetRefs:\n",
    "    explookup[ref.dataId['exposure']] = ref\n",
    "    \n",
    "pdslookup = {}\n",
    "for ref in datasetPrompt:\n",
    "    pdslookup[ref.dataId['visit']] = explookup[ref.dataId['visit']]\n",
    "    \n",
    "#Now e have the set of exposures whic were processed by prompt processing"
   ]
  },
  {
   "cell_type": "code",
   "execution_count": 38,
   "id": "2502a0e2-db59-47dc-bd07-3b1e6db46285",
   "metadata": {
    "execution": {
     "iopub.execute_input": "2023-05-26T15:33:07.331673Z",
     "iopub.status.busy": "2023-05-26T15:33:07.331312Z",
     "iopub.status.idle": "2023-05-26T15:33:07.409225Z",
     "shell.execute_reply": "2023-05-26T15:33:07.408733Z",
     "shell.execute_reply.started": "2023-05-26T15:33:07.331657Z"
    },
    "tags": []
   },
   "outputs": [
    {
     "name": "stdout",
     "output_type": "stream",
     "text": [
      "Time between shutter close and prompt mean:0.3439384000000305, std:0.22579545918238994, var:0.05098358938738632 minutes\n",
      "The min time was 0.19349045000003784 max time was 0.9423351500001687 minutes for the 40 images\n"
     ]
    }
   ],
   "source": [
    "res = butler.registry.queryDimensionRecords('exposure', where=where, instrument=instrument)\n",
    "# These are the exposues which have a shutter close time.\n",
    "\n",
    "ptimes = []\n",
    "min = 100\n",
    "max = 0\n",
    "for count,dimensionRecord in enumerate(res):\n",
    "    if dimensionRecord.id not in pdslookup:\n",
    "        continue\n",
    "    datasetRef = pdslookup[dimensionRecord.id]\n",
    "    uuid = datasetRef.id\n",
    "    # the ID in the dimesnion record is the exposure ID (dimensionRecord.id)\n",
    "    # the ID in the oga.dataset is the UUID from the datasetRef \n",
    "    # hence the lookup map created in the ell above is used here to lookup the UUID\n",
    "    \n",
    "    q_string = f\"SELECT ingest_date FROM oga.dataset WHERE id='{uuid}'\"\n",
    "    with butler.registry._db.query(sqlalchemy.text(q_string)) as q:\n",
    "        intime = time.Time(q.all()[0][0])\n",
    "        \n",
    "    diff = (intime - dimensionRecord.timespan.end ).to('minute')\n",
    "    if diff.value < min:\n",
    "        min = diff.value\n",
    "    if diff.value > max:\n",
    "        max = diff.value \n",
    "    #print(r.id,r.timespan.end, intime, diff )\n",
    "    ptimes.append(diff.value)\n",
    "    \n",
    "import numpy as np\n",
    "print (f\"Time between shutter close and prompt mean:{np.mean(times)}, std:{np.std(times)}, var:{np.var(times)} minutes\")\n",
    "print (f\"The min time was {min} max time was {max} minutes for the {len(times)} images\")\n",
    "    "
   ]
  },
  {
   "cell_type": "code",
   "execution_count": 39,
   "id": "a0913a2c-4956-4cdb-a740-ed71afa8728a",
   "metadata": {
    "execution": {
     "iopub.execute_input": "2023-05-26T15:33:11.321757Z",
     "iopub.status.busy": "2023-05-26T15:33:11.321533Z",
     "iopub.status.idle": "2023-05-26T15:33:11.504169Z",
     "shell.execute_reply": "2023-05-26T15:33:11.503639Z",
     "shell.execute_reply.started": "2023-05-26T15:33:11.321743Z"
    },
    "tags": []
   },
   "outputs": [
    {
     "data": {
      "image/png": "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\n",
      "text/plain": [
       "<Figure size 640x480 with 1 Axes>"
      ]
     },
     "metadata": {},
     "output_type": "display_data"
    }
   ],
   "source": [
    "import matplotlib.pyplot as plt\n",
    "seconds = list(map(lambda t:t*60.0,ptimes))\n",
    "plt.hist(seconds,bins='auto')\n",
    "plt.title(f\"Shutter close to prompt product ingest times (s) on {pday}\")\n",
    "plt.show()"
   ]
  },
  {
   "cell_type": "markdown",
   "id": "ff09647c-529d-4acb-b5a3-c0a883ecffe9",
   "metadata": {},
   "source": [
    "# 3.4 EFD data available"
   ]
  },
  {
   "cell_type": "code",
   "execution_count": 5,
   "id": "359d4cf0-0566-4b82-ad01-a9ba581e3f1e",
   "metadata": {
    "execution": {
     "iopub.execute_input": "2023-05-19T16:03:34.558154Z",
     "iopub.status.busy": "2023-05-19T16:03:34.557601Z",
     "iopub.status.idle": "2023-05-19T16:03:34.561189Z",
     "shell.execute_reply": "2023-05-19T16:03:34.560764Z",
     "shell.execute_reply.started": "2023-05-19T16:03:34.558138Z"
    },
    "tags": []
   },
   "outputs": [
    {
     "name": "stdout",
     "output_type": "stream",
     "text": [
      "Five topics selected on summit ['lsst.sal.ATPtg.mountPositions', 'lsst.sal.MTAirCompressor.analogData', 'lsst.sal.MTMount.elevationDrives', 'lsst.sal.GIS.logevent_heartbeat']\n",
      "Five older topics selected on summit ['lsst.sal.ATPtg.mountPositions', 'lsst.sal.MTAirCompressor.analogData', 'lsst.sal.GIS.logevent_heartbeat', 'lsst.sal.ESS.lightningStrikeStatus']\n"
     ]
    }
   ],
   "source": [
    "selected_topics=['lsst.sal.ATPtg.mountPositions', 'lsst.sal.MTAirCompressor.analogData', 'lsst.sal.MTMount.elevationDrives', 'lsst.sal.GIS.logevent_heartbeat']\n",
    "older_topics=['lsst.sal.ATPtg.mountPositions', 'lsst.sal.MTAirCompressor.analogData', 'lsst.sal.GIS.logevent_heartbeat', 'lsst.sal.ESS.lightningStrikeStatus']\n",
    "print(f\"Five topics selected on summit {selected_topics}\")\n",
    "print(f\"Five older topics selected on summit {older_topics}\")\n"
   ]
  },
  {
   "cell_type": "code",
   "execution_count": null,
   "id": "d300a9ae-1e55-4af6-94d4-ee9cd7b31096",
   "metadata": {
    "tags": []
   },
   "outputs": [],
   "source": [
    "import pickle\n",
    "results = {}\n",
    "oldday = '2023-05-02'\n",
    "#get test_data files from summit notebook\n",
    "with open('test_data.pickle', 'rb') as file:\n",
    "    results = pickle.load(file)\n",
    "with open('old_test_data.pickle', 'rb') as file:\n",
    "    oldresults = pickle.load(file)\n"
   ]
  },
  {
   "cell_type": "code",
   "execution_count": 63,
   "id": "7e5ef411-7ad1-4529-8ad1-c771ee591102",
   "metadata": {
    "execution": {
     "iopub.execute_input": "2023-05-19T17:31:34.429041Z",
     "iopub.status.busy": "2023-05-19T17:31:34.428825Z",
     "iopub.status.idle": "2023-05-19T17:31:34.432478Z",
     "shell.execute_reply": "2023-05-19T17:31:34.432041Z",
     "shell.execute_reply.started": "2023-05-19T17:31:34.429026Z"
    },
    "tags": []
   },
   "outputs": [],
   "source": [
    "def cmp(topic, result, sresult):\n",
    "   print (f\"{topic} had {len(result)} messages - summit had {len(sresult)}\")\n",
    "   if len(result) != len(sresult):\n",
    "        print (f\"{topic} does not match\")\n",
    "   else:\n",
    "        for k in sresult.keys():\n",
    "            if result[k].all() != sresult[k].all():\n",
    "                print (f\"{topic} {key} does not match\")\n"
   ]
  },
  {
   "cell_type": "code",
   "execution_count": 66,
   "id": "e4107ab2-b5ab-485d-b26b-ed3498566b32",
   "metadata": {
    "execution": {
     "iopub.execute_input": "2023-05-19T17:34:50.969268Z",
     "iopub.status.busy": "2023-05-19T17:34:50.969051Z",
     "iopub.status.idle": "2023-05-19T17:34:51.568831Z",
     "shell.execute_reply": "2023-05-19T17:34:51.568341Z",
     "shell.execute_reply.started": "2023-05-19T17:34:50.969252Z"
    },
    "tags": []
   },
   "outputs": [
    {
     "name": "stdout",
     "output_type": "stream",
     "text": [
      "lsst.sal.ATPtg.mountPositions had 29 messages - summit had 29\n",
      "lsst.sal.MTAirCompressor.analogData had 46 messages - summit had 46\n",
      "lsst.sal.MTMount.elevationDrives had 456 messages - summit had 456\n",
      "lsst.sal.GIS.logevent_heartbeat had 30 messages - summit had 30\n",
      "Older messages\n",
      "lsst.sal.ATPtg.mountPositions had 29 messages - summit had 29\n",
      "lsst.sal.MTAirCompressor.analogData had 46 messages - summit had 46\n",
      "lsst.sal.GIS.logevent_heartbeat had 30 messages - summit had 30\n",
      "lsst.sal.ESS.lightningStrikeStatus had 30 messages - summit had 30\n"
     ]
    }
   ],
   "source": [
    "for topic in selected_topics:\n",
    "   query=f'''SELECT * FROM \"{topic}\" WHERE time >  '{day}T00:00:00.000Z' and time < '{day}T00:00:30.000Z' '''\n",
    "   result = await cl.query(query)\n",
    "   cmp(topic, result, results[topic])\n",
    "print(\"Older messages\")\n",
    "for topic in older_topics:\n",
    "   query=f'''SELECT * FROM \"{topic}\" WHERE time >  '{oldday}T00:00:00.000Z' and time < '{oldday}T00:00:30.000Z' '''\n",
    "   result = await cl.query(query)\n",
    "   cmp(topic, result, oldresults[topic])\n",
    "   \n"
   ]
>>>>>>> 3643075 ( NB update for counting messages and comparing)
  }
 ],
 "metadata": {
  "kernelspec": {
   "display_name": "LSST",
   "language": "python",
   "name": "lsst"
  },
  "language_info": {
   "codemirror_mode": {
    "name": "ipython",
    "version": 3
   },
   "file_extension": ".py",
   "mimetype": "text/x-python",
   "name": "python",
   "nbconvert_exporter": "python",
   "pygments_lexer": "ipython3",
<<<<<<< HEAD
<<<<<<< HEAD
<<<<<<< HEAD
   "version": "3.10.10"
=======
   "version": "3.10.9"
>>>>>>> 1ffffd1 ( notebook for summit)
=======
   "version": "3.10.10"
>>>>>>> 79d9e38 ( Access LFA)
=======
   "version": "3.10.9"
>>>>>>> 3607640 (prompt)
  }
 },
 "nbformat": 4,
 "nbformat_minor": 5
}
