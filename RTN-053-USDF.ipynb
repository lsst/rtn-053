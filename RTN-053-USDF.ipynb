{
 "cells": [
  {
   "cell_type": "markdown",
   "id": "09bfe2c8-6dd1-44b2-8d67-b7d21091d567",
   "metadata": {},
   "source": [
    "# 3.1 Data transferred and ingested in butler and access to data\n",
    "\n",
    "Get the same ras as we did on the summit"
   ]
  },
  {
   "cell_type": "code",
   "execution_count": null,
   "id": "6886f1f9-e461-4cb4-89d3-f1b966cac1b8",
   "metadata": {
    "tags": []
   },
   "outputs": [],
   "source": [
    "from lsst.daf.butler import Butler\n",
    "from lsst.daf.butler.registry import Registry\n",
    "import sqlalchemy\n",
    "\n",
    "repo = '/repo/embargo'\n",
    "instrument = 'LATISS'\n",
    "# raw all colleciton contains all images \n",
    "collections=['LATISS/raw/all']\n",
    "butler = Butler(repo, collections=collections, instrument=instrument)\n"
   ]
  },
  {
   "cell_type": "code",
   "execution_count": null,
   "id": "8af5fe56-7e45-46cb-a33b-47ef5ba6889e",
   "metadata": {
    "tags": []
   },
   "outputs": [],
   "source": [
    "\n",
    "dt='raw'\n",
    "where=\"exposure.day_obs = 20230511\"\n",
    "datasetRefs = list(registry.queryDatasets(datasetType=dt,where=where))\n",
    "\n",
    "print(f\"There are {len(datasetRefs)} {dt} in collection: {collections} in: {repo} for {where}\")\n",
    "\n",
    "count = 0\n",
    "for ref in datasetRefs[0], datasetRefs[-1]:\n",
    "    count = count + 1\n",
    "    print( ref.dataId['detector'], ref.dataId['exposure'])\n",
    "\n"
   ]
  },
  {
   "cell_type": "code",
   "execution_count": null,
   "id": "32609f2b-555d-4865-b1f6-5cb82431ce39",
   "metadata": {
    "tags": []
   },
   "outputs": [],
   "source": [
    "#Make a map of thoose for look up below .. \n",
    "dslookup = {}\n",
    "for ref in datasetRefs:\n",
    "    dslookup[ref.dataId['exposure']] = ref"
   ]
  },
  {
   "cell_type": "markdown",
   "id": "b72217c0-97dc-4f61-8984-6ca32928ce31",
   "metadata": {
    "tags": []
   },
   "source": [
    "### latency ..\n",
    "\"Measure the delays between completion of readout for each image and the ingestion time recorded in the Butler Registry.\"\n",
    "The end of readou is the exposure.timespan.end.\n",
    "Will have to lookup the ingest time usinf a sql query sine is not exposed directly in butler."
   ]
  },
  {
   "cell_type": "code",
   "execution_count": null,
   "id": "b027f428-e386-48a2-8fe1-6b8bcd24ed97",
   "metadata": {
    "tags": []
   },
   "outputs": [],
   "source": [
    "from astropy import time\n",
    "\n",
    "res = butler.registry.queryDimensionRecords('exposure', where=where, instrument=instrument)\n",
    "print (f\"Got Metadata for {res.count()} exposures\")\n",
    "times = []\n",
    "min = 100\n",
    "max = 0\n",
    "for count,dimensionRecord in enumerate(res):\n",
    "    datasetRef = dslookup[dimensionRecord.id]\n",
    "    uuid = datasetRef.id\n",
    "    # the ID in the dimesnion record is the exposure ID (dimensionRecord.id)\n",
    "    # the ID in the oga.dataset is the UUID from the datasetRef \n",
    "    # hence the lookup map created in teh cell above is used here to lookup the UUID\n",
    "    \n",
    "    q_string = f\"SELECT ingest_date FROM oga.dataset WHERE id='{uuid}'\"\n",
    "    with registry._db.query(sqlalchemy.text(q_string)) as q:\n",
    "        intime = time.Time(q.all()[0][0])\n",
    "        \n",
    "    diff = (intime - dimensionRecord.timespan.end ).to('minute')\n",
    "    if diff.value < min:\n",
    "        min = diff.value\n",
    "    if diff.value > max:\n",
    "        max = diff.value \n",
    "    #print(r.id,r.timespan.end, intime, diff )\n",
    "    times.append(diff.value)\n",
    "    \n",
    "import numpy as np\n",
    "print (f\"The min time was {min} max time was {max} minutes\")\n",
    "print (f\"Time between shutter close and ingest mean:{np.mean(times)}, std:{np.std(times)}, var:{np.var(times)} minutes\")"
   ]
  },
  {
   "cell_type": "code",
   "execution_count": null,
   "id": "6531afe4-f48b-4c8b-9a50-bb37f54d1832",
   "metadata": {},
   "outputs": [],
   "source": [
    "#3.2 LFA replication to USDF\n",
    "Look in EFD for events with Large Files.\n",
    "Get a few of the files randomly "
   ]
  },
  {
   "cell_type": "code",
   "execution_count": 2,
   "id": "a374ce36-385f-437c-9753-8abf1ee39cb1",
   "metadata": {
    "execution": {
     "iopub.execute_input": "2023-05-18T18:10:21.442556Z",
     "iopub.status.busy": "2023-05-18T18:10:21.441951Z",
     "iopub.status.idle": "2023-05-18T18:10:21.990131Z",
     "shell.execute_reply": "2023-05-18T18:10:21.989603Z",
     "shell.execute_reply.started": "2023-05-18T18:10:21.442539Z"
    },
    "tags": []
   },
   "outputs": [],
   "source": [
    "from lsst_efd_client import EfdClient, resample\n",
    "loc = 'usdf'\n",
    "\n",
    "client = EfdClient(f'{loc}_efd')  \n",
    "client.output = 'dataframe'\n",
    "cl=client.influx_client\n",
    "day = '2023-04-20'\n",
    "\n",
    "query=f'''SELECT url, id FROM \"lsst.sal.Electrometer.logevent_largeFileObjectAvailable\" WHERE time >  '{day}' '''\n",
    "#query 'SELECT \"url\", \"id\" FROM \"efd\".\"autogen\".\"lsst.sal.Electrometer.logevent_largeFileObjectAvailable\" WHERE \"time\" >  2023-04-20T '\n",
    "result = await cl.query(query)\n"
   ]
  },
  {
   "cell_type": "code",
   "execution_count": 13,
   "id": "7ff4d6d7-dcea-4d91-b0ab-bad8122b3547",
   "metadata": {
    "execution": {
     "iopub.execute_input": "2023-05-18T18:21:19.360887Z",
     "iopub.status.busy": "2023-05-18T18:21:19.360431Z",
     "iopub.status.idle": "2023-05-18T18:21:19.544626Z",
     "shell.execute_reply": "2023-05-18T18:21:19.544118Z",
     "shell.execute_reply.started": "2023-05-18T18:21:19.360870Z"
    },
    "tags": []
   },
   "outputs": [
    {
     "name": "stdout",
     "output_type": "stream",
     "text": [
      "Got 173 Large files availble since 2023-04-20 at usdf\n",
      "result[168] https://s3.cp.lsst.org/rubinobs-lfa-cp/Electrometer:201/fits/2023/05/02/Electrometer:201_fits_2023-05-03T01:57:36.248.fits\n",
      "Access s3://rubin:rubinobs-lfa-cp/Electrometer:201/fits/2023/05/02/Electrometer:201_fits_2023-05-03T01:57:36.248.fits\n",
      "Object is 8640 bytes. b'SIMPLE  =                    T / conforms to FITS standard                      '\n",
      "result[51] https://s3.cp.lsst.org/rubinobs-lfa-cp/Electrometer:201/fits/2023/05/02/Electrometer:201_fits_2023-05-02T23:45:47.304.fits\n",
      "Access s3://rubin:rubinobs-lfa-cp/Electrometer:201/fits/2023/05/02/Electrometer:201_fits_2023-05-02T23:45:47.304.fits\n",
      "Object is 8640 bytes. b'SIMPLE  =                    T / conforms to FITS standard                      '\n",
      "result[73] https://s3.cp.lsst.org/rubinobs-lfa-cp/Electrometer:201/fits/2023/05/02/Electrometer:201_fits_2023-05-03T00:11:00.247.fits\n",
      "Access s3://rubin:rubinobs-lfa-cp/Electrometer:201/fits/2023/05/02/Electrometer:201_fits_2023-05-03T00:11:00.247.fits\n",
      "Object is 8640 bytes. b'SIMPLE  =                    T / conforms to FITS standard                      '\n",
      "result[47] https://s3.cp.lsst.org/rubinobs-lfa-cp/Electrometer:201/fits/2023/05/02/Electrometer:201_fits_2023-05-02T23:41:17.827.fits\n",
      "Access s3://rubin:rubinobs-lfa-cp/Electrometer:201/fits/2023/05/02/Electrometer:201_fits_2023-05-02T23:41:17.827.fits\n",
      "Object is 8640 bytes. b'SIMPLE  =                    T / conforms to FITS standard                      '\n",
      "result[121] https://s3.cp.lsst.org/rubinobs-lfa-cp/Electrometer:201/fits/2023/05/02/Electrometer:201_fits_2023-05-03T01:05:01.560.fits\n",
      "Access s3://rubin:rubinobs-lfa-cp/Electrometer:201/fits/2023/05/02/Electrometer:201_fits_2023-05-03T01:05:01.560.fits\n",
      "Object is 8640 bytes. b'SIMPLE  =                    T / conforms to FITS standard                      '\n"
     ]
    }
   ],
   "source": [
    "print(f\"Got {len(result)} Large files availble since {day} at {loc}\")\n",
    "# KT says we  need this next line\n",
    "os.environ[\"LSST_DISABLE_BUCKET_VALIDATION\"] = \"1\"\n",
    "from lsst.resources import ResourcePath\n",
    "import random\n",
    "for f in range(0,5):\n",
    "   pos = random.randrange(0,len(result))\n",
    "   file_uri = ResourcePath(result.url[pos].replace(\"https://s3.cp.lsst.org/\",\"s3://rubin:\")  )  \n",
    "   print (f\"result[{pos}] {result.url[pos]}\")\n",
    "   print (f\"Access {file_uri}\")\n",
    "   contents = file_uri.read()\n",
    "   print (f\"Object is {len(contents)} bytes. {contents[0:80]}\")\n"
   ]
  }
 ],
 "metadata": {
  "kernelspec": {
   "display_name": "LSST",
   "language": "python",
   "name": "lsst"
  },
  "language_info": {
   "codemirror_mode": {
    "name": "ipython",
    "version": 3
   },
   "file_extension": ".py",
   "mimetype": "text/x-python",
   "name": "python",
   "nbconvert_exporter": "python",
   "pygments_lexer": "ipython3",
   "version": "3.10.10"
  }
 },
 "nbformat": 4,
 "nbformat_minor": 5
}
